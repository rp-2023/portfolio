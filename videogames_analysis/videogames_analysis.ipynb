{
 "cells": [
  {
   "cell_type": "markdown",
   "metadata": {},
   "source": [
    "**ИССЛЕДОВАНИЕ ИСТОРИЧЕСКИХ ДАННЫХ О ПРОДАЖАХ ВИДЕОИГР**"
   ]
  },
  {
   "cell_type": "markdown",
   "metadata": {},
   "source": [
    "**Общее описание проекта**\n",
    "\n",
    "Проект включает в себя исследование собранной из открытых источников базы данных о продажах видеоигр за период с 1980 по 2016 год. Целью исследования является определение закономерностей, влияющих на коммерческую успешность игры, и предоставление специалистам по маркетингу выводов и рекомендаций на основе этих закономерностей.\n",
    "\n",
    "Этапы проработки проекта:\n",
    "\n",
    "1. Обзор данных:\n",
    "- изучена общая информация о базе данных\n",
    "2. Предобработка данных:\n",
    "- устранены дубликаты\n",
    "- устранены пропуски\n",
    "- параметры преведены к типам данных, удобных для исследования, введены новые параметры\n",
    "3. Исследовательский анализ данных:\n",
    "- исследованы частотные характеристики параметров объявлений\n",
    "- выявлены взаимосвязи этих характеристик с рыночной ценой объекта\n",
    "4. Определение портрета пользователя:\n",
    "- определена популярность игровых платформ, в зависимости от региона продаж\n",
    "- определена популярность игровых жанров, в зависимости от региона продаж\n",
    "- определена взаимосвязь продаж и возрастного рейтинга игр, в зависимости от региона продаж\n",
    "5. Проверка гипотез:\n",
    "- проверены предположения о равенстве и различии продаж в отдельных категориях"
   ]
  },
  {
   "cell_type": "markdown",
   "metadata": {},
   "source": [
    "### Обзор данных"
   ]
  },
  {
   "cell_type": "code",
   "execution_count": 1,
   "metadata": {},
   "outputs": [],
   "source": [
    "# импорт библиотек\n",
    "import pandas as pd\n",
    "import numpy as np\n",
    "import matplotlib.pyplot as plt\n",
    "import seaborn as sns\n",
    "from scipy import stats as st\n",
    "import warnings"
   ]
  },
  {
   "cell_type": "code",
   "execution_count": 2,
   "metadata": {},
   "outputs": [],
   "source": [
    "# загрузка датасета\n",
    "data = pd.read_csv('/datasets/games.csv')"
   ]
  },
  {
   "cell_type": "code",
   "execution_count": 3,
   "metadata": {},
   "outputs": [
    {
     "name": "stdout",
     "output_type": "stream",
     "text": [
      "<class 'pandas.core.frame.DataFrame'>\n",
      "RangeIndex: 16715 entries, 0 to 16714\n",
      "Data columns (total 11 columns):\n",
      " #   Column           Non-Null Count  Dtype  \n",
      "---  ------           --------------  -----  \n",
      " 0   Name             16713 non-null  object \n",
      " 1   Platform         16715 non-null  object \n",
      " 2   Year_of_Release  16446 non-null  float64\n",
      " 3   Genre            16713 non-null  object \n",
      " 4   NA_sales         16715 non-null  float64\n",
      " 5   EU_sales         16715 non-null  float64\n",
      " 6   JP_sales         16715 non-null  float64\n",
      " 7   Other_sales      16715 non-null  float64\n",
      " 8   Critic_Score     8137 non-null   float64\n",
      " 9   User_Score       10014 non-null  object \n",
      " 10  Rating           9949 non-null   object \n",
      "dtypes: float64(6), object(5)\n",
      "memory usage: 1.4+ MB\n"
     ]
    }
   ],
   "source": [
    "# обзор датасета\n",
    "data.info()"
   ]
  },
  {
   "cell_type": "code",
   "execution_count": 4,
   "metadata": {},
   "outputs": [
    {
     "data": {
      "text/html": [
       "<div>\n",
       "<style scoped>\n",
       "    .dataframe tbody tr th:only-of-type {\n",
       "        vertical-align: middle;\n",
       "    }\n",
       "\n",
       "    .dataframe tbody tr th {\n",
       "        vertical-align: top;\n",
       "    }\n",
       "\n",
       "    .dataframe thead th {\n",
       "        text-align: right;\n",
       "    }\n",
       "</style>\n",
       "<table border=\"1\" class=\"dataframe\">\n",
       "  <thead>\n",
       "    <tr style=\"text-align: right;\">\n",
       "      <th></th>\n",
       "      <th>Name</th>\n",
       "      <th>Platform</th>\n",
       "      <th>Year_of_Release</th>\n",
       "      <th>Genre</th>\n",
       "      <th>NA_sales</th>\n",
       "      <th>EU_sales</th>\n",
       "      <th>JP_sales</th>\n",
       "      <th>Other_sales</th>\n",
       "      <th>Critic_Score</th>\n",
       "      <th>User_Score</th>\n",
       "      <th>Rating</th>\n",
       "    </tr>\n",
       "  </thead>\n",
       "  <tbody>\n",
       "    <tr>\n",
       "      <th>0</th>\n",
       "      <td>Wii Sports</td>\n",
       "      <td>Wii</td>\n",
       "      <td>2006.0</td>\n",
       "      <td>Sports</td>\n",
       "      <td>41.36</td>\n",
       "      <td>28.96</td>\n",
       "      <td>3.77</td>\n",
       "      <td>8.45</td>\n",
       "      <td>76.0</td>\n",
       "      <td>8</td>\n",
       "      <td>E</td>\n",
       "    </tr>\n",
       "    <tr>\n",
       "      <th>1</th>\n",
       "      <td>Super Mario Bros.</td>\n",
       "      <td>NES</td>\n",
       "      <td>1985.0</td>\n",
       "      <td>Platform</td>\n",
       "      <td>29.08</td>\n",
       "      <td>3.58</td>\n",
       "      <td>6.81</td>\n",
       "      <td>0.77</td>\n",
       "      <td>NaN</td>\n",
       "      <td>NaN</td>\n",
       "      <td>NaN</td>\n",
       "    </tr>\n",
       "    <tr>\n",
       "      <th>2</th>\n",
       "      <td>Mario Kart Wii</td>\n",
       "      <td>Wii</td>\n",
       "      <td>2008.0</td>\n",
       "      <td>Racing</td>\n",
       "      <td>15.68</td>\n",
       "      <td>12.76</td>\n",
       "      <td>3.79</td>\n",
       "      <td>3.29</td>\n",
       "      <td>82.0</td>\n",
       "      <td>8.3</td>\n",
       "      <td>E</td>\n",
       "    </tr>\n",
       "    <tr>\n",
       "      <th>3</th>\n",
       "      <td>Wii Sports Resort</td>\n",
       "      <td>Wii</td>\n",
       "      <td>2009.0</td>\n",
       "      <td>Sports</td>\n",
       "      <td>15.61</td>\n",
       "      <td>10.93</td>\n",
       "      <td>3.28</td>\n",
       "      <td>2.95</td>\n",
       "      <td>80.0</td>\n",
       "      <td>8</td>\n",
       "      <td>E</td>\n",
       "    </tr>\n",
       "    <tr>\n",
       "      <th>4</th>\n",
       "      <td>Pokemon Red/Pokemon Blue</td>\n",
       "      <td>GB</td>\n",
       "      <td>1996.0</td>\n",
       "      <td>Role-Playing</td>\n",
       "      <td>11.27</td>\n",
       "      <td>8.89</td>\n",
       "      <td>10.22</td>\n",
       "      <td>1.00</td>\n",
       "      <td>NaN</td>\n",
       "      <td>NaN</td>\n",
       "      <td>NaN</td>\n",
       "    </tr>\n",
       "    <tr>\n",
       "      <th>5</th>\n",
       "      <td>Tetris</td>\n",
       "      <td>GB</td>\n",
       "      <td>1989.0</td>\n",
       "      <td>Puzzle</td>\n",
       "      <td>23.20</td>\n",
       "      <td>2.26</td>\n",
       "      <td>4.22</td>\n",
       "      <td>0.58</td>\n",
       "      <td>NaN</td>\n",
       "      <td>NaN</td>\n",
       "      <td>NaN</td>\n",
       "    </tr>\n",
       "    <tr>\n",
       "      <th>6</th>\n",
       "      <td>New Super Mario Bros.</td>\n",
       "      <td>DS</td>\n",
       "      <td>2006.0</td>\n",
       "      <td>Platform</td>\n",
       "      <td>11.28</td>\n",
       "      <td>9.14</td>\n",
       "      <td>6.50</td>\n",
       "      <td>2.88</td>\n",
       "      <td>89.0</td>\n",
       "      <td>8.5</td>\n",
       "      <td>E</td>\n",
       "    </tr>\n",
       "    <tr>\n",
       "      <th>7</th>\n",
       "      <td>Wii Play</td>\n",
       "      <td>Wii</td>\n",
       "      <td>2006.0</td>\n",
       "      <td>Misc</td>\n",
       "      <td>13.96</td>\n",
       "      <td>9.18</td>\n",
       "      <td>2.93</td>\n",
       "      <td>2.84</td>\n",
       "      <td>58.0</td>\n",
       "      <td>6.6</td>\n",
       "      <td>E</td>\n",
       "    </tr>\n",
       "    <tr>\n",
       "      <th>8</th>\n",
       "      <td>New Super Mario Bros. Wii</td>\n",
       "      <td>Wii</td>\n",
       "      <td>2009.0</td>\n",
       "      <td>Platform</td>\n",
       "      <td>14.44</td>\n",
       "      <td>6.94</td>\n",
       "      <td>4.70</td>\n",
       "      <td>2.24</td>\n",
       "      <td>87.0</td>\n",
       "      <td>8.4</td>\n",
       "      <td>E</td>\n",
       "    </tr>\n",
       "    <tr>\n",
       "      <th>9</th>\n",
       "      <td>Duck Hunt</td>\n",
       "      <td>NES</td>\n",
       "      <td>1984.0</td>\n",
       "      <td>Shooter</td>\n",
       "      <td>26.93</td>\n",
       "      <td>0.63</td>\n",
       "      <td>0.28</td>\n",
       "      <td>0.47</td>\n",
       "      <td>NaN</td>\n",
       "      <td>NaN</td>\n",
       "      <td>NaN</td>\n",
       "    </tr>\n",
       "  </tbody>\n",
       "</table>\n",
       "</div>"
      ],
      "text/plain": [
       "                        Name Platform  Year_of_Release         Genre  \\\n",
       "0                 Wii Sports      Wii           2006.0        Sports   \n",
       "1          Super Mario Bros.      NES           1985.0      Platform   \n",
       "2             Mario Kart Wii      Wii           2008.0        Racing   \n",
       "3          Wii Sports Resort      Wii           2009.0        Sports   \n",
       "4   Pokemon Red/Pokemon Blue       GB           1996.0  Role-Playing   \n",
       "5                     Tetris       GB           1989.0        Puzzle   \n",
       "6      New Super Mario Bros.       DS           2006.0      Platform   \n",
       "7                   Wii Play      Wii           2006.0          Misc   \n",
       "8  New Super Mario Bros. Wii      Wii           2009.0      Platform   \n",
       "9                  Duck Hunt      NES           1984.0       Shooter   \n",
       "\n",
       "   NA_sales  EU_sales  JP_sales  Other_sales  Critic_Score User_Score Rating  \n",
       "0     41.36     28.96      3.77         8.45          76.0          8      E  \n",
       "1     29.08      3.58      6.81         0.77           NaN        NaN    NaN  \n",
       "2     15.68     12.76      3.79         3.29          82.0        8.3      E  \n",
       "3     15.61     10.93      3.28         2.95          80.0          8      E  \n",
       "4     11.27      8.89     10.22         1.00           NaN        NaN    NaN  \n",
       "5     23.20      2.26      4.22         0.58           NaN        NaN    NaN  \n",
       "6     11.28      9.14      6.50         2.88          89.0        8.5      E  \n",
       "7     13.96      9.18      2.93         2.84          58.0        6.6      E  \n",
       "8     14.44      6.94      4.70         2.24          87.0        8.4      E  \n",
       "9     26.93      0.63      0.28         0.47           NaN        NaN    NaN  "
      ]
     },
     "metadata": {},
     "output_type": "display_data"
    }
   ],
   "source": [
    "#display(data.describe())\n",
    "display(data.head(10))"
   ]
  },
  {
   "cell_type": "markdown",
   "metadata": {},
   "source": [
    "- названия столбцов в смешанном регистре\n",
    "- есть пропуски в столбцах Name, Year_of_Release, Genre, Critic_Score, User_Score, Rating\n",
    "- год выпуска имеет неверный тип данных\n",
    "- оценка пользователей имеет неверный тип данных"
   ]
  },
  {
   "cell_type": "code",
   "execution_count": 5,
   "metadata": {},
   "outputs": [
    {
     "data": {
      "text/plain": [
       "Index(['name', 'platform', 'year_of_release', 'genre', 'na_sales', 'eu_sales',\n",
       "       'jp_sales', 'other_sales', 'critic_score', 'user_score', 'rating'],\n",
       "      dtype='object')"
      ]
     },
     "execution_count": 5,
     "metadata": {},
     "output_type": "execute_result"
    }
   ],
   "source": [
    "# корректировка названий столбцов\n",
    "for col in data.columns:\n",
    "    data = data.rename(columns={col: col.lower()})\n",
    "    \n",
    "data.columns"
   ]
  },
  {
   "cell_type": "markdown",
   "metadata": {},
   "source": [
    "### Предобработка данных"
   ]
  },
  {
   "cell_type": "markdown",
   "metadata": {},
   "source": [
    "**обработка пропусков**\n",
    "\n",
    "возможные причины пропусков:\n",
    "- все: техническая ошибка\n",
    "- оценки: отсутствие баз данных по оценкам для игр, выпущенных до определённого года; отсутствие интереса к игре\n",
    "- рейтинг: отсутвие требований по возрастной маркировке игр до определённого года"
   ]
  },
  {
   "cell_type": "code",
   "execution_count": 6,
   "metadata": {},
   "outputs": [
    {
     "data": {
      "text/plain": [
       "name                0.011965\n",
       "platform            0.000000\n",
       "year_of_release     1.609333\n",
       "genre               0.011965\n",
       "na_sales            0.000000\n",
       "eu_sales            0.000000\n",
       "jp_sales            0.000000\n",
       "other_sales         0.000000\n",
       "critic_score       51.319174\n",
       "user_score         40.089740\n",
       "rating             40.478612\n",
       "dtype: float64"
      ]
     },
     "execution_count": 6,
     "metadata": {},
     "output_type": "execute_result"
    }
   ],
   "source": [
    "# пропусков всего\n",
    "data.isna().apply(lambda val: (sum(val)/len(data))*100)"
   ]
  },
  {
   "cell_type": "code",
   "execution_count": 7,
   "metadata": {},
   "outputs": [
    {
     "name": "stdout",
     "output_type": "stream",
     "text": [
      "0\n"
     ]
    }
   ],
   "source": [
    "# обработка пропусков в столбце year_of_release\n",
    "\n",
    "# проверим, есть ли у какого-либо года дробная часть\n",
    "print(data.loc[data['year_of_release'] % 1 > 0, 'year_of_release'].count())\n",
    "\n",
    "# пропусков по году не более 2% и их сложно заполнить, удалим эти записи\n",
    "data = data.dropna(subset=['year_of_release'])"
   ]
  },
  {
   "cell_type": "code",
   "execution_count": 8,
   "metadata": {},
   "outputs": [],
   "source": [
    "# обработка пропусков в столбце name\n",
    "\n",
    "# название не важно для исследования, заменим на условное\n",
    "data['name'] = data['name'].fillna('default_name')"
   ]
  },
  {
   "cell_type": "code",
   "execution_count": 9,
   "metadata": {},
   "outputs": [],
   "source": [
    "# обработка пропусков в столце genre\n",
    "\n",
    "# пропусков по жанру менее 1% и их сложно заполнить, удалим эти записи для экономии времени\n",
    "data = data.dropna(subset=['genre'])"
   ]
  },
  {
   "cell_type": "markdown",
   "metadata": {},
   "source": [
    "- обработка пропусков в столбце critic_score"
   ]
  },
  {
   "cell_type": "code",
   "execution_count": 10,
   "metadata": {},
   "outputs": [
    {
     "data": {
      "text/html": [
       "<div>\n",
       "<style scoped>\n",
       "    .dataframe tbody tr th:only-of-type {\n",
       "        vertical-align: middle;\n",
       "    }\n",
       "\n",
       "    .dataframe tbody tr th {\n",
       "        vertical-align: top;\n",
       "    }\n",
       "\n",
       "    .dataframe thead th {\n",
       "        text-align: right;\n",
       "    }\n",
       "</style>\n",
       "<table border=\"1\" class=\"dataframe\">\n",
       "  <thead>\n",
       "    <tr style=\"text-align: right;\">\n",
       "      <th></th>\n",
       "      <th>critic_score</th>\n",
       "      <th>name</th>\n",
       "    </tr>\n",
       "    <tr>\n",
       "      <th>year_of_release</th>\n",
       "      <th></th>\n",
       "      <th></th>\n",
       "    </tr>\n",
       "  </thead>\n",
       "  <tbody>\n",
       "    <tr>\n",
       "      <th>1980.0</th>\n",
       "      <td>0</td>\n",
       "      <td>9</td>\n",
       "    </tr>\n",
       "    <tr>\n",
       "      <th>1981.0</th>\n",
       "      <td>0</td>\n",
       "      <td>46</td>\n",
       "    </tr>\n",
       "    <tr>\n",
       "      <th>1982.0</th>\n",
       "      <td>0</td>\n",
       "      <td>36</td>\n",
       "    </tr>\n",
       "    <tr>\n",
       "      <th>1983.0</th>\n",
       "      <td>0</td>\n",
       "      <td>17</td>\n",
       "    </tr>\n",
       "    <tr>\n",
       "      <th>1984.0</th>\n",
       "      <td>0</td>\n",
       "      <td>14</td>\n",
       "    </tr>\n",
       "    <tr>\n",
       "      <th>1985.0</th>\n",
       "      <td>1</td>\n",
       "      <td>14</td>\n",
       "    </tr>\n",
       "    <tr>\n",
       "      <th>1986.0</th>\n",
       "      <td>0</td>\n",
       "      <td>21</td>\n",
       "    </tr>\n",
       "    <tr>\n",
       "      <th>1987.0</th>\n",
       "      <td>0</td>\n",
       "      <td>16</td>\n",
       "    </tr>\n",
       "    <tr>\n",
       "      <th>1988.0</th>\n",
       "      <td>1</td>\n",
       "      <td>15</td>\n",
       "    </tr>\n",
       "    <tr>\n",
       "      <th>1989.0</th>\n",
       "      <td>0</td>\n",
       "      <td>17</td>\n",
       "    </tr>\n",
       "    <tr>\n",
       "      <th>1990.0</th>\n",
       "      <td>0</td>\n",
       "      <td>16</td>\n",
       "    </tr>\n",
       "    <tr>\n",
       "      <th>1991.0</th>\n",
       "      <td>0</td>\n",
       "      <td>41</td>\n",
       "    </tr>\n",
       "    <tr>\n",
       "      <th>1992.0</th>\n",
       "      <td>1</td>\n",
       "      <td>43</td>\n",
       "    </tr>\n",
       "    <tr>\n",
       "      <th>1993.0</th>\n",
       "      <td>0</td>\n",
       "      <td>60</td>\n",
       "    </tr>\n",
       "    <tr>\n",
       "      <th>1994.0</th>\n",
       "      <td>1</td>\n",
       "      <td>121</td>\n",
       "    </tr>\n",
       "    <tr>\n",
       "      <th>1995.0</th>\n",
       "      <td>0</td>\n",
       "      <td>219</td>\n",
       "    </tr>\n",
       "    <tr>\n",
       "      <th>1996.0</th>\n",
       "      <td>8</td>\n",
       "      <td>263</td>\n",
       "    </tr>\n",
       "    <tr>\n",
       "      <th>1997.0</th>\n",
       "      <td>17</td>\n",
       "      <td>289</td>\n",
       "    </tr>\n",
       "    <tr>\n",
       "      <th>1998.0</th>\n",
       "      <td>28</td>\n",
       "      <td>379</td>\n",
       "    </tr>\n",
       "    <tr>\n",
       "      <th>1999.0</th>\n",
       "      <td>39</td>\n",
       "      <td>338</td>\n",
       "    </tr>\n",
       "    <tr>\n",
       "      <th>2000.0</th>\n",
       "      <td>143</td>\n",
       "      <td>350</td>\n",
       "    </tr>\n",
       "    <tr>\n",
       "      <th>2001.0</th>\n",
       "      <td>326</td>\n",
       "      <td>482</td>\n",
       "    </tr>\n",
       "    <tr>\n",
       "      <th>2002.0</th>\n",
       "      <td>627</td>\n",
       "      <td>829</td>\n",
       "    </tr>\n",
       "    <tr>\n",
       "      <th>2003.0</th>\n",
       "      <td>585</td>\n",
       "      <td>775</td>\n",
       "    </tr>\n",
       "    <tr>\n",
       "      <th>2004.0</th>\n",
       "      <td>561</td>\n",
       "      <td>762</td>\n",
       "    </tr>\n",
       "    <tr>\n",
       "      <th>2005.0</th>\n",
       "      <td>655</td>\n",
       "      <td>939</td>\n",
       "    </tr>\n",
       "    <tr>\n",
       "      <th>2006.0</th>\n",
       "      <td>620</td>\n",
       "      <td>1006</td>\n",
       "    </tr>\n",
       "    <tr>\n",
       "      <th>2007.0</th>\n",
       "      <td>692</td>\n",
       "      <td>1197</td>\n",
       "    </tr>\n",
       "    <tr>\n",
       "      <th>2008.0</th>\n",
       "      <td>715</td>\n",
       "      <td>1427</td>\n",
       "    </tr>\n",
       "    <tr>\n",
       "      <th>2009.0</th>\n",
       "      <td>651</td>\n",
       "      <td>1426</td>\n",
       "    </tr>\n",
       "    <tr>\n",
       "      <th>2010.0</th>\n",
       "      <td>500</td>\n",
       "      <td>1255</td>\n",
       "    </tr>\n",
       "    <tr>\n",
       "      <th>2011.0</th>\n",
       "      <td>500</td>\n",
       "      <td>1136</td>\n",
       "    </tr>\n",
       "    <tr>\n",
       "      <th>2012.0</th>\n",
       "      <td>321</td>\n",
       "      <td>653</td>\n",
       "    </tr>\n",
       "    <tr>\n",
       "      <th>2013.0</th>\n",
       "      <td>273</td>\n",
       "      <td>544</td>\n",
       "    </tr>\n",
       "    <tr>\n",
       "      <th>2014.0</th>\n",
       "      <td>261</td>\n",
       "      <td>581</td>\n",
       "    </tr>\n",
       "    <tr>\n",
       "      <th>2015.0</th>\n",
       "      <td>225</td>\n",
       "      <td>606</td>\n",
       "    </tr>\n",
       "    <tr>\n",
       "      <th>2016.0</th>\n",
       "      <td>232</td>\n",
       "      <td>502</td>\n",
       "    </tr>\n",
       "  </tbody>\n",
       "</table>\n",
       "</div>"
      ],
      "text/plain": [
       "                 critic_score  name\n",
       "year_of_release                    \n",
       "1980.0                      0     9\n",
       "1981.0                      0    46\n",
       "1982.0                      0    36\n",
       "1983.0                      0    17\n",
       "1984.0                      0    14\n",
       "1985.0                      1    14\n",
       "1986.0                      0    21\n",
       "1987.0                      0    16\n",
       "1988.0                      1    15\n",
       "1989.0                      0    17\n",
       "1990.0                      0    16\n",
       "1991.0                      0    41\n",
       "1992.0                      1    43\n",
       "1993.0                      0    60\n",
       "1994.0                      1   121\n",
       "1995.0                      0   219\n",
       "1996.0                      8   263\n",
       "1997.0                     17   289\n",
       "1998.0                     28   379\n",
       "1999.0                     39   338\n",
       "2000.0                    143   350\n",
       "2001.0                    326   482\n",
       "2002.0                    627   829\n",
       "2003.0                    585   775\n",
       "2004.0                    561   762\n",
       "2005.0                    655   939\n",
       "2006.0                    620  1006\n",
       "2007.0                    692  1197\n",
       "2008.0                    715  1427\n",
       "2009.0                    651  1426\n",
       "2010.0                    500  1255\n",
       "2011.0                    500  1136\n",
       "2012.0                    321   653\n",
       "2013.0                    273   544\n",
       "2014.0                    261   581\n",
       "2015.0                    225   606\n",
       "2016.0                    232   502"
      ]
     },
     "metadata": {},
     "output_type": "display_data"
    },
    {
     "name": "stdout",
     "output_type": "stream",
     "text": [
      "Доля пропусков до 2000 года: 0.11420578934565799\n"
     ]
    }
   ],
   "source": [
    "# сопоставление доли пропусков и года выпуска \n",
    "\n",
    "display(data[['year_of_release', 'critic_score', 'name']].groupby(by='year_of_release').count())\n",
    "\n",
    "print('Доля пропусков до 2000 года:', \n",
    "      data.loc[data['year_of_release'] < 2000, 'critic_score'].isna().sum() / data['critic_score'].shape[0])"
   ]
  },
  {
   "cell_type": "markdown",
   "metadata": {},
   "source": [
    "Оценки критиков были всегда, но до 1999 их количество было незначительным, хотя и самих игр было немного."
   ]
  },
  {
   "cell_type": "code",
   "execution_count": 11,
   "metadata": {},
   "outputs": [],
   "source": [
    "#pd.options.mode.chained_assignment = None # отключаем предупреждения\n",
    "warnings.simplefilter('ignore', category=RuntimeWarning) # временно отключаем предупереждения\n",
    "\n",
    "column_to_fill = 'critic_score'\n",
    "# через apply\n",
    "def score_fill(row):\n",
    "    \n",
    "    # если значение не NaN, возвращаем его обратно\n",
    "    if not np.isnan(row[column_to_fill]):\n",
    "        return row[column_to_fill]\n",
    "    \n",
    "    # минимальный размер условной выборки заполненных оценок\n",
    "    min_count = 30\n",
    "    \n",
    "    year = row['year_of_release']\n",
    "    platform = row['platform']\n",
    "    genre = row['genre']\n",
    "    \n",
    "    # все оценки сочетания платформа-жанр за год\n",
    "    scores_1 = data.loc[(data['year_of_release'] == year) &\n",
    "                        (data['platform'] == platform) &\n",
    "                        (data['genre'] == genre) &\n",
    "                        (data[column_to_fill].notna().sum() >= min_count),\n",
    "                        column_to_fill]\n",
    "            \n",
    "    # все оценки данной платформы за год\n",
    "    scores_2 = data.loc[(data['year_of_release'] == year) &\n",
    "                        (data['platform'] == platform) &\n",
    "                        (data[column_to_fill].notna().sum() >= min_count),\n",
    "                        column_to_fill]\n",
    "            \n",
    "    # все оценки данного жанра за год\n",
    "    scores_3 = data.loc[(data['year_of_release'] == year) &\n",
    "                        (data['genre'] == genre) &\n",
    "                        (data[column_to_fill].notna().sum() >= min_count),\n",
    "                        column_to_fill]\n",
    "        \n",
    "    if not scores_1.empty:\n",
    "        # если за год есть оценки для сочетания платформа-жанр, заполняем медианой именно для такого сочетания\n",
    "        return scores_1.median()\n",
    "    \n",
    "    elif not scores_2.empty and not scores_3.empty:         \n",
    "        # иначе если за год есть оценки для данной платформы и есть оценки для данного жанра,\n",
    "        # заполняем усреднённым значением медианных оценок платформы и жанра\n",
    "        return (scores_2.median() + scores_3.median()) / 2\n",
    "                \n",
    "    elif not scores_2.empty:\n",
    "        # иначе если за год есть оценки только для платформы, заполняем медианой для платформы\n",
    "        return scores_2.median()\n",
    "                \n",
    "    elif not scores_3.empty:\n",
    "        # иначе если за год есть оценки только для жанра, заполняем медианой для платформы\n",
    "        return scores_2.median()\n",
    "    \n",
    "    else:\n",
    "        # иначе если за год нет никаких оценок ни для данной платформы ни для жанра, оставляем NaN\n",
    "        return np.nan\n",
    "\n",
    "data['critic_score_new'] = data.apply(score_fill, axis=1)\n",
    "warnings.simplefilter('default', category=RuntimeWarning) # включаем предупреждения обратно"
   ]
  },
  {
   "cell_type": "markdown",
   "metadata": {},
   "source": [
    "- обработка пропусков в столце user_score"
   ]
  },
  {
   "cell_type": "code",
   "execution_count": 12,
   "metadata": {},
   "outputs": [
    {
     "data": {
      "text/html": [
       "<div>\n",
       "<style scoped>\n",
       "    .dataframe tbody tr th:only-of-type {\n",
       "        vertical-align: middle;\n",
       "    }\n",
       "\n",
       "    .dataframe tbody tr th {\n",
       "        vertical-align: top;\n",
       "    }\n",
       "\n",
       "    .dataframe thead th {\n",
       "        text-align: right;\n",
       "    }\n",
       "</style>\n",
       "<table border=\"1\" class=\"dataframe\">\n",
       "  <thead>\n",
       "    <tr style=\"text-align: right;\">\n",
       "      <th></th>\n",
       "      <th>user_score</th>\n",
       "      <th>name</th>\n",
       "    </tr>\n",
       "    <tr>\n",
       "      <th>year_of_release</th>\n",
       "      <th></th>\n",
       "      <th></th>\n",
       "    </tr>\n",
       "  </thead>\n",
       "  <tbody>\n",
       "    <tr>\n",
       "      <th>1980.0</th>\n",
       "      <td>0</td>\n",
       "      <td>9</td>\n",
       "    </tr>\n",
       "    <tr>\n",
       "      <th>1981.0</th>\n",
       "      <td>0</td>\n",
       "      <td>46</td>\n",
       "    </tr>\n",
       "    <tr>\n",
       "      <th>1982.0</th>\n",
       "      <td>0</td>\n",
       "      <td>36</td>\n",
       "    </tr>\n",
       "    <tr>\n",
       "      <th>1983.0</th>\n",
       "      <td>0</td>\n",
       "      <td>17</td>\n",
       "    </tr>\n",
       "    <tr>\n",
       "      <th>1984.0</th>\n",
       "      <td>0</td>\n",
       "      <td>14</td>\n",
       "    </tr>\n",
       "    <tr>\n",
       "      <th>1985.0</th>\n",
       "      <td>1</td>\n",
       "      <td>14</td>\n",
       "    </tr>\n",
       "    <tr>\n",
       "      <th>1986.0</th>\n",
       "      <td>0</td>\n",
       "      <td>21</td>\n",
       "    </tr>\n",
       "    <tr>\n",
       "      <th>1987.0</th>\n",
       "      <td>0</td>\n",
       "      <td>16</td>\n",
       "    </tr>\n",
       "    <tr>\n",
       "      <th>1988.0</th>\n",
       "      <td>1</td>\n",
       "      <td>15</td>\n",
       "    </tr>\n",
       "    <tr>\n",
       "      <th>1989.0</th>\n",
       "      <td>0</td>\n",
       "      <td>17</td>\n",
       "    </tr>\n",
       "    <tr>\n",
       "      <th>1990.0</th>\n",
       "      <td>0</td>\n",
       "      <td>16</td>\n",
       "    </tr>\n",
       "    <tr>\n",
       "      <th>1991.0</th>\n",
       "      <td>0</td>\n",
       "      <td>41</td>\n",
       "    </tr>\n",
       "    <tr>\n",
       "      <th>1992.0</th>\n",
       "      <td>1</td>\n",
       "      <td>43</td>\n",
       "    </tr>\n",
       "    <tr>\n",
       "      <th>1993.0</th>\n",
       "      <td>0</td>\n",
       "      <td>60</td>\n",
       "    </tr>\n",
       "    <tr>\n",
       "      <th>1994.0</th>\n",
       "      <td>1</td>\n",
       "      <td>121</td>\n",
       "    </tr>\n",
       "    <tr>\n",
       "      <th>1995.0</th>\n",
       "      <td>0</td>\n",
       "      <td>219</td>\n",
       "    </tr>\n",
       "    <tr>\n",
       "      <th>1996.0</th>\n",
       "      <td>8</td>\n",
       "      <td>263</td>\n",
       "    </tr>\n",
       "    <tr>\n",
       "      <th>1997.0</th>\n",
       "      <td>19</td>\n",
       "      <td>289</td>\n",
       "    </tr>\n",
       "    <tr>\n",
       "      <th>1998.0</th>\n",
       "      <td>31</td>\n",
       "      <td>379</td>\n",
       "    </tr>\n",
       "    <tr>\n",
       "      <th>1999.0</th>\n",
       "      <td>39</td>\n",
       "      <td>338</td>\n",
       "    </tr>\n",
       "    <tr>\n",
       "      <th>2000.0</th>\n",
       "      <td>150</td>\n",
       "      <td>350</td>\n",
       "    </tr>\n",
       "    <tr>\n",
       "      <th>2001.0</th>\n",
       "      <td>339</td>\n",
       "      <td>482</td>\n",
       "    </tr>\n",
       "    <tr>\n",
       "      <th>2002.0</th>\n",
       "      <td>656</td>\n",
       "      <td>829</td>\n",
       "    </tr>\n",
       "    <tr>\n",
       "      <th>2003.0</th>\n",
       "      <td>611</td>\n",
       "      <td>775</td>\n",
       "    </tr>\n",
       "    <tr>\n",
       "      <th>2004.0</th>\n",
       "      <td>596</td>\n",
       "      <td>762</td>\n",
       "    </tr>\n",
       "    <tr>\n",
       "      <th>2005.0</th>\n",
       "      <td>704</td>\n",
       "      <td>939</td>\n",
       "    </tr>\n",
       "    <tr>\n",
       "      <th>2006.0</th>\n",
       "      <td>676</td>\n",
       "      <td>1006</td>\n",
       "    </tr>\n",
       "    <tr>\n",
       "      <th>2007.0</th>\n",
       "      <td>821</td>\n",
       "      <td>1197</td>\n",
       "    </tr>\n",
       "    <tr>\n",
       "      <th>2008.0</th>\n",
       "      <td>987</td>\n",
       "      <td>1427</td>\n",
       "    </tr>\n",
       "    <tr>\n",
       "      <th>2009.0</th>\n",
       "      <td>1019</td>\n",
       "      <td>1426</td>\n",
       "    </tr>\n",
       "    <tr>\n",
       "      <th>2010.0</th>\n",
       "      <td>798</td>\n",
       "      <td>1255</td>\n",
       "    </tr>\n",
       "    <tr>\n",
       "      <th>2011.0</th>\n",
       "      <td>718</td>\n",
       "      <td>1136</td>\n",
       "    </tr>\n",
       "    <tr>\n",
       "      <th>2012.0</th>\n",
       "      <td>363</td>\n",
       "      <td>653</td>\n",
       "    </tr>\n",
       "    <tr>\n",
       "      <th>2013.0</th>\n",
       "      <td>319</td>\n",
       "      <td>544</td>\n",
       "    </tr>\n",
       "    <tr>\n",
       "      <th>2014.0</th>\n",
       "      <td>350</td>\n",
       "      <td>581</td>\n",
       "    </tr>\n",
       "    <tr>\n",
       "      <th>2015.0</th>\n",
       "      <td>335</td>\n",
       "      <td>606</td>\n",
       "    </tr>\n",
       "    <tr>\n",
       "      <th>2016.0</th>\n",
       "      <td>296</td>\n",
       "      <td>502</td>\n",
       "    </tr>\n",
       "  </tbody>\n",
       "</table>\n",
       "</div>"
      ],
      "text/plain": [
       "                 user_score  name\n",
       "year_of_release                  \n",
       "1980.0                    0     9\n",
       "1981.0                    0    46\n",
       "1982.0                    0    36\n",
       "1983.0                    0    17\n",
       "1984.0                    0    14\n",
       "1985.0                    1    14\n",
       "1986.0                    0    21\n",
       "1987.0                    0    16\n",
       "1988.0                    1    15\n",
       "1989.0                    0    17\n",
       "1990.0                    0    16\n",
       "1991.0                    0    41\n",
       "1992.0                    1    43\n",
       "1993.0                    0    60\n",
       "1994.0                    1   121\n",
       "1995.0                    0   219\n",
       "1996.0                    8   263\n",
       "1997.0                   19   289\n",
       "1998.0                   31   379\n",
       "1999.0                   39   338\n",
       "2000.0                  150   350\n",
       "2001.0                  339   482\n",
       "2002.0                  656   829\n",
       "2003.0                  611   775\n",
       "2004.0                  596   762\n",
       "2005.0                  704   939\n",
       "2006.0                  676  1006\n",
       "2007.0                  821  1197\n",
       "2008.0                  987  1427\n",
       "2009.0                 1019  1426\n",
       "2010.0                  798  1255\n",
       "2011.0                  718  1136\n",
       "2012.0                  363   653\n",
       "2013.0                  319   544\n",
       "2014.0                  350   581\n",
       "2015.0                  335   606\n",
       "2016.0                  296   502"
      ]
     },
     "metadata": {},
     "output_type": "display_data"
    },
    {
     "name": "stdout",
     "output_type": "stream",
     "text": [
      "Доля пропусков до 2000 года: 0.11390172707370469\n"
     ]
    }
   ],
   "source": [
    "# сопоставление доли пропусков и года выпуска \n",
    "\n",
    "display(data[['year_of_release', 'user_score', 'name']].groupby(by='year_of_release').count())\n",
    "\n",
    "print('Доля пропусков до 2000 года:', \n",
    "      data.loc[data['year_of_release'] < 2000, 'user_score'].isna().sum() / data['user_score'].shape[0])"
   ]
  },
  {
   "cell_type": "markdown",
   "metadata": {},
   "source": [
    "Распределение пользовательских отзывов по годам аналогично отзывам критиков"
   ]
  },
  {
   "cell_type": "code",
   "execution_count": 13,
   "metadata": {},
   "outputs": [
    {
     "name": "stdout",
     "output_type": "stream",
     "text": [
      "['8' nan '8.3' '8.5' '6.6' '8.4' '8.6' '7.7' '6.3' '7.4' '8.2' '9' '7.9'\n",
      " '8.1' '8.7' '7.1' '3.4' '5.3' '4.8' '3.2' '8.9' '6.4' '7.8' '7.5' '2.6'\n",
      " '7.2' '9.2' '7' '7.3' '4.3' '7.6' '5.7' '5' '9.1' '6.5' 'tbd' '8.8' '6.9'\n",
      " '9.4' '6.8' '6.1' '6.7' '5.4' '4' '4.9' '4.5' '9.3' '6.2' '4.2' '6' '3.7'\n",
      " '4.1' '5.8' '5.6' '5.5' '4.4' '4.6' '5.9' '3.9' '3.1' '2.9' '5.2' '3.3'\n",
      " '4.7' '5.1' '3.5' '2.5' '1.9' '3' '2.7' '2.2' '2' '9.5' '2.1' '3.6' '2.8'\n",
      " '1.8' '3.8' '0' '1.6' '9.6' '2.4' '1.7' '1.1' '0.3' '1.5' '0.7' '1.2'\n",
      " '2.3' '0.5' '1.3' '0.2' '0.6' '1.4' '0.9' '1' '9.7']\n"
     ]
    }
   ],
   "source": [
    "# приведём тип данных оценок пользователей к float\n",
    "try:\n",
    "    data['user_score'] = data['user_score'].astype('float')\n",
    "except:\n",
    "    print(data['user_score'].unique())   "
   ]
  },
  {
   "cell_type": "markdown",
   "metadata": {},
   "source": [
    "Оценки пользователей содержат аббревиатуру 'tbd', что в данном случае можно расшифровать как 'to be determined', это значит, что оценка ещё не определёна. Возможно она не определёна т.к. игры ещё не выходили в продажу."
   ]
  },
  {
   "cell_type": "code",
   "execution_count": 14,
   "metadata": {},
   "outputs": [
    {
     "data": {
      "text/plain": [
       "name                2375\n",
       "platform            2375\n",
       "year_of_release     2375\n",
       "genre               2375\n",
       "na_sales            2375\n",
       "eu_sales            2375\n",
       "jp_sales            2375\n",
       "other_sales         2375\n",
       "critic_score        1056\n",
       "user_score          2375\n",
       "rating              2325\n",
       "critic_score_new    2252\n",
       "dtype: int64"
      ]
     },
     "execution_count": 14,
     "metadata": {},
     "output_type": "execute_result"
    }
   ],
   "source": [
    "# оценка не определена, т.к. игра ещё не вышла в продажу?\n",
    "data.loc[(data['user_score'] == 'tbd') & ((data['na_sales'] > 0) | (data['eu_sales'] > 0) | (data['jp_sales'] > 0))].count()"
   ]
  },
  {
   "cell_type": "markdown",
   "metadata": {},
   "source": [
    "Оказывается, продажи для игр с такой оценкой уже имели место, возможно на момент формирования базы данных ещё не были получены оценки из всех источников. Это подтверждается тем, что для половины таких игр уже есть оценки критиков. Удалять эти данные не стоит, следует обработать налогично nan."
   ]
  },
  {
   "cell_type": "code",
   "execution_count": 15,
   "metadata": {},
   "outputs": [],
   "source": [
    "# заменим tbd на nan\n",
    "data.loc[:, 'user_score'].replace(to_replace='tbd', value=np.nan, inplace=True)"
   ]
  },
  {
   "cell_type": "code",
   "execution_count": 16,
   "metadata": {},
   "outputs": [
    {
     "name": "stdout",
     "output_type": "stream",
     "text": [
      "<class 'pandas.core.frame.DataFrame'>\n",
      "Int64Index: 16444 entries, 0 to 16714\n",
      "Data columns (total 12 columns):\n",
      " #   Column            Non-Null Count  Dtype  \n",
      "---  ------            --------------  -----  \n",
      " 0   name              16444 non-null  object \n",
      " 1   platform          16444 non-null  object \n",
      " 2   year_of_release   16444 non-null  float64\n",
      " 3   genre             16444 non-null  object \n",
      " 4   na_sales          16444 non-null  float64\n",
      " 5   eu_sales          16444 non-null  float64\n",
      " 6   jp_sales          16444 non-null  float64\n",
      " 7   other_sales       16444 non-null  float64\n",
      " 8   critic_score      7983 non-null   float64\n",
      " 9   user_score        7463 non-null   float64\n",
      " 10  rating            9768 non-null   object \n",
      " 11  critic_score_new  14231 non-null  float64\n",
      "dtypes: float64(8), object(4)\n",
      "memory usage: 1.6+ MB\n"
     ]
    }
   ],
   "source": [
    "# перед дальнейшей обработкой пропусков в этом столбце необходимо откорректирвоать тип данных\n",
    "data['user_score'] = data['user_score'].astype('float')\n",
    "data.info()"
   ]
  },
  {
   "cell_type": "code",
   "execution_count": 17,
   "metadata": {
    "scrolled": true
   },
   "outputs": [],
   "source": [
    "# обработаем пропуски в оценках пользователей аналогично пропускам в оценках критиков\n",
    "column_to_fill = 'user_score'\n",
    "\n",
    "warnings.simplefilter('ignore', category=RuntimeWarning) # временно отключаем предупереждения\n",
    "data['user_score_new'] = data.apply(score_fill, axis=1)\n",
    "\n",
    "warnings.simplefilter('default', category=RuntimeWarning) # включаем предупреждения обратно"
   ]
  },
  {
   "cell_type": "markdown",
   "metadata": {},
   "source": [
    "- обработка пропусков в столце rating"
   ]
  },
  {
   "cell_type": "code",
   "execution_count": 18,
   "metadata": {},
   "outputs": [
    {
     "name": "stdout",
     "output_type": "stream",
     "text": [
      "['E' nan 'M' 'T' 'E10+' 'K-A' 'AO' 'EC' 'RP']\n",
      "Пропусков рейтинга: 6676\n"
     ]
    }
   ],
   "source": [
    "print(data['rating'].unique())\n",
    "print('Пропусков рейтинга:', data['rating'].isna().sum())"
   ]
  },
  {
   "cell_type": "code",
   "execution_count": 19,
   "metadata": {},
   "outputs": [
    {
     "data": {
      "text/plain": [
       "name                6674\n",
       "platform            6674\n",
       "year_of_release     6674\n",
       "genre               6674\n",
       "na_sales            6674\n",
       "eu_sales            6674\n",
       "jp_sales            6674\n",
       "other_sales         6674\n",
       "critic_score          81\n",
       "user_score            83\n",
       "rating                 0\n",
       "critic_score_new    4699\n",
       "user_score_new      4811\n",
       "dtype: int64"
      ]
     },
     "execution_count": 19,
     "metadata": {},
     "output_type": "execute_result"
    }
   ],
   "source": [
    "# рейтинг не определен, т.к. игра ещё не вышла в продажу?\n",
    "data.loc[(data['rating'].isna()) & ((data['na_sales'] > 0) | (data['eu_sales'] > 0) | (data['jp_sales'] > 0))].count()"
   ]
  },
  {
   "cell_type": "code",
   "execution_count": 20,
   "metadata": {},
   "outputs": [
    {
     "data": {
      "text/html": [
       "<div>\n",
       "<style scoped>\n",
       "    .dataframe tbody tr th:only-of-type {\n",
       "        vertical-align: middle;\n",
       "    }\n",
       "\n",
       "    .dataframe tbody tr th {\n",
       "        vertical-align: top;\n",
       "    }\n",
       "\n",
       "    .dataframe thead th {\n",
       "        text-align: right;\n",
       "    }\n",
       "</style>\n",
       "<table border=\"1\" class=\"dataframe\">\n",
       "  <thead>\n",
       "    <tr style=\"text-align: right;\">\n",
       "      <th></th>\n",
       "      <th>name</th>\n",
       "    </tr>\n",
       "    <tr>\n",
       "      <th>genre</th>\n",
       "      <th></th>\n",
       "    </tr>\n",
       "  </thead>\n",
       "  <tbody>\n",
       "    <tr>\n",
       "      <th>Action</th>\n",
       "      <td>1161</td>\n",
       "    </tr>\n",
       "    <tr>\n",
       "      <th>Adventure</th>\n",
       "      <td>853</td>\n",
       "    </tr>\n",
       "    <tr>\n",
       "      <th>Fighting</th>\n",
       "      <td>405</td>\n",
       "    </tr>\n",
       "    <tr>\n",
       "      <th>Misc</th>\n",
       "      <td>859</td>\n",
       "    </tr>\n",
       "    <tr>\n",
       "      <th>Platform</th>\n",
       "      <td>317</td>\n",
       "    </tr>\n",
       "    <tr>\n",
       "      <th>Puzzle</th>\n",
       "      <td>233</td>\n",
       "    </tr>\n",
       "    <tr>\n",
       "      <th>Racing</th>\n",
       "      <td>370</td>\n",
       "    </tr>\n",
       "    <tr>\n",
       "      <th>Role-Playing</th>\n",
       "      <td>711</td>\n",
       "    </tr>\n",
       "    <tr>\n",
       "      <th>Shooter</th>\n",
       "      <td>300</td>\n",
       "    </tr>\n",
       "    <tr>\n",
       "      <th>Simulation</th>\n",
       "      <td>298</td>\n",
       "    </tr>\n",
       "    <tr>\n",
       "      <th>Sports</th>\n",
       "      <td>828</td>\n",
       "    </tr>\n",
       "    <tr>\n",
       "      <th>Strategy</th>\n",
       "      <td>341</td>\n",
       "    </tr>\n",
       "  </tbody>\n",
       "</table>\n",
       "</div>"
      ],
      "text/plain": [
       "              name\n",
       "genre             \n",
       "Action        1161\n",
       "Adventure      853\n",
       "Fighting       405\n",
       "Misc           859\n",
       "Platform       317\n",
       "Puzzle         233\n",
       "Racing         370\n",
       "Role-Playing   711\n",
       "Shooter        300\n",
       "Simulation     298\n",
       "Sports         828\n",
       "Strategy       341"
      ]
     },
     "execution_count": 20,
     "metadata": {},
     "output_type": "execute_result"
    }
   ],
   "source": [
    "data.loc[data['rating'].isna(), ['genre', 'name']].groupby(by='genre').count()"
   ]
  },
  {
   "cell_type": "markdown",
   "metadata": {},
   "source": [
    "Все игры без рейтинга были выпущены в продажу. Однако для таких игр практически не было оценок критиков и пользоватлей. Так же такие игры выпущены в различных жанрах, а не в каком-то специфическом."
   ]
  },
  {
   "cell_type": "code",
   "execution_count": 21,
   "metadata": {},
   "outputs": [],
   "source": [
    "# сперва обработаем имеющиеся неявные дубликаты (K-A то же, что E), для большей точности определения рейтинга старых игр\n",
    "data.loc[:, 'rating'].replace(to_replace='K-A', value='E', inplace=True)"
   ]
  },
  {
   "cell_type": "code",
   "execution_count": 22,
   "metadata": {},
   "outputs": [
    {
     "data": {
      "text/plain": [
       "name                1\n",
       "platform            1\n",
       "year_of_release     1\n",
       "genre               1\n",
       "na_sales            1\n",
       "eu_sales            1\n",
       "jp_sales            1\n",
       "other_sales         1\n",
       "critic_score        1\n",
       "user_score          1\n",
       "rating              1\n",
       "critic_score_new    1\n",
       "user_score_new      1\n",
       "dtype: int64"
      ]
     },
     "execution_count": 22,
     "metadata": {},
     "output_type": "execute_result"
    }
   ],
   "source": [
    "# в датасете имеются игры с рейтингом RP (рейтинг ожидается), проверим, были ли по ним продажи\n",
    "data.loc[(data['rating'] == 'RP') & ((data['na_sales'] > 0) | (data['eu_sales'] > 0) | (data['jp_sales'] > 0))].count()"
   ]
  },
  {
   "cell_type": "code",
   "execution_count": 23,
   "metadata": {},
   "outputs": [],
   "source": [
    "# игрa с рейтингом RP продавалaсь, обработаем этот рейтинг как nan\n",
    "data.loc[:, 'rating'].replace(to_replace='RP', value=np.nan, inplace=True)"
   ]
  },
  {
   "cell_type": "code",
   "execution_count": 24,
   "metadata": {},
   "outputs": [],
   "source": [
    "# возрастной рейтинг сложно определить на основе какого-либо из параметров, оставим пропуски, заменив nan на строковое значение\n",
    "data.loc[data['rating'].isna(), 'rating'] = 'unknown'"
   ]
  },
  {
   "cell_type": "markdown",
   "metadata": {},
   "source": [
    "Полностью обработаны пропуски в столбцах name, year_of_release, genre. Частично обработаны пропуски в столбцах critic_score, user_score.\n",
    "\n",
    "Возможные причины пропусков - техническая ошибка, отсутствие значительного интереса к игре со стороны критиков и пользователей или отсутствие удобного способа массового сбора и систематизации оценок до широкого распространения интернета. \n",
    "\n",
    "Так же данные показывают, что самих игр до конца 90х выпускалось немного, и количество отзывов так же было небольшим.\n",
    "\n",
    "Строки с оставшимися пропусками оставлены, т.к. будут использованы для исследования параметров без пропусков."
   ]
  },
  {
   "cell_type": "markdown",
   "metadata": {},
   "source": [
    "**обработка дубликатов**"
   ]
  },
  {
   "cell_type": "code",
   "execution_count": 25,
   "metadata": {},
   "outputs": [
    {
     "name": "stdout",
     "output_type": "stream",
     "text": [
      "Полных дубликатов: 0\n"
     ]
    }
   ],
   "source": [
    "# проверка на полные дубликаты\n",
    "print('Полных дубликатов:', data.duplicated().sum())"
   ]
  },
  {
   "cell_type": "code",
   "execution_count": 26,
   "metadata": {},
   "outputs": [
    {
     "data": {
      "text/plain": [
       "['2600',\n",
       " '3DO',\n",
       " '3DS',\n",
       " 'DC',\n",
       " 'DS',\n",
       " 'GB',\n",
       " 'GBA',\n",
       " 'GC',\n",
       " 'GEN',\n",
       " 'GG',\n",
       " 'N64',\n",
       " 'NES',\n",
       " 'NG',\n",
       " 'PC',\n",
       " 'PCFX',\n",
       " 'PS',\n",
       " 'PS2',\n",
       " 'PS3',\n",
       " 'PS4',\n",
       " 'PSP',\n",
       " 'PSV',\n",
       " 'SAT',\n",
       " 'SCD',\n",
       " 'SNES',\n",
       " 'TG16',\n",
       " 'WS',\n",
       " 'Wii',\n",
       " 'WiiU',\n",
       " 'X360',\n",
       " 'XB',\n",
       " 'XOne']"
      ]
     },
     "execution_count": 26,
     "metadata": {},
     "output_type": "execute_result"
    }
   ],
   "source": [
    "# поиск неявных дубликатов в названиях платформ\n",
    "sorted(data['platform'].unique())"
   ]
  },
  {
   "cell_type": "code",
   "execution_count": 27,
   "metadata": {},
   "outputs": [
    {
     "name": "stdout",
     "output_type": "stream",
     "text": [
      "Дубликатов игр на платформе: 1\n"
     ]
    }
   ],
   "source": [
    "# поиск дубликатов в сочетании название-платформа-год выпуска\n",
    "print('Дубликатов игр на платформе:', data[['name', 'platform', 'year_of_release']].duplicated().sum())"
   ]
  },
  {
   "cell_type": "code",
   "execution_count": 28,
   "metadata": {},
   "outputs": [
    {
     "data": {
      "text/html": [
       "<div>\n",
       "<style scoped>\n",
       "    .dataframe tbody tr th:only-of-type {\n",
       "        vertical-align: middle;\n",
       "    }\n",
       "\n",
       "    .dataframe tbody tr th {\n",
       "        vertical-align: top;\n",
       "    }\n",
       "\n",
       "    .dataframe thead th {\n",
       "        text-align: right;\n",
       "    }\n",
       "</style>\n",
       "<table border=\"1\" class=\"dataframe\">\n",
       "  <thead>\n",
       "    <tr style=\"text-align: right;\">\n",
       "      <th></th>\n",
       "      <th>name</th>\n",
       "      <th>platform</th>\n",
       "      <th>year_of_release</th>\n",
       "      <th>genre</th>\n",
       "      <th>na_sales</th>\n",
       "      <th>eu_sales</th>\n",
       "      <th>jp_sales</th>\n",
       "      <th>other_sales</th>\n",
       "      <th>critic_score</th>\n",
       "      <th>user_score</th>\n",
       "      <th>rating</th>\n",
       "      <th>critic_score_new</th>\n",
       "      <th>user_score_new</th>\n",
       "    </tr>\n",
       "  </thead>\n",
       "  <tbody>\n",
       "    <tr>\n",
       "      <th>604</th>\n",
       "      <td>Madden NFL 13</td>\n",
       "      <td>PS3</td>\n",
       "      <td>2012.0</td>\n",
       "      <td>Sports</td>\n",
       "      <td>2.11</td>\n",
       "      <td>0.22</td>\n",
       "      <td>0.0</td>\n",
       "      <td>0.23</td>\n",
       "      <td>83.0</td>\n",
       "      <td>5.5</td>\n",
       "      <td>E</td>\n",
       "      <td>83.0</td>\n",
       "      <td>5.5</td>\n",
       "    </tr>\n",
       "    <tr>\n",
       "      <th>16230</th>\n",
       "      <td>Madden NFL 13</td>\n",
       "      <td>PS3</td>\n",
       "      <td>2012.0</td>\n",
       "      <td>Sports</td>\n",
       "      <td>0.00</td>\n",
       "      <td>0.01</td>\n",
       "      <td>0.0</td>\n",
       "      <td>0.00</td>\n",
       "      <td>83.0</td>\n",
       "      <td>5.5</td>\n",
       "      <td>E</td>\n",
       "      <td>83.0</td>\n",
       "      <td>5.5</td>\n",
       "    </tr>\n",
       "  </tbody>\n",
       "</table>\n",
       "</div>"
      ],
      "text/plain": [
       "                name platform  year_of_release   genre  na_sales  eu_sales  \\\n",
       "604    Madden NFL 13      PS3           2012.0  Sports      2.11      0.22   \n",
       "16230  Madden NFL 13      PS3           2012.0  Sports      0.00      0.01   \n",
       "\n",
       "       jp_sales  other_sales  critic_score  user_score rating  \\\n",
       "604         0.0         0.23          83.0         5.5      E   \n",
       "16230       0.0         0.00          83.0         5.5      E   \n",
       "\n",
       "       critic_score_new  user_score_new  \n",
       "604                83.0             5.5  \n",
       "16230              83.0             5.5  "
      ]
     },
     "execution_count": 28,
     "metadata": {},
     "output_type": "execute_result"
    }
   ],
   "source": [
    "data.loc[data[['name', 'platform', 'year_of_release']].duplicated(keep=False), :]"
   ]
  },
  {
   "cell_type": "code",
   "execution_count": 29,
   "metadata": {},
   "outputs": [],
   "source": [
    "# нужно сложить продажи в ЕС, исправим и удалим дубликат\n",
    "data.loc[604, 'eu_sales'] += data.loc[16230, 'eu_sales']\n",
    "data = data.drop([16230])"
   ]
  },
  {
   "cell_type": "markdown",
   "metadata": {},
   "source": [
    "**исправление типов данных**"
   ]
  },
  {
   "cell_type": "code",
   "execution_count": 30,
   "metadata": {},
   "outputs": [
    {
     "name": "stdout",
     "output_type": "stream",
     "text": [
      "<class 'pandas.core.frame.DataFrame'>\n",
      "Int64Index: 16443 entries, 0 to 16714\n",
      "Data columns (total 13 columns):\n",
      " #   Column            Non-Null Count  Dtype  \n",
      "---  ------            --------------  -----  \n",
      " 0   name              16443 non-null  object \n",
      " 1   platform          16443 non-null  object \n",
      " 2   year_of_release   16443 non-null  int64  \n",
      " 3   genre             16443 non-null  object \n",
      " 4   na_sales          16443 non-null  float64\n",
      " 5   eu_sales          16443 non-null  float64\n",
      " 6   jp_sales          16443 non-null  float64\n",
      " 7   other_sales       16443 non-null  float64\n",
      " 8   critic_score      7982 non-null   float64\n",
      " 9   user_score        7462 non-null   float64\n",
      " 10  rating            16443 non-null  object \n",
      " 11  critic_score_new  14230 non-null  float64\n",
      " 12  user_score_new    14419 non-null  float64\n",
      "dtypes: float64(8), int64(1), object(4)\n",
      "memory usage: 1.8+ MB\n"
     ]
    }
   ],
   "source": [
    "# приведём к целочисленному тип данных в столбцах года выпуска и числового рейтинга\n",
    "data[['year_of_release']] = data[['year_of_release']].astype('int64')\n",
    "data.info()"
   ]
  },
  {
   "cell_type": "markdown",
   "metadata": {},
   "source": [
    "**исправление и удаление столбцов**"
   ]
  },
  {
   "cell_type": "code",
   "execution_count": 31,
   "metadata": {},
   "outputs": [],
   "source": [
    "data['critic_score'] = data['critic_score_new']\n",
    "data['user_score'] = data['user_score_new']"
   ]
  },
  {
   "cell_type": "code",
   "execution_count": 32,
   "metadata": {},
   "outputs": [
    {
     "name": "stdout",
     "output_type": "stream",
     "text": [
      "<class 'pandas.core.frame.DataFrame'>\n",
      "Int64Index: 16443 entries, 0 to 16714\n",
      "Data columns (total 11 columns):\n",
      " #   Column           Non-Null Count  Dtype  \n",
      "---  ------           --------------  -----  \n",
      " 0   name             16443 non-null  object \n",
      " 1   platform         16443 non-null  object \n",
      " 2   year_of_release  16443 non-null  int64  \n",
      " 3   genre            16443 non-null  object \n",
      " 4   na_sales         16443 non-null  float64\n",
      " 5   eu_sales         16443 non-null  float64\n",
      " 6   jp_sales         16443 non-null  float64\n",
      " 7   other_sales      16443 non-null  float64\n",
      " 8   critic_score     14230 non-null  float64\n",
      " 9   user_score       14419 non-null  float64\n",
      " 10  rating           16443 non-null  object \n",
      "dtypes: float64(6), int64(1), object(4)\n",
      "memory usage: 1.5+ MB\n"
     ]
    }
   ],
   "source": [
    "data = data.drop(columns=['critic_score_new', 'user_score_new'])\n",
    "data.info()"
   ]
  },
  {
   "cell_type": "code",
   "execution_count": 33,
   "metadata": {},
   "outputs": [
    {
     "data": {
      "text/plain": [
       "array(['E', 'unknown', 'M', 'T', 'E10+', 'AO', 'EC'], dtype=object)"
      ]
     },
     "execution_count": 33,
     "metadata": {},
     "output_type": "execute_result"
    }
   ],
   "source": [
    "data['rating'].unique()"
   ]
  },
  {
   "cell_type": "markdown",
   "metadata": {},
   "source": [
    "**дополнение датасета расчётными данными**"
   ]
  },
  {
   "cell_type": "code",
   "execution_count": 34,
   "metadata": {},
   "outputs": [],
   "source": [
    "# добавим столбец с суммарными продажами\n",
    "data['all_sales'] = data[['na_sales', 'eu_sales', 'jp_sales', 'other_sales']].sum(axis=1)\n",
    "#data.head(20)"
   ]
  },
  {
   "cell_type": "markdown",
   "metadata": {},
   "source": [
    "### Исследовательский анализ данных"
   ]
  },
  {
   "cell_type": "code",
   "execution_count": 35,
   "metadata": {},
   "outputs": [
    {
     "data": {
      "image/png": "[encoded data removed]",
      "text/plain": [
       "<Figure size 1440x360 with 1 Axes>"
      ]
     },
     "metadata": {
      "needs_background": "light"
     },
     "output_type": "display_data"
    }
   ],
   "source": [
    "# динамика выпуска игр по годам\n",
    "data.pivot_table(index='year_of_release', values='name', aggfunc='count').plot(kind='bar', figsize=(20, 5),\n",
    "                                                                              title='Динамика выпуска игр с 1980 по 2016 год');"
   ]
  },
  {
   "cell_type": "markdown",
   "metadata": {},
   "source": [
    "Начиная с 1994 года количество выпущенных игр за год стабильно росло, достигнув писка в 2008-2009 годах. Затем динамика стала замедляться, а в 2012 произошло резкое сокращение выпуска игр для указанных платформ. Затем с 2013 по 2016 год выпуск игр стагнировал."
   ]
  },
  {
   "cell_type": "code",
   "execution_count": 36,
   "metadata": {},
   "outputs": [
    {
     "data": {
      "image/png": "[encoded data removed]",
      "text/plain": [
       "<Figure size 1440x360 with 1 Axes>"
      ]
     },
     "metadata": {
      "needs_background": "light"
     },
     "output_type": "display_data"
    }
   ],
   "source": [
    "# исследуем как менялись продажи по платформам\n",
    "data.pivot_table(index='platform', values='all_sales', aggfunc='sum').sort_values(by='all_sales').plot(kind='bar', figsize=(20, 5),\n",
    "                                                                       title='Продажи каждой из платформ за всё время');"
   ]
  },
  {
   "cell_type": "markdown",
   "metadata": {},
   "source": [
    "Очевидные лидеры продаж - первые шесть платформ. Далее исследуем динамику их продаж по годам."
   ]
  },
  {
   "cell_type": "code",
   "execution_count": 37,
   "metadata": {},
   "outputs": [
    {
     "data": {
      "image/png": "[encoded data removed]",
      "text/plain": [
       "<Figure size 1440x144 with 1 Axes>"
      ]
     },
     "metadata": {
      "needs_background": "light"
     },
     "output_type": "display_data"
    },
    {
     "data": {
      "image/png": "[encoded data removed]",
      "text/plain": [
       "<Figure size 1440x144 with 1 Axes>"
      ]
     },
     "metadata": {
      "needs_background": "light"
     },
     "output_type": "display_data"
    },
    {
     "data": {
      "image/png": "[encoded data removed]",
      "text/plain": [
       "<Figure size 1440x144 with 1 Axes>"
      ]
     },
     "metadata": {
      "needs_background": "light"
     },
     "output_type": "display_data"
    },
    {
     "data": {
      "image/png": "[encoded data removed]",
      "text/plain": [
       "<Figure size 1440x144 with 1 Axes>"
      ]
     },
     "metadata": {
      "needs_background": "light"
     },
     "output_type": "display_data"
    },
    {
     "data": {
      "image/png": "[encoded data removed]",
      "text/plain": [
       "<Figure size 1440x144 with 1 Axes>"
      ]
     },
     "metadata": {
      "needs_background": "light"
     },
     "output_type": "display_data"
    },
    {
     "data": {
      "image/png": "[encoded data removed]",
      "text/plain": [
       "<Figure size 1440x144 with 1 Axes>"
      ]
     },
     "metadata": {
      "needs_background": "light"
     },
     "output_type": "display_data"
    }
   ],
   "source": [
    "# \n",
    "top_platforms = list(data.pivot_table(index='platform',\n",
    "                                      values='all_sales', aggfunc='sum').sort_values(by='all_sales').index.values[-6:])\n",
    "\n",
    "for platform in top_platforms:\n",
    "    t = f'Динамика продаж игр на платформе \"{platform}\" с 1980 по 2016 год'\n",
    "    \n",
    "    data.loc[data['platform'] == platform, :].pivot_table(index='year_of_release',\n",
    "                                                          values='all_sales',\n",
    "                                                          aggfunc='sum').plot(kind='bar', figsize=(20, 2), title=t);"
   ]
  },
  {
   "cell_type": "markdown",
   "metadata": {},
   "source": [
    "Графики показывают, что средний срок \"жизни\" платформы составляет примерно 10 лет.\n",
    "На графике для платформы \"DS\" указаны продажи в 1985, возможно в то время существовала одноимённая непопулярная платформа, либо это артефакт базы данных."
   ]
  },
  {
   "cell_type": "code",
   "execution_count": 38,
   "metadata": {},
   "outputs": [
    {
     "data": {
      "image/png": "[encoded data removed]",
      "text/plain": [
       "<Figure size 1440x288 with 1 Axes>"
      ]
     },
     "metadata": {
      "needs_background": "light"
     },
     "output_type": "display_data"
    }
   ],
   "source": [
    "t = f'Динамика продаж игр на платформе самых популярных платформах с 1985 по 2016 год'\n",
    "\n",
    "data.loc[(data['platform'].isin(top_platforms)) &\n",
    "         (data['year_of_release'] > 1985), :].pivot_table(index='year_of_release',\n",
    "                                                              values='all_sales',\n",
    "                                                              columns='platform',\n",
    "                                                              aggfunc='sum').plot(kind='line', figsize=(20, 4), title=t);"
   ]
  },
  {
   "cell_type": "markdown",
   "metadata": {},
   "source": [
    "Лидер продаж сменяется примерно каждые 5 лет. Однако в период максимального роста рынка в 2006-2011 годов одновременно существовало несколько популярных, близко конкурирующих брендов.\n",
    "\n",
    "Для дальнейших исследований имеет смысл брать период с 2013 по 2016 годы, после прохождения пика продаж и стабилизации рынка. Так же не стоит брать более ранние данные из-за того, что многих платформ и базовых технологий, серий игр, которые их определяли, уже может не быть на рынке."
   ]
  },
  {
   "cell_type": "code",
   "execution_count": 39,
   "metadata": {},
   "outputs": [
    {
     "data": {
      "image/png": "[encoded data removed]",
      "text/plain": [
       "<Figure size 1440x360 with 1 Axes>"
      ]
     },
     "metadata": {
      "needs_background": "light"
     },
     "output_type": "display_data"
    }
   ],
   "source": [
    "# взглянем ближе на лидеров продаж именно за этот период\n",
    "data_last = data.loc[data['year_of_release'] >= 2015, :]\n",
    "\n",
    "data_last.pivot_table(index='platform',\n",
    "                      values='all_sales',\n",
    "                      aggfunc='sum').sort_values(by='all_sales').plot(kind='bar', figsize=(20, 5),\n",
    "                                                                    title='Продажи каждой из платформ за период 2015-2016 гг.');"
   ]
  },
  {
   "cell_type": "markdown",
   "metadata": {},
   "source": [
    "Оказывается, действующих платформ не так много. Чтобы определить потенциал каждой из них, необходимо понять динамику их продаж. "
   ]
  },
  {
   "cell_type": "code",
   "execution_count": 40,
   "metadata": {
    "scrolled": false
   },
   "outputs": [
    {
     "name": "stdout",
     "output_type": "stream",
     "text": [
      "['PSP', 'Wii', 'PSV', 'X360', 'PC', 'PS3', 'WiiU', '3DS', 'XOne', 'PS4']\n"
     ]
    },
    {
     "data": {
      "image/png": "[encoded data removed]",
      "text/plain": [
       "<Figure size 1440x360 with 1 Axes>"
      ]
     },
     "metadata": {
      "needs_background": "light"
     },
     "output_type": "display_data"
    }
   ],
   "source": [
    "top_platforms_last = list(data_last.pivot_table(index='platform', values='all_sales', \n",
    "                                                aggfunc='sum').sort_values(by='all_sales').index.values)\n",
    "\n",
    "t = f'Динамика продаж игр на платформе самых популярных платформах с 2015 по 2016 год'\n",
    "\n",
    "data_last.loc[data['platform'].isin(top_platforms_last), :].pivot_table(index='year_of_release',\n",
    "                                                                     values='all_sales',\n",
    "                                                                     columns='platform',\n",
    "                                                                     aggfunc='sum').plot(kind='line', figsize=(20, 5), title=t);\n",
    "\n",
    "data_last.head()\n",
    "print(top_platforms_last)"
   ]
  },
  {
   "cell_type": "code",
   "execution_count": 41,
   "metadata": {},
   "outputs": [
    {
     "name": "stdout",
     "output_type": "stream",
     "text": [
      "Старт продаж 3DS: 2011\n"
     ]
    }
   ],
   "source": [
    "print('Старт продаж 3DS:', sorted(data.loc[data['platform'] == '3DS', 'year_of_release'].unique())[0])"
   ]
  },
  {
   "cell_type": "markdown",
   "metadata": {},
   "source": [
    "Платформы PS4, XOne, 3DS показывают максимальные результататы. Однако 3DS демонстрирует худшие показатели и на 2 года старше остальных.\n",
    "\n",
    "Так же стоит обратить внимание на платформу PC, продажи для ПК хоть и небольшие, но на 2016 год чуть больше, чем у любой из оставшихся приставок и при этом относительно стабильные, эта платформа вряд ли уйдёт с рынка в ближайшие годы."
   ]
  },
  {
   "cell_type": "code",
   "execution_count": 42,
   "metadata": {
    "scrolled": false
   },
   "outputs": [
    {
     "data": {
      "image/png": "[encoded data removed]",
      "text/plain": [
       "<Figure size 1440x720 with 1 Axes>"
      ]
     },
     "metadata": {
      "needs_background": "light"
     },
     "output_type": "display_data"
    }
   ],
   "source": [
    "# диаграмма размаха по глобальным продажам игр в разбивке по перспективным платформам за выбранный период\n",
    "data_top = data_last.loc[data_last['platform'].isin(['PS4', 'XOne', '3DS', 'PC']), :]\n",
    "\n",
    "plt.figure(figsize=(20, 10), frameon=False)\n",
    "plt.xlim(0, 2.5)\n",
    "\n",
    "sns.boxplot(x='all_sales', y='platform', data=data_top[['platform', 'all_sales']], orient='h')\n",
    "\n",
    "plt.xlabel('продаж всего')\n",
    "plt.ylabel('платформа')\n",
    "plt.title('Диаграмма размаха продаж различных платформ за период 2015-2016 гг.');"
   ]
  },
  {
   "cell_type": "markdown",
   "metadata": {},
   "source": [
    "Положение первого квартиля у всех платформ примерно одинаковое, значит и заметно непопулярных игр в абсолютных величинах тоже примерно одинаковое количество. У игр на ПК этот показатель ещё меньше, но нужно учесть, что  и самих продаж этих игр меньше.\n",
    "\n",
    "Несмотря на то, что для отдельные игры продаются очень хорошо, медианное количество продаж большинства игр меньше среднего, значит в целом \"проходных\" игр меньше чем \"шедевров\".\n",
    "\n",
    "По максимальным продажам всё выглядит так же, как и на графике динамики продаж по годам: впереди PS4, затем XOne, 3DS и PC. Но несмотря на то, что крупных продаж у XOne меньше, чем у PS4, медиана и третий квартиль у неё больше, значит среднестатистическая игра на этой платформе более востребована."
   ]
  },
  {
   "cell_type": "code",
   "execution_count": 43,
   "metadata": {},
   "outputs": [
    {
     "name": "stdout",
     "output_type": "stream",
     "text": [
      "Коэффициент корреляции количества продаж игры от оценок критиков: 0.27\n"
     ]
    },
    {
     "data": {
      "image/png": "[encoded data removed]",
      "text/plain": [
       "<Figure size 1440x288 with 1 Axes>"
      ]
     },
     "metadata": {
      "needs_background": "light"
     },
     "output_type": "display_data"
    }
   ],
   "source": [
    "# корреляция продаж и отзывов\n",
    "print('Коэффициент корреляции количества продаж игры от оценок критиков:',\n",
    "      round(data_top.loc[data_top['platform'] == 'PS4', :]['critic_score'].corr(data_top.loc[data_top['platform'] == 'PS4', :]['all_sales']), 2))\n",
    "\n",
    "data_top.loc[data_top['platform'] == 'PS4', :].plot(kind='scatter', x='critic_score', y='all_sales', alpha=0.5, figsize=(20, 4));"
   ]
  },
  {
   "cell_type": "code",
   "execution_count": 44,
   "metadata": {},
   "outputs": [
    {
     "name": "stdout",
     "output_type": "stream",
     "text": [
      "Коэффициент корреляции количества продаж игры от оценок пользователей: -0.1\n"
     ]
    },
    {
     "data": {
      "image/png": "[encoded data removed]",
      "text/plain": [
       "<Figure size 1440x288 with 1 Axes>"
      ]
     },
     "metadata": {
      "needs_background": "light"
     },
     "output_type": "display_data"
    }
   ],
   "source": [
    "# корреляция продаж и отзывов пользователей\n",
    "print('Коэффициент корреляции количества продаж игры от оценок пользователей:',\n",
    "      round(data_top.loc[data_top['platform'] == 'PS4', :]['user_score'].corr(data_top.loc[data_top['platform'] == 'PS4', :]['all_sales']), 2))\n",
    "\n",
    "data_top.loc[data_top['platform'] == 'PS4', :].plot(kind='scatter', x='user_score', y='all_sales', alpha=0.5, figsize=(20, 4));"
   ]
  },
  {
   "cell_type": "markdown",
   "metadata": {},
   "source": [
    "Покупка игры на PS4 практически не зависит от отзывов критиков и пользователей. Иногда игру покупают даже вопреки плохим отзывам других пользователей.\n",
    "\n",
    "Результат неожиданный, проверим имеется ли такая корреляция для других платформ."
   ]
  },
  {
   "cell_type": "code",
   "execution_count": 45,
   "metadata": {},
   "outputs": [
    {
     "name": "stdout",
     "output_type": "stream",
     "text": [
      "Коэфф. корреляции количества продаж игры на \"XOne\" от оценок критиков/пользователей: 0.3 / -0.05\n"
     ]
    },
    {
     "data": {
      "image/png": "[encoded data removed]",
      "text/plain": [
       "<Figure size 1440x360 with 2 Axes>"
      ]
     },
     "metadata": {
      "needs_background": "light"
     },
     "output_type": "display_data"
    },
    {
     "name": "stdout",
     "output_type": "stream",
     "text": [
      "Коэфф. корреляции количества продаж игры на \"3DS\" от оценок критиков/пользователей: 0.04 / 0.08\n"
     ]
    },
    {
     "data": {
      "image/png": "[encoded data removed]",
      "text/plain": [
       "<Figure size 1440x360 with 2 Axes>"
      ]
     },
     "metadata": {
      "needs_background": "light"
     },
     "output_type": "display_data"
    },
    {
     "name": "stdout",
     "output_type": "stream",
     "text": [
      "Коэфф. корреляции количества продаж игры на \"PC\" от оценок критиков/пользователей: 0.35 / 0.07\n"
     ]
    },
    {
     "data": {
      "image/png": "[encoded data removed]",
      "text/plain": [
       "<Figure size 1440x360 with 2 Axes>"
      ]
     },
     "metadata": {
      "needs_background": "light"
     },
     "output_type": "display_data"
    }
   ],
   "source": [
    "for platform in ['XOne', '3DS', 'PC']:\n",
    "    fig = plt.figure(figsize=(20, 5))\n",
    "    ax1 = fig.add_subplot(1, 2, 1)\n",
    "    ax2 = fig.add_subplot(1, 2, 2)\n",
    "    \n",
    "    ax_x1 = data_top.loc[data_top['platform'] == platform, 'critic_score']\n",
    "    ax_x2 = data_top.loc[data_top['platform'] == platform, 'user_score']\n",
    "    ax_y = data_top.loc[data_top['platform'] == platform, 'all_sales']\n",
    "    \n",
    "    #t1 = f'Диаграммы разброса кол-ва продаж от оценок критиков и пользователей для {platform}'\n",
    "    ax1.scatter(ax_x1, ax_y, alpha=0.5)\n",
    "    ax2.scatter(ax_x2, ax_y, alpha=0.5)\n",
    "    \n",
    "    ax1.set_title(f'Диаграммы разброса кол-ва продаж от оценок критиков для \"{platform}\"')\n",
    "    ax2.set_title(f'Диаграммы разброса кол-ва продаж от оценок пользователей для \"{platform}\"')\n",
    "    \n",
    "    print(f'Коэфф. корреляции количества продаж игры на \"{platform}\" от оценок критиков/пользователей:',\n",
    "          round(ax_x1.corr(ax_y), 2), '/', round(ax_x2.corr(ax_y), 2))\n",
    "    \n",
    "    plt.show()"
   ]
  },
  {
   "cell_type": "markdown",
   "metadata": {},
   "source": [
    "Для остальных платформ какая-либо значимая зависимость между оценками и продажами так же не наблюдается."
   ]
  },
  {
   "cell_type": "code",
   "execution_count": 46,
   "metadata": {},
   "outputs": [
    {
     "data": {
      "image/png": "[encoded data removed]",
      "text/plain": [
       "<Figure size 1440x360 with 1 Axes>"
      ]
     },
     "metadata": {
      "needs_background": "light"
     },
     "output_type": "display_data"
    }
   ],
   "source": [
    "# исследуем зависимость продаж от жанра\n",
    "data_top.pivot_table(index='genre',\n",
    "                     values='name',\n",
    "                     aggfunc='count').sort_values(by='name').plot(kind='bar', figsize=(20, 5),\n",
    "                                                                    title='Распределение жанров по количеству выпущенных игр');"
   ]
  },
  {
   "cell_type": "markdown",
   "metadata": {},
   "source": [
    "Игры, выпущенные для четырёх наиболее популярных платформ за 2015-2016 гг., чаще всего были в жанре \"экшн\", затем, с большим отрывом, следуют ролевые игры и прочие жанры. Наименее выпускаемыми были игры в жанре \"головоломки\"."
   ]
  },
  {
   "cell_type": "code",
   "execution_count": 47,
   "metadata": {},
   "outputs": [
    {
     "data": {
      "image/png": "[encoded data removed]",
      "text/plain": [
       "<Figure size 1440x360 with 1 Axes>"
      ]
     },
     "metadata": {
      "needs_background": "light"
     },
     "output_type": "display_data"
    }
   ],
   "source": [
    "# распределение жанров по продажам\n",
    "data_top.pivot_table(index='genre',\n",
    "                     values='all_sales',\n",
    "                     aggfunc='sum').sort_values(by='all_sales').plot(kind='bar', figsize=(20, 5),\n",
    "                                                                    title='Распределение жанров по общим продажам');"
   ]
  },
  {
   "cell_type": "markdown",
   "metadata": {},
   "source": [
    "Место по продажам и по количеству выпущенных игр соответсвует только для головоломок, они точно не популярны.\n",
    "\n",
    "Продажи других жанров не соответсвуют количеству наименований. Это значит, что медианное количество проданных копий одной игры в определённом жанре может быть значительно больше чем в другом, т.е. один фактически популярнее другого.\n",
    "\n",
    "Но так же возможно наличие отдельных бестселлеров, в которые играют все, в определённых жанрах.\n",
    "\n",
    "В целом можно сказать, что игры в жанрах \"экшн\", \"шутер\", \"ролевая\" и \"спортивные состязания\" пользуются спросом и более разнообразны по наименованиям.\n",
    "\n",
    "Сказать обратное можно о головоломках, стратегиях и файтингах."
   ]
  },
  {
   "cell_type": "markdown",
   "metadata": {},
   "source": [
    "### Определение портрета пользователя"
   ]
  },
  {
   "cell_type": "code",
   "execution_count": 48,
   "metadata": {},
   "outputs": [
    {
     "data": {
      "image/png": "[encoded data removed]",
      "text/plain": [
       "<Figure size 1440x288 with 1 Axes>"
      ]
     },
     "metadata": {
      "needs_background": "light"
     },
     "output_type": "display_data"
    },
    {
     "data": {
      "image/png": "[encoded data removed]",
      "text/plain": [
       "<Figure size 1440x288 with 1 Axes>"
      ]
     },
     "metadata": {
      "needs_background": "light"
     },
     "output_type": "display_data"
    },
    {
     "data": {
      "image/png": "[encoded data removed]",
      "text/plain": [
       "<Figure size 1440x288 with 1 Axes>"
      ]
     },
     "metadata": {
      "needs_background": "light"
     },
     "output_type": "display_data"
    }
   ],
   "source": [
    "# определение наиболее популярных платформ по регионам\n",
    "for region in ['na', 'eu', 'jp']:\n",
    "    t = f'Продажи игр 5-ти наиболее популярных платформ в регионе \"{region}\" за период 2015-2016 гг.'\n",
    "    reg_sales = f'{region}_sales'\n",
    "    data_last.pivot_table(index='platform',\n",
    "                          values=reg_sales,\n",
    "                          aggfunc='sum').sort_values(by=reg_sales)[-5:].plot(kind='bar', figsize=(20, 4), title=t);"
   ]
  },
  {
   "cell_type": "markdown",
   "metadata": {},
   "source": [
    "Для каждого из регионов популярность платформ отличается. Причём, если в Северной Америке и ЕС в топ-5 входят почти одни и те же платформы, но занимают различные позиции по продажам, то в Японии популярные платформы отличаются сильнее. Там платформа 3DS занимает первое место с большим отрывом, хотя в остальных регионах она лишь на 3-4 месте. Так же в Японии в на 3-м месте платформа PSV, которой нет в рейтинге в других рассматриваемых регионах."
   ]
  },
  {
   "cell_type": "code",
   "execution_count": 49,
   "metadata": {},
   "outputs": [
    {
     "data": {
      "image/png": "[encoded data removed]",
      "text/plain": [
       "<Figure size 1440x288 with 1 Axes>"
      ]
     },
     "metadata": {
      "needs_background": "light"
     },
     "output_type": "display_data"
    },
    {
     "data": {
      "image/png": "[encoded data removed]",
      "text/plain": [
       "<Figure size 1440x288 with 1 Axes>"
      ]
     },
     "metadata": {
      "needs_background": "light"
     },
     "output_type": "display_data"
    },
    {
     "data": {
      "image/png": "[encoded data removed]",
      "text/plain": [
       "<Figure size 1440x288 with 1 Axes>"
      ]
     },
     "metadata": {
      "needs_background": "light"
     },
     "output_type": "display_data"
    }
   ],
   "source": [
    "# определение наиболее популярных жанров по регионам\n",
    "for region in ['na', 'eu', 'jp']:\n",
    "    t = f'Продажи игр 5-ти наиболее популярных жанров в регионе \"{region}\" за период 2015-2016 гг.'\n",
    "    reg_sales = f'{region}_sales'\n",
    "    data_last.pivot_table(index='genre',\n",
    "                          values=reg_sales,\n",
    "                          aggfunc='sum').sort_values(by=reg_sales)[-5:].plot(kind='bar', figsize=(20, 4), title=t);"
   ]
  },
  {
   "cell_type": "markdown",
   "metadata": {},
   "source": [
    "В Америке и Европе предпочтения пользователей похожи больше всего популярны экшены, шутеры и игры про спорт, ролевые игры только на 4-м месте. В Японии, хотя и популярнее всех, на втором месте ролевые игры, причем популярность оставшихся жанров заметно позади, и спортивных игр там нет."
   ]
  },
  {
   "cell_type": "code",
   "execution_count": 50,
   "metadata": {},
   "outputs": [
    {
     "data": {
      "image/png": "[encoded data removed]",
      "text/plain": [
       "<Figure size 1440x288 with 1 Axes>"
      ]
     },
     "metadata": {
      "needs_background": "light"
     },
     "output_type": "display_data"
    },
    {
     "data": {
      "image/png": "[encoded data removed]",
      "text/plain": [
       "<Figure size 1440x288 with 1 Axes>"
      ]
     },
     "metadata": {
      "needs_background": "light"
     },
     "output_type": "display_data"
    },
    {
     "data": {
      "image/png": "[encoded data removed]",
      "text/plain": [
       "<Figure size 1440x288 with 1 Axes>"
      ]
     },
     "metadata": {
      "needs_background": "light"
     },
     "output_type": "display_data"
    }
   ],
   "source": [
    "# популярность игр с определённым рейтингом по регионам\n",
    "for region in ['na', 'eu', 'jp']:\n",
    "    t = f'Продажи игр в зависимости от возрастного рейтинга в регионе \"{region}\" за период 2015-2016 гг.'\n",
    "    reg_sales = f'{region}_sales'\n",
    "    data_last.pivot_table(index='rating',\n",
    "                          values=reg_sales,\n",
    "                          aggfunc='sum').sort_values(by=reg_sales).plot(kind='bar', figsize=(20, 4), title=t);"
   ]
  },
  {
   "cell_type": "markdown",
   "metadata": {},
   "source": [
    "Судя по графикам американцы и европецы предпочитают игры рейтинга М, включающие \"достаточно жестокое насилие, большое количество крови с расчленением, непристойные сексуальные сцены или грубую ненормативную лексику\". Японцы же ограничиваются более спокойными играми, без излишне откровенных сцен.\n",
    "\n",
    "В то же время в Японии игр без рейтинга намного больше. Это можно объяснить сильной национальной игровой индустрией (при этом многие игры выходят исключительно на японский рынок) и тем, что в Японии есть собственное рейтинговое агенство, и применять американский ESRB незачем."
   ]
  },
  {
   "cell_type": "markdown",
   "metadata": {},
   "source": [
    "### Проверка гипотез"
   ]
  },
  {
   "cell_type": "markdown",
   "metadata": {},
   "source": [
    "**предположение №1: средние пользовательские рейтинги игр на платформах Xbox One и ПК одинаковы**"
   ]
  },
  {
   "cell_type": "markdown",
   "metadata": {},
   "source": [
    "H0: средние пользовательские рейтинги игр на платформах Xbox One и ПК одинаковы\n",
    "\n",
    "H1: средние пользовательские рейтинги игр на платформах Xbox One и ПК отличаются"
   ]
  },
  {
   "cell_type": "code",
   "execution_count": 51,
   "metadata": {},
   "outputs": [
    {
     "name": "stdout",
     "output_type": "stream",
     "text": [
      "Размеры выборок: 165 100\n",
      "Средние значения выборок: 6.64 6.39\n"
     ]
    }
   ],
   "source": [
    "# выборки значений пользовательских оценок для исследуемых платформ\n",
    "u_score_xone = data_last.loc[data_last['platform'] == 'XOne', 'user_score'].dropna()\n",
    "u_score_pc = data_last.loc[data_last['platform'] == 'PC', 'user_score'].dropna()\n",
    "\n",
    "print('Размеры выборок:', u_score_xone.shape[0], u_score_pc.shape[0])\n",
    "print('Средние значения выборок:', round(u_score_xone.mean(), 2), round(u_score_pc.mean(), 2))"
   ]
  },
  {
   "cell_type": "markdown",
   "metadata": {},
   "source": [
    "Несмотря на то, что размеры выборок достаточны и примерно равны. Платформы принципиально разные, но без дополнительных данных о пользователях сложно утверждать, что в их поведении есть принципиальные различия. Примем дисперсии равными."
   ]
  },
  {
   "cell_type": "code",
   "execution_count": 52,
   "metadata": {},
   "outputs": [
    {
     "name": "stdout",
     "output_type": "stream",
     "text": [
      "p-значение: 0.18790293830056715\n",
      "Не получилось отвергнуть нулевую гипотезу\n"
     ]
    }
   ],
   "source": [
    "# сравниваем две независимые совокупности, используем t-test\n",
    "alpha = 0.05\n",
    "results = st.ttest_ind(u_score_xone, u_score_pc, equal_var=True)\n",
    "\n",
    "print('p-значение:', results.pvalue)\n",
    "\n",
    "if results.pvalue < alpha:\n",
    "    print('Отвергаем нулевую гипотезу')\n",
    "else:\n",
    "    print('Не получилось отвергнуть нулевую гипотезу')"
   ]
  },
  {
   "cell_type": "markdown",
   "metadata": {},
   "source": [
    "Нулевую гипотезу отвергнуть не получилось. Вывод: значимого различия между средними пользовательскими оценками игр на платформах Xbox One и ПК не обнаружено (разница средних около 4%)."
   ]
  },
  {
   "cell_type": "markdown",
   "metadata": {},
   "source": [
    "**предположение №2: средние пользовательские рейтинги игр жанров \"экшн\" и \"спортивные соревнования\" разные**"
   ]
  },
  {
   "cell_type": "markdown",
   "metadata": {},
   "source": [
    "H0: средние пользовательские рейтинги игр жанров \"экшн\" и \"спортивные соревнования\" одинаковы\n",
    "\n",
    "H1: средние пользовательские рейтинги игр жанров \"экшн\" и \"спортивные соревнования\" отличаются"
   ]
  },
  {
   "cell_type": "code",
   "execution_count": 53,
   "metadata": {},
   "outputs": [
    {
     "name": "stdout",
     "output_type": "stream",
     "text": [
      "Размеры выборок: 425 104\n",
      "Средние значения выборок: 6.98 5.23\n"
     ]
    }
   ],
   "source": [
    "# выборки значений пользовательских оценок для исследуемых жанров\n",
    "u_score_action = data_last.loc[data_last['genre'] == 'Action', 'user_score'].dropna()\n",
    "u_score_sports = data_last.loc[data_last['genre'] == 'Sports', 'user_score'].dropna()\n",
    "\n",
    "print('Размеры выборок:', u_score_action.shape[0], u_score_sports.shape[0])\n",
    "print('Средние значения выборок:', round(u_score_action.mean(), 2), round(u_score_sports.mean(), 2))"
   ]
  },
  {
   "cell_type": "markdown",
   "metadata": {},
   "source": [
    "Размеры выборок значительно отличаются, поэтому и их дисперсии так же могут отличаться."
   ]
  },
  {
   "cell_type": "code",
   "execution_count": 54,
   "metadata": {},
   "outputs": [
    {
     "name": "stdout",
     "output_type": "stream",
     "text": [
      "p-значение: 6.591059706211676e-15\n",
      "Отвергаем нулевую гипотезу\n"
     ]
    }
   ],
   "source": [
    "# сравниваем две независимые совокупности, используем t-test\n",
    "alpha = 0.05\n",
    "results = st.ttest_ind(u_score_action, u_score_sports, equal_var=False)\n",
    "\n",
    "print('p-значение:', results.pvalue)\n",
    "\n",
    "if results.pvalue < alpha:\n",
    "    print('Отвергаем нулевую гипотезу')\n",
    "else:\n",
    "    print('Не получилось отвергнуть нулевую гипотезу')"
   ]
  },
  {
   "cell_type": "markdown",
   "metadata": {},
   "source": [
    "Нулевая гипотеза отвергнута. Вывод: есть основания полагать, что средние пользовательские рейтинги игр жанров \"экшн\" и \"спортивные соревнования\" действительно отличаются (разница средних около 33%)"
   ]
  },
  {
   "cell_type": "markdown",
   "metadata": {},
   "source": [
    "Оба предположения предполагают простое сравнения двух совокупностей, без дополнительных условий, и оба проверяются одинаковым способом.\n",
    "\n",
    "За нулевую гипотезу принимается та, что утверждает **равенство** средних сначений двух генеральных совокупностей: всех существующих пользовательских оценок для Xbox One и ПК (или оценок для жанров \"экшн\" и \"спортивные соревнования). В предположениях нет никаких дополнительных условий для сравнения, поэтому в качестве альтернативной гипотезы принимается простая противоположность нулевой.\n",
    "\n",
    "Для проверки гипотез необходимо сравнить две независимые совокупности, поэтому применяем для этого Т-тест Стьюдента."
   ]
  },
  {
   "cell_type": "markdown",
   "metadata": {},
   "source": [
    "### Общий вывод"
   ]
  },
  {
   "cell_type": "markdown",
   "metadata": {},
   "source": [
    "В рамках проекта был изучен датасет, исправлены ошибки в виде пропусков и дубликатов. Были исследованы все основные параметры. \n",
    "Изучена динамика продаж игр по годам. Выявлен средний срок сменяемости игровых платформ и найдены актуальные на текущий момент игровые платформы. Изучены особенности предпочтений пользователей из разных регионов и то, как они влияют на продажи. Сопоставлены некоторые параметры отдельных платформ.\n",
    "\n",
    "На основе проведённых исследований сделан ряд нижеследующих выводов.\n",
    "\n",
    "Последний консольных и ПК видеоигр пройден в 2008-2009 годах. На данный момент рынок консольных видеоигр находится в стадии падения, и, судя по тренду, продолжит падение и в 2017 году. Рынок игр на ПК стабилен, но значительно меньше по объёму. На текущий момент платформы PS4 и Xbox One и 3DS являются наиболе актуальными, но пик их популярности уже пройден, а с момента их выпуска прошло уже 6 лет и новых платформ, которые могли бы их сменить не появилось. В ближайшие годы должны появиться новые платформы, которые через 4-5 лет придут на смену текущим лидерам.\n",
    "\n",
    "Несмотря на то, что со значительным отрывом, наиболее популярные консоли за 2015-2016 гг. являются консоли, стоит рассмотреть так же игры на ПК. За 2016 год так же стали продаваться немного лучше и вышли на 4е место по продажам, кроме того ПК как платформа достаточно стабильна и не \"умрёт\" в ближайшие годы. Игры продаются неодинаково хорошо - медианное значение продаж ниже среднего, значит при выбора торговой стратегии следует ориентироваться не только на платформу, но и на жанр или популярность отдельных игр.\n",
    "\n",
    "Отзывы критиков и пользователей напротив практически не коррелируют с продажами, скорее являясь одним из способов поддержания активности сообщества и общего информирования об играх.\n",
    "\n",
    "Наиболее популярным жанром по количеству выпущенных игр и по продажам, в целом по миру, является \"шутер\", наименее популярны игры-головоломки. В целом, количество наименований игр определённого жанра не говорит о его популярности у пользователей, т.к. для большинства жанров распределения по количеству игр и количеству продаж не соответсвуют.\n",
    "\n",
    "В целом можно сказать, что игры в жанрах \"экшн\", \"шутер\", \"ролевая\" и \"спортивные состязания\" пользуются спросом и более разнообразны по наименованиям, чем другие игры в остальных жанрах.\n",
    "\n",
    "Предпочтения пользователей заметно отличаются в зависимости от региона. В Северной Америке и Европе популярные платформы, жанры и возрастной рейтинг игр отличаются заметно отличаются от того же в Японии.\n",
    "\n",
    "Сравнение отдельных категорий по средней пользовательской оценке подтвердили, что платформы Xbox One и ПК оцениваются пользователями примерно одинаково, а игры в жанре \"экшн\" и \"спортивные состязания\" по разному."
   ]
  }
 ],
 "metadata": {
  "ExecuteTimeLog": [
   {
    "duration": 400,
    "start_time": "2022-08-08T09:38:14.719Z"
   },
   {
    "duration": 228,
    "start_time": "2022-08-08T09:38:15.819Z"
   },
   {
    "duration": 391,
    "start_time": "2022-08-08T09:49:53.450Z"
   },
   {
    "duration": 56,
    "start_time": "2022-08-08T09:49:53.843Z"
   },
   {
    "duration": 44,
    "start_time": "2022-08-08T09:49:53.901Z"
   },
   {
    "duration": 681,
    "start_time": "2022-08-08T09:49:53.946Z"
   },
   {
    "duration": 38,
    "start_time": "2022-08-08T09:50:44.863Z"
   },
   {
    "duration": 48,
    "start_time": "2022-08-08T09:51:04.987Z"
   },
   {
    "duration": 36,
    "start_time": "2022-08-08T09:51:25.647Z"
   },
   {
    "duration": 15,
    "start_time": "2022-08-08T10:03:27.127Z"
   },
   {
    "duration": 12,
    "start_time": "2022-08-08T10:04:45.727Z"
   },
   {
    "duration": 86,
    "start_time": "2022-08-08T10:16:01.897Z"
   },
   {
    "duration": 562,
    "start_time": "2022-08-08T10:16:48.919Z"
   },
   {
    "duration": 22,
    "start_time": "2022-08-08T10:20:39.356Z"
   },
   {
    "duration": 19,
    "start_time": "2022-08-08T10:21:03.356Z"
   },
   {
    "duration": 65,
    "start_time": "2022-08-08T10:21:33.060Z"
   },
   {
    "duration": 7,
    "start_time": "2022-08-08T10:25:23.797Z"
   },
   {
    "duration": 8,
    "start_time": "2022-08-08T10:25:33.906Z"
   },
   {
    "duration": 7,
    "start_time": "2022-08-08T10:25:39.967Z"
   },
   {
    "duration": 8,
    "start_time": "2022-08-08T10:28:36.017Z"
   },
   {
    "duration": 8,
    "start_time": "2022-08-08T10:29:04.587Z"
   },
   {
    "duration": 2,
    "start_time": "2022-08-08T10:29:10.153Z"
   },
   {
    "duration": 56,
    "start_time": "2022-08-08T10:29:10.157Z"
   },
   {
    "duration": 43,
    "start_time": "2022-08-08T10:29:10.215Z"
   },
   {
    "duration": 19,
    "start_time": "2022-08-08T10:29:12.097Z"
   },
   {
    "duration": 2,
    "start_time": "2022-08-08T10:29:51.716Z"
   },
   {
    "duration": 51,
    "start_time": "2022-08-08T10:29:51.720Z"
   },
   {
    "duration": 39,
    "start_time": "2022-08-08T10:29:51.772Z"
   },
   {
    "duration": 20,
    "start_time": "2022-08-08T10:29:54.737Z"
   },
   {
    "duration": 11,
    "start_time": "2022-08-08T10:30:43.476Z"
   },
   {
    "duration": 15,
    "start_time": "2022-08-08T10:38:01.857Z"
   },
   {
    "duration": 11,
    "start_time": "2022-08-08T10:47:36.315Z"
   },
   {
    "duration": 3,
    "start_time": "2022-08-08T10:52:21.266Z"
   },
   {
    "duration": 78,
    "start_time": "2022-08-08T10:52:21.271Z"
   },
   {
    "duration": 57,
    "start_time": "2022-08-08T10:52:21.351Z"
   },
   {
    "duration": 11,
    "start_time": "2022-08-08T10:52:21.410Z"
   },
   {
    "duration": 14,
    "start_time": "2022-08-08T10:52:23.043Z"
   },
   {
    "duration": 12,
    "start_time": "2022-08-08T10:54:17.599Z"
   },
   {
    "duration": 2,
    "start_time": "2022-08-08T10:54:30.084Z"
   },
   {
    "duration": 53,
    "start_time": "2022-08-08T10:54:30.089Z"
   },
   {
    "duration": 46,
    "start_time": "2022-08-08T10:54:30.143Z"
   },
   {
    "duration": 16,
    "start_time": "2022-08-08T10:54:30.190Z"
   },
   {
    "duration": 12,
    "start_time": "2022-08-08T10:54:34.196Z"
   },
   {
    "duration": 2,
    "start_time": "2022-08-08T10:54:38.767Z"
   },
   {
    "duration": 49,
    "start_time": "2022-08-08T10:54:38.771Z"
   },
   {
    "duration": 40,
    "start_time": "2022-08-08T10:54:38.821Z"
   },
   {
    "duration": 11,
    "start_time": "2022-08-08T10:54:38.862Z"
   },
   {
    "duration": 12,
    "start_time": "2022-08-08T10:54:41.074Z"
   },
   {
    "duration": 3,
    "start_time": "2022-08-08T11:00:10.156Z"
   },
   {
    "duration": 53,
    "start_time": "2022-08-08T11:00:10.161Z"
   },
   {
    "duration": 50,
    "start_time": "2022-08-08T11:00:10.216Z"
   },
   {
    "duration": 12,
    "start_time": "2022-08-08T11:00:10.268Z"
   },
   {
    "duration": 74,
    "start_time": "2022-08-08T11:00:13.014Z"
   },
   {
    "duration": 75,
    "start_time": "2022-08-08T11:02:00.926Z"
   },
   {
    "duration": 100,
    "start_time": "2022-08-08T11:02:09.030Z"
   },
   {
    "duration": 15,
    "start_time": "2022-08-08T11:02:39.936Z"
   },
   {
    "duration": 16,
    "start_time": "2022-08-08T11:03:12.786Z"
   },
   {
    "duration": 72,
    "start_time": "2022-08-08T11:03:48.506Z"
   },
   {
    "duration": 7,
    "start_time": "2022-08-08T11:04:06.511Z"
   },
   {
    "duration": 11,
    "start_time": "2022-08-08T11:04:21.182Z"
   },
   {
    "duration": 11,
    "start_time": "2022-08-08T11:04:41.524Z"
   },
   {
    "duration": 7,
    "start_time": "2022-08-08T11:05:02.890Z"
   },
   {
    "duration": 2,
    "start_time": "2022-08-08T11:05:52.778Z"
   },
   {
    "duration": 66,
    "start_time": "2022-08-08T11:05:52.782Z"
   },
   {
    "duration": 48,
    "start_time": "2022-08-08T11:05:52.850Z"
   },
   {
    "duration": 13,
    "start_time": "2022-08-08T11:05:52.900Z"
   },
   {
    "duration": 16,
    "start_time": "2022-08-08T11:06:37.408Z"
   },
   {
    "duration": 3,
    "start_time": "2022-08-08T11:06:52.406Z"
   },
   {
    "duration": 50,
    "start_time": "2022-08-08T11:06:52.416Z"
   },
   {
    "duration": 43,
    "start_time": "2022-08-08T11:06:52.468Z"
   },
   {
    "duration": 11,
    "start_time": "2022-08-08T11:06:52.512Z"
   },
   {
    "duration": 15,
    "start_time": "2022-08-08T11:07:30.608Z"
   },
   {
    "duration": 18,
    "start_time": "2022-08-08T11:07:52.566Z"
   },
   {
    "duration": 2,
    "start_time": "2022-08-08T11:09:37.932Z"
   },
   {
    "duration": 61,
    "start_time": "2022-08-08T11:09:37.936Z"
   },
   {
    "duration": 50,
    "start_time": "2022-08-08T11:09:37.998Z"
   },
   {
    "duration": 13,
    "start_time": "2022-08-08T11:09:38.050Z"
   },
   {
    "duration": 17,
    "start_time": "2022-08-08T11:09:40.759Z"
   },
   {
    "duration": 8,
    "start_time": "2022-08-08T11:10:03.624Z"
   },
   {
    "duration": 14,
    "start_time": "2022-08-08T11:10:26.358Z"
   },
   {
    "duration": 8,
    "start_time": "2022-08-08T11:17:16.711Z"
   },
   {
    "duration": 7,
    "start_time": "2022-08-08T11:17:25.680Z"
   },
   {
    "duration": 17,
    "start_time": "2022-08-08T11:17:48.247Z"
   },
   {
    "duration": 15,
    "start_time": "2022-08-08T11:18:21.357Z"
   },
   {
    "duration": 2,
    "start_time": "2022-08-08T11:18:28.748Z"
   },
   {
    "duration": 53,
    "start_time": "2022-08-08T11:18:28.752Z"
   },
   {
    "duration": 46,
    "start_time": "2022-08-08T11:18:28.807Z"
   },
   {
    "duration": 11,
    "start_time": "2022-08-08T11:18:28.855Z"
   },
   {
    "duration": 17,
    "start_time": "2022-08-08T11:18:38.238Z"
   },
   {
    "duration": 16,
    "start_time": "2022-08-08T11:18:53.168Z"
   },
   {
    "duration": 17,
    "start_time": "2022-08-08T11:19:09.137Z"
   },
   {
    "duration": 118,
    "start_time": "2022-08-08T11:19:31.352Z"
   },
   {
    "duration": 3,
    "start_time": "2022-08-08T11:20:47.327Z"
   },
   {
    "duration": 50,
    "start_time": "2022-08-08T11:20:47.333Z"
   },
   {
    "duration": 44,
    "start_time": "2022-08-08T11:20:47.384Z"
   },
   {
    "duration": 11,
    "start_time": "2022-08-08T11:20:47.430Z"
   },
   {
    "duration": 17,
    "start_time": "2022-08-08T11:20:49.230Z"
   },
   {
    "duration": 4,
    "start_time": "2022-08-08T11:23:40.305Z"
   },
   {
    "duration": 54,
    "start_time": "2022-08-08T11:23:40.311Z"
   },
   {
    "duration": 46,
    "start_time": "2022-08-08T11:23:40.366Z"
   },
   {
    "duration": 11,
    "start_time": "2022-08-08T11:23:40.413Z"
   },
   {
    "duration": 20,
    "start_time": "2022-08-08T11:23:42.417Z"
   },
   {
    "duration": 4,
    "start_time": "2022-08-08T11:28:06.816Z"
   },
   {
    "duration": 66,
    "start_time": "2022-08-08T11:28:06.822Z"
   },
   {
    "duration": 43,
    "start_time": "2022-08-08T11:28:06.890Z"
   },
   {
    "duration": 14,
    "start_time": "2022-08-08T11:28:06.935Z"
   },
   {
    "duration": 18,
    "start_time": "2022-08-08T11:28:08.548Z"
   },
   {
    "duration": 3,
    "start_time": "2022-08-08T11:33:26.067Z"
   },
   {
    "duration": 90,
    "start_time": "2022-08-08T11:33:26.072Z"
   },
   {
    "duration": 59,
    "start_time": "2022-08-08T11:33:26.164Z"
   },
   {
    "duration": 15,
    "start_time": "2022-08-08T11:33:26.224Z"
   },
   {
    "duration": 5,
    "start_time": "2022-08-08T11:33:27.958Z"
   },
   {
    "duration": 14,
    "start_time": "2022-08-08T11:36:42.820Z"
   },
   {
    "duration": 4,
    "start_time": "2022-08-08T11:37:58.828Z"
   },
   {
    "duration": 11,
    "start_time": "2022-08-08T11:38:02.885Z"
   },
   {
    "duration": 10,
    "start_time": "2022-08-08T11:38:17.465Z"
   },
   {
    "duration": 18,
    "start_time": "2022-08-08T11:38:37.844Z"
   },
   {
    "duration": 30,
    "start_time": "2022-08-08T11:40:05.711Z"
   },
   {
    "duration": 3,
    "start_time": "2022-08-08T11:48:31.849Z"
   },
   {
    "duration": 70,
    "start_time": "2022-08-08T11:48:31.854Z"
   },
   {
    "duration": 47,
    "start_time": "2022-08-08T11:48:31.927Z"
   },
   {
    "duration": 34,
    "start_time": "2022-08-08T11:48:31.976Z"
   },
   {
    "duration": 28,
    "start_time": "2022-08-08T11:48:32.013Z"
   },
   {
    "duration": 13,
    "start_time": "2022-08-08T11:48:36.566Z"
   },
   {
    "duration": 81,
    "start_time": "2022-08-08T11:48:56.687Z"
   },
   {
    "duration": 3,
    "start_time": "2022-08-08T11:49:27.155Z"
   },
   {
    "duration": 80,
    "start_time": "2022-08-08T11:49:27.161Z"
   },
   {
    "duration": 69,
    "start_time": "2022-08-08T11:49:27.243Z"
   },
   {
    "duration": 18,
    "start_time": "2022-08-08T11:49:27.315Z"
   },
   {
    "duration": 31,
    "start_time": "2022-08-08T11:49:27.335Z"
   },
   {
    "duration": 106,
    "start_time": "2022-08-08T11:49:29.033Z"
   },
   {
    "duration": 15,
    "start_time": "2022-08-08T11:50:09.052Z"
   },
   {
    "duration": 16,
    "start_time": "2022-08-08T11:50:48.825Z"
   },
   {
    "duration": 9,
    "start_time": "2022-08-08T11:51:17.350Z"
   },
   {
    "duration": 10,
    "start_time": "2022-08-08T11:51:29.943Z"
   },
   {
    "duration": 3,
    "start_time": "2022-08-08T11:53:52.418Z"
   },
   {
    "duration": 61,
    "start_time": "2022-08-08T11:53:52.424Z"
   },
   {
    "duration": 58,
    "start_time": "2022-08-08T11:53:52.487Z"
   },
   {
    "duration": 11,
    "start_time": "2022-08-08T11:53:52.546Z"
   },
   {
    "duration": 19,
    "start_time": "2022-08-08T11:53:52.559Z"
   },
   {
    "duration": 9,
    "start_time": "2022-08-08T11:53:53.947Z"
   },
   {
    "duration": 3,
    "start_time": "2022-08-08T12:01:26.858Z"
   },
   {
    "duration": 84,
    "start_time": "2022-08-08T12:01:26.863Z"
   },
   {
    "duration": 48,
    "start_time": "2022-08-08T12:01:26.949Z"
   },
   {
    "duration": 16,
    "start_time": "2022-08-08T12:01:27.005Z"
   },
   {
    "duration": 39,
    "start_time": "2022-08-08T12:01:27.024Z"
   },
   {
    "duration": 8,
    "start_time": "2022-08-08T12:01:27.064Z"
   },
   {
    "duration": 6,
    "start_time": "2022-08-08T12:01:28.647Z"
   },
   {
    "duration": 862,
    "start_time": "2022-08-08T12:01:33.448Z"
   },
   {
    "duration": 3,
    "start_time": "2022-08-08T12:01:58.195Z"
   },
   {
    "duration": 64,
    "start_time": "2022-08-08T12:01:58.201Z"
   },
   {
    "duration": 51,
    "start_time": "2022-08-08T12:01:58.266Z"
   },
   {
    "duration": 15,
    "start_time": "2022-08-08T12:01:58.319Z"
   },
   {
    "duration": 20,
    "start_time": "2022-08-08T12:01:58.337Z"
   },
   {
    "duration": 10,
    "start_time": "2022-08-08T12:01:58.359Z"
   },
   {
    "duration": 1201,
    "start_time": "2022-08-08T12:02:01.087Z"
   },
   {
    "duration": 3,
    "start_time": "2022-08-08T12:02:18.668Z"
   },
   {
    "duration": 65,
    "start_time": "2022-08-08T12:02:18.673Z"
   },
   {
    "duration": 50,
    "start_time": "2022-08-08T12:02:18.740Z"
   },
   {
    "duration": 29,
    "start_time": "2022-08-08T12:02:18.792Z"
   },
   {
    "duration": 38,
    "start_time": "2022-08-08T12:02:18.824Z"
   },
   {
    "duration": 17,
    "start_time": "2022-08-08T12:02:18.863Z"
   },
   {
    "duration": 6,
    "start_time": "2022-08-08T12:02:47.047Z"
   },
   {
    "duration": 21,
    "start_time": "2022-08-08T12:04:00.988Z"
   },
   {
    "duration": 3,
    "start_time": "2022-08-08T12:08:28.238Z"
   },
   {
    "duration": 78,
    "start_time": "2022-08-08T12:08:28.243Z"
   },
   {
    "duration": 48,
    "start_time": "2022-08-08T12:08:28.323Z"
   },
   {
    "duration": 13,
    "start_time": "2022-08-08T12:08:28.373Z"
   },
   {
    "duration": 20,
    "start_time": "2022-08-08T12:08:28.405Z"
   },
   {
    "duration": 12,
    "start_time": "2022-08-08T12:08:28.426Z"
   },
   {
    "duration": 5,
    "start_time": "2022-08-08T12:08:28.440Z"
   },
   {
    "duration": 8,
    "start_time": "2022-08-08T12:08:35.123Z"
   },
   {
    "duration": 3,
    "start_time": "2022-08-09T09:47:28.747Z"
   },
   {
    "duration": 165,
    "start_time": "2022-08-09T09:48:34.345Z"
   },
   {
    "duration": 40,
    "start_time": "2022-08-09T10:14:33.354Z"
   },
   {
    "duration": 703,
    "start_time": "2022-08-09T10:14:39.265Z"
   },
   {
    "duration": 178,
    "start_time": "2022-08-09T10:14:39.970Z"
   },
   {
    "duration": 56,
    "start_time": "2022-08-09T10:14:40.150Z"
   },
   {
    "duration": 14,
    "start_time": "2022-08-09T10:14:40.208Z"
   },
   {
    "duration": 22,
    "start_time": "2022-08-09T10:14:40.224Z"
   },
   {
    "duration": 10,
    "start_time": "2022-08-09T10:14:40.248Z"
   },
   {
    "duration": 4,
    "start_time": "2022-08-09T10:14:40.259Z"
   },
   {
    "duration": 42,
    "start_time": "2022-08-09T10:14:40.265Z"
   },
   {
    "duration": 4,
    "start_time": "2022-08-09T10:14:43.184Z"
   },
   {
    "duration": 33,
    "start_time": "2022-08-09T10:16:01.305Z"
   },
   {
    "duration": 4,
    "start_time": "2022-08-09T10:17:03.285Z"
   },
   {
    "duration": 3,
    "start_time": "2022-08-09T10:18:00.865Z"
   },
   {
    "duration": 73,
    "start_time": "2022-08-09T10:18:00.869Z"
   },
   {
    "duration": 42,
    "start_time": "2022-08-09T10:18:00.943Z"
   },
   {
    "duration": 13,
    "start_time": "2022-08-09T10:18:00.987Z"
   },
   {
    "duration": 5,
    "start_time": "2022-08-09T10:18:02.765Z"
   },
   {
    "duration": 2,
    "start_time": "2022-08-09T10:20:12.725Z"
   },
   {
    "duration": 53,
    "start_time": "2022-08-09T10:20:12.729Z"
   },
   {
    "duration": 41,
    "start_time": "2022-08-09T10:20:12.783Z"
   },
   {
    "duration": 12,
    "start_time": "2022-08-09T10:20:12.826Z"
   },
   {
    "duration": 17,
    "start_time": "2022-08-09T10:20:12.839Z"
   },
   {
    "duration": 12,
    "start_time": "2022-08-09T10:20:12.857Z"
   },
   {
    "duration": 4,
    "start_time": "2022-08-09T10:20:12.870Z"
   },
   {
    "duration": 8,
    "start_time": "2022-08-09T10:20:12.876Z"
   },
   {
    "duration": 1631,
    "start_time": "2022-08-09T10:22:56.845Z"
   },
   {
    "duration": 12,
    "start_time": "2022-08-09T10:23:17.106Z"
   },
   {
    "duration": 7,
    "start_time": "2022-08-09T10:24:10.545Z"
   },
   {
    "duration": 6,
    "start_time": "2022-08-09T10:24:18.706Z"
   },
   {
    "duration": 7,
    "start_time": "2022-08-09T10:27:39.285Z"
   },
   {
    "duration": 14,
    "start_time": "2022-08-09T10:28:48.765Z"
   },
   {
    "duration": 21,
    "start_time": "2022-08-09T10:29:08.446Z"
   },
   {
    "duration": 14,
    "start_time": "2022-08-09T10:30:14.886Z"
   },
   {
    "duration": 2,
    "start_time": "2022-08-09T10:30:31.787Z"
   },
   {
    "duration": 51,
    "start_time": "2022-08-09T10:30:31.792Z"
   },
   {
    "duration": 44,
    "start_time": "2022-08-09T10:30:31.844Z"
   },
   {
    "duration": 11,
    "start_time": "2022-08-09T10:30:31.889Z"
   },
   {
    "duration": 17,
    "start_time": "2022-08-09T10:30:31.905Z"
   },
   {
    "duration": 12,
    "start_time": "2022-08-09T10:30:31.924Z"
   },
   {
    "duration": 7,
    "start_time": "2022-08-09T10:30:31.937Z"
   },
   {
    "duration": 11,
    "start_time": "2022-08-09T10:30:31.946Z"
   },
   {
    "duration": 21,
    "start_time": "2022-08-09T10:30:36.284Z"
   },
   {
    "duration": 2,
    "start_time": "2022-08-09T10:31:30.586Z"
   },
   {
    "duration": 53,
    "start_time": "2022-08-09T10:31:30.590Z"
   },
   {
    "duration": 42,
    "start_time": "2022-08-09T10:31:30.644Z"
   },
   {
    "duration": 11,
    "start_time": "2022-08-09T10:31:30.688Z"
   },
   {
    "duration": 26,
    "start_time": "2022-08-09T10:31:30.701Z"
   },
   {
    "duration": 7,
    "start_time": "2022-08-09T10:31:30.729Z"
   },
   {
    "duration": 5,
    "start_time": "2022-08-09T10:31:30.737Z"
   },
   {
    "duration": 12,
    "start_time": "2022-08-09T10:31:30.743Z"
   },
   {
    "duration": 26,
    "start_time": "2022-08-09T10:31:30.756Z"
   },
   {
    "duration": 3,
    "start_time": "2022-08-09T10:31:30.784Z"
   },
   {
    "duration": 10,
    "start_time": "2022-08-09T10:31:30.788Z"
   },
   {
    "duration": 30,
    "start_time": "2022-08-09T10:31:30.799Z"
   },
   {
    "duration": 17,
    "start_time": "2022-08-09T10:31:49.079Z"
   },
   {
    "duration": 13,
    "start_time": "2022-08-09T10:33:30.205Z"
   },
   {
    "duration": 13,
    "start_time": "2022-08-09T10:33:46.685Z"
   },
   {
    "duration": 14,
    "start_time": "2022-08-09T10:33:59.906Z"
   },
   {
    "duration": 15,
    "start_time": "2022-08-09T10:48:48.045Z"
   },
   {
    "duration": 1619,
    "start_time": "2022-08-09T11:20:07.711Z"
   },
   {
    "duration": 14,
    "start_time": "2022-08-09T11:21:47.966Z"
   },
   {
    "duration": 3,
    "start_time": "2022-08-09T11:23:05.465Z"
   },
   {
    "duration": 63,
    "start_time": "2022-08-09T11:23:05.470Z"
   },
   {
    "duration": 44,
    "start_time": "2022-08-09T11:23:05.534Z"
   },
   {
    "duration": 27,
    "start_time": "2022-08-09T11:23:05.580Z"
   },
   {
    "duration": 18,
    "start_time": "2022-08-09T11:23:05.608Z"
   },
   {
    "duration": 9,
    "start_time": "2022-08-09T11:23:05.627Z"
   },
   {
    "duration": 4,
    "start_time": "2022-08-09T11:23:05.638Z"
   },
   {
    "duration": 13,
    "start_time": "2022-08-09T11:23:05.644Z"
   },
   {
    "duration": 48,
    "start_time": "2022-08-09T11:23:05.659Z"
   },
   {
    "duration": 1736,
    "start_time": "2022-08-09T11:23:17.328Z"
   },
   {
    "duration": 14,
    "start_time": "2022-08-09T11:23:26.846Z"
   },
   {
    "duration": 4,
    "start_time": "2022-08-09T11:42:58.706Z"
   },
   {
    "duration": 54,
    "start_time": "2022-08-09T11:42:58.712Z"
   },
   {
    "duration": 47,
    "start_time": "2022-08-09T11:42:58.767Z"
   },
   {
    "duration": 16,
    "start_time": "2022-08-09T11:42:58.816Z"
   },
   {
    "duration": 25,
    "start_time": "2022-08-09T11:42:58.835Z"
   },
   {
    "duration": 10,
    "start_time": "2022-08-09T11:42:58.862Z"
   },
   {
    "duration": 12,
    "start_time": "2022-08-09T11:42:58.874Z"
   },
   {
    "duration": 23,
    "start_time": "2022-08-09T11:42:58.888Z"
   },
   {
    "duration": 17,
    "start_time": "2022-08-09T11:42:58.912Z"
   },
   {
    "duration": 29421,
    "start_time": "2022-08-09T11:43:01.026Z"
   },
   {
    "duration": 14,
    "start_time": "2022-08-09T11:43:37.485Z"
   },
   {
    "duration": 3,
    "start_time": "2022-08-09T11:53:25.691Z"
   },
   {
    "duration": 54,
    "start_time": "2022-08-09T11:53:25.696Z"
   },
   {
    "duration": 47,
    "start_time": "2022-08-09T11:53:25.752Z"
   },
   {
    "duration": 12,
    "start_time": "2022-08-09T11:53:25.800Z"
   },
   {
    "duration": 17,
    "start_time": "2022-08-09T11:53:25.814Z"
   },
   {
    "duration": 12,
    "start_time": "2022-08-09T11:53:25.833Z"
   },
   {
    "duration": 4,
    "start_time": "2022-08-09T11:53:25.846Z"
   },
   {
    "duration": 11,
    "start_time": "2022-08-09T11:53:25.851Z"
   },
   {
    "duration": 14,
    "start_time": "2022-08-09T11:53:25.864Z"
   },
   {
    "duration": 8,
    "start_time": "2022-08-09T11:53:28.085Z"
   },
   {
    "duration": 3,
    "start_time": "2022-08-09T11:58:17.669Z"
   },
   {
    "duration": 53,
    "start_time": "2022-08-09T11:58:17.674Z"
   },
   {
    "duration": 49,
    "start_time": "2022-08-09T11:58:17.729Z"
   },
   {
    "duration": 41,
    "start_time": "2022-08-09T11:58:17.780Z"
   },
   {
    "duration": 32,
    "start_time": "2022-08-09T11:58:17.825Z"
   },
   {
    "duration": 14,
    "start_time": "2022-08-09T11:58:17.860Z"
   },
   {
    "duration": 30,
    "start_time": "2022-08-09T11:58:17.877Z"
   },
   {
    "duration": 16,
    "start_time": "2022-08-09T11:58:17.909Z"
   },
   {
    "duration": 28,
    "start_time": "2022-08-09T11:58:17.928Z"
   },
   {
    "duration": 7,
    "start_time": "2022-08-09T11:58:17.958Z"
   },
   {
    "duration": 77,
    "start_time": "2022-08-09T11:58:24.386Z"
   },
   {
    "duration": 14,
    "start_time": "2022-08-09T11:58:43.486Z"
   },
   {
    "duration": 2,
    "start_time": "2022-08-09T12:01:52.007Z"
   },
   {
    "duration": 57,
    "start_time": "2022-08-09T12:01:52.012Z"
   },
   {
    "duration": 58,
    "start_time": "2022-08-09T12:01:52.071Z"
   },
   {
    "duration": 13,
    "start_time": "2022-08-09T12:01:52.130Z"
   },
   {
    "duration": 16,
    "start_time": "2022-08-09T12:01:52.145Z"
   },
   {
    "duration": 12,
    "start_time": "2022-08-09T12:01:52.163Z"
   },
   {
    "duration": 29,
    "start_time": "2022-08-09T12:01:52.177Z"
   },
   {
    "duration": 7,
    "start_time": "2022-08-09T12:01:52.207Z"
   },
   {
    "duration": 18,
    "start_time": "2022-08-09T12:01:52.215Z"
   },
   {
    "duration": 5,
    "start_time": "2022-08-09T12:01:52.236Z"
   },
   {
    "duration": 28239,
    "start_time": "2022-08-09T12:02:00.007Z"
   },
   {
    "duration": 14,
    "start_time": "2022-08-09T12:02:38.506Z"
   },
   {
    "duration": 1368,
    "start_time": "2022-08-09T12:15:41.587Z"
   },
   {
    "duration": 6,
    "start_time": "2022-08-09T12:16:01.487Z"
   },
   {
    "duration": 4,
    "start_time": "2022-08-09T12:17:59.183Z"
   },
   {
    "duration": 60,
    "start_time": "2022-08-09T12:17:59.189Z"
   },
   {
    "duration": 57,
    "start_time": "2022-08-09T12:17:59.250Z"
   },
   {
    "duration": 20,
    "start_time": "2022-08-09T12:17:59.309Z"
   },
   {
    "duration": 27,
    "start_time": "2022-08-09T12:17:59.334Z"
   },
   {
    "duration": 7,
    "start_time": "2022-08-09T12:17:59.363Z"
   },
   {
    "duration": 4,
    "start_time": "2022-08-09T12:17:59.372Z"
   },
   {
    "duration": 8,
    "start_time": "2022-08-09T12:17:59.406Z"
   },
   {
    "duration": 9,
    "start_time": "2022-08-09T12:18:02.367Z"
   },
   {
    "duration": 16,
    "start_time": "2022-08-09T12:18:13.427Z"
   },
   {
    "duration": 16,
    "start_time": "2022-08-09T12:23:44.769Z"
   },
   {
    "duration": 20,
    "start_time": "2022-08-09T12:24:04.727Z"
   },
   {
    "duration": 68,
    "start_time": "2022-08-09T16:27:24.294Z"
   },
   {
    "duration": 822,
    "start_time": "2022-08-09T16:27:27.816Z"
   },
   {
    "duration": 194,
    "start_time": "2022-08-09T16:27:28.640Z"
   },
   {
    "duration": 61,
    "start_time": "2022-08-09T16:27:28.836Z"
   },
   {
    "duration": 14,
    "start_time": "2022-08-09T16:27:28.899Z"
   },
   {
    "duration": 24,
    "start_time": "2022-08-09T16:27:28.916Z"
   },
   {
    "duration": 10,
    "start_time": "2022-08-09T16:27:28.942Z"
   },
   {
    "duration": 4,
    "start_time": "2022-08-09T16:27:28.954Z"
   },
   {
    "duration": 36,
    "start_time": "2022-08-09T16:27:28.960Z"
   },
   {
    "duration": 20,
    "start_time": "2022-08-09T16:27:28.998Z"
   },
   {
    "duration": 20,
    "start_time": "2022-08-09T16:27:30.815Z"
   },
   {
    "duration": 22,
    "start_time": "2022-08-09T16:30:29.754Z"
   },
   {
    "duration": 25,
    "start_time": "2022-08-09T16:30:53.955Z"
   },
   {
    "duration": 1606,
    "start_time": "2022-08-09T16:32:52.955Z"
   },
   {
    "duration": 35,
    "start_time": "2022-08-09T16:33:02.915Z"
   },
   {
    "duration": 27,
    "start_time": "2022-08-09T16:34:13.515Z"
   },
   {
    "duration": 28,
    "start_time": "2022-08-09T16:34:30.970Z"
   },
   {
    "duration": 34,
    "start_time": "2022-08-09T16:34:37.934Z"
   },
   {
    "duration": 77,
    "start_time": "2022-08-09T16:34:46.395Z"
   },
   {
    "duration": 26,
    "start_time": "2022-08-09T16:35:04.755Z"
   },
   {
    "duration": 24,
    "start_time": "2022-08-09T16:38:10.975Z"
   },
   {
    "duration": 40,
    "start_time": "2022-08-09T16:39:43.305Z"
   },
   {
    "duration": 3,
    "start_time": "2022-08-09T17:54:17.756Z"
   },
   {
    "duration": 61,
    "start_time": "2022-08-09T17:54:17.761Z"
   },
   {
    "duration": 50,
    "start_time": "2022-08-09T17:54:17.824Z"
   },
   {
    "duration": 15,
    "start_time": "2022-08-09T17:54:17.891Z"
   },
   {
    "duration": 22,
    "start_time": "2022-08-09T17:54:17.908Z"
   },
   {
    "duration": 18,
    "start_time": "2022-08-09T17:54:17.932Z"
   },
   {
    "duration": 6,
    "start_time": "2022-08-09T17:54:17.952Z"
   },
   {
    "duration": 36,
    "start_time": "2022-08-09T17:54:17.959Z"
   },
   {
    "duration": 26,
    "start_time": "2022-08-09T17:54:17.998Z"
   },
   {
    "duration": 22,
    "start_time": "2022-08-09T17:54:20.825Z"
   },
   {
    "duration": 22,
    "start_time": "2022-08-09T17:54:48.167Z"
   },
   {
    "duration": 162098,
    "start_time": "2022-08-09T17:59:55.716Z"
   },
   {
    "duration": 0,
    "start_time": "2022-08-09T18:02:37.815Z"
   },
   {
    "duration": 3,
    "start_time": "2022-08-09T18:03:43.846Z"
   },
   {
    "duration": 64,
    "start_time": "2022-08-09T18:03:43.851Z"
   },
   {
    "duration": 49,
    "start_time": "2022-08-09T18:03:43.917Z"
   },
   {
    "duration": 28,
    "start_time": "2022-08-09T18:03:43.968Z"
   },
   {
    "duration": 24,
    "start_time": "2022-08-09T18:03:43.998Z"
   },
   {
    "duration": 10,
    "start_time": "2022-08-09T18:03:44.024Z"
   },
   {
    "duration": 8,
    "start_time": "2022-08-09T18:03:44.036Z"
   },
   {
    "duration": 9,
    "start_time": "2022-08-09T18:03:44.045Z"
   },
   {
    "duration": 48,
    "start_time": "2022-08-09T18:03:44.056Z"
   },
   {
    "duration": 127864,
    "start_time": "2022-08-09T18:03:52.175Z"
   },
   {
    "duration": 15,
    "start_time": "2022-08-09T18:07:26.425Z"
   },
   {
    "duration": 3,
    "start_time": "2022-08-09T18:27:43.256Z"
   },
   {
    "duration": 61,
    "start_time": "2022-08-09T18:27:43.262Z"
   },
   {
    "duration": 51,
    "start_time": "2022-08-09T18:27:43.324Z"
   },
   {
    "duration": 28,
    "start_time": "2022-08-09T18:27:43.377Z"
   },
   {
    "duration": 22,
    "start_time": "2022-08-09T18:27:43.407Z"
   },
   {
    "duration": 10,
    "start_time": "2022-08-09T18:27:43.431Z"
   },
   {
    "duration": 5,
    "start_time": "2022-08-09T18:27:43.442Z"
   },
   {
    "duration": 43,
    "start_time": "2022-08-09T18:27:43.449Z"
   },
   {
    "duration": 19,
    "start_time": "2022-08-09T18:27:43.494Z"
   },
   {
    "duration": 14866,
    "start_time": "2022-08-09T18:27:45.945Z"
   },
   {
    "duration": 15,
    "start_time": "2022-08-09T18:28:06.645Z"
   },
   {
    "duration": 153,
    "start_time": "2022-08-09T18:34:27.326Z"
   },
   {
    "duration": 13,
    "start_time": "2022-08-09T18:34:39.786Z"
   },
   {
    "duration": 20,
    "start_time": "2022-08-09T18:34:50.865Z"
   },
   {
    "duration": 10,
    "start_time": "2022-08-09T18:36:57.066Z"
   },
   {
    "duration": 47,
    "start_time": "2022-08-09T18:37:03.985Z"
   },
   {
    "duration": 3,
    "start_time": "2022-08-09T18:49:37.336Z"
   },
   {
    "duration": 61,
    "start_time": "2022-08-09T18:49:37.341Z"
   },
   {
    "duration": 55,
    "start_time": "2022-08-09T18:49:37.405Z"
   },
   {
    "duration": 35,
    "start_time": "2022-08-09T18:49:37.462Z"
   },
   {
    "duration": 30,
    "start_time": "2022-08-09T18:49:37.501Z"
   },
   {
    "duration": 9,
    "start_time": "2022-08-09T18:49:37.533Z"
   },
   {
    "duration": 5,
    "start_time": "2022-08-09T18:49:37.543Z"
   },
   {
    "duration": 9,
    "start_time": "2022-08-09T18:49:37.550Z"
   },
   {
    "duration": 53,
    "start_time": "2022-08-09T18:49:37.561Z"
   },
   {
    "duration": 52,
    "start_time": "2022-08-09T18:49:37.616Z"
   },
   {
    "duration": 17030,
    "start_time": "2022-08-09T18:49:50.055Z"
   },
   {
    "duration": 17,
    "start_time": "2022-08-09T18:50:41.515Z"
   },
   {
    "duration": 114534,
    "start_time": "2022-08-09T18:56:36.806Z"
   },
   {
    "duration": 15,
    "start_time": "2022-08-09T18:59:13.690Z"
   },
   {
    "duration": 2,
    "start_time": "2022-08-09T19:01:31.566Z"
   },
   {
    "duration": 64,
    "start_time": "2022-08-09T19:01:31.571Z"
   },
   {
    "duration": 49,
    "start_time": "2022-08-09T19:01:31.636Z"
   },
   {
    "duration": 16,
    "start_time": "2022-08-09T19:01:31.686Z"
   },
   {
    "duration": 22,
    "start_time": "2022-08-09T19:01:31.704Z"
   },
   {
    "duration": 15,
    "start_time": "2022-08-09T19:01:31.728Z"
   },
   {
    "duration": 8,
    "start_time": "2022-08-09T19:01:31.745Z"
   },
   {
    "duration": 14,
    "start_time": "2022-08-09T19:01:31.755Z"
   },
   {
    "duration": 41,
    "start_time": "2022-08-09T19:01:31.771Z"
   },
   {
    "duration": 52,
    "start_time": "2022-08-09T19:01:31.816Z"
   },
   {
    "duration": 15598,
    "start_time": "2022-08-09T19:01:42.866Z"
   },
   {
    "duration": 17,
    "start_time": "2022-08-09T19:02:15.265Z"
   },
   {
    "duration": 1390,
    "start_time": "2022-08-09T19:05:56.505Z"
   },
   {
    "duration": 1268,
    "start_time": "2022-08-09T19:06:32.936Z"
   },
   {
    "duration": 1223,
    "start_time": "2022-08-09T19:07:30.365Z"
   },
   {
    "duration": 955,
    "start_time": "2022-08-09T19:07:45.376Z"
   },
   {
    "duration": 1003,
    "start_time": "2022-08-09T19:10:40.285Z"
   },
   {
    "duration": 603,
    "start_time": "2022-08-09T19:10:56.905Z"
   },
   {
    "duration": 4003,
    "start_time": "2022-08-09T19:20:40.744Z"
   },
   {
    "duration": 26,
    "start_time": "2022-08-09T19:21:45.235Z"
   },
   {
    "duration": 10,
    "start_time": "2022-08-09T19:21:58.435Z"
   },
   {
    "duration": 23,
    "start_time": "2022-08-09T19:22:12.040Z"
   },
   {
    "duration": 3,
    "start_time": "2022-08-09T19:27:16.336Z"
   },
   {
    "duration": 54,
    "start_time": "2022-08-09T19:27:16.341Z"
   },
   {
    "duration": 50,
    "start_time": "2022-08-09T19:27:16.397Z"
   },
   {
    "duration": 13,
    "start_time": "2022-08-09T19:27:16.449Z"
   },
   {
    "duration": 39,
    "start_time": "2022-08-09T19:27:16.464Z"
   },
   {
    "duration": 9,
    "start_time": "2022-08-09T19:27:16.505Z"
   },
   {
    "duration": 5,
    "start_time": "2022-08-09T19:27:16.516Z"
   },
   {
    "duration": 9,
    "start_time": "2022-08-09T19:27:16.522Z"
   },
   {
    "duration": 19,
    "start_time": "2022-08-09T19:27:16.534Z"
   },
   {
    "duration": 15618,
    "start_time": "2022-08-09T19:27:19.190Z"
   },
   {
    "duration": 19,
    "start_time": "2022-08-09T19:27:37.621Z"
   },
   {
    "duration": 16193,
    "start_time": "2022-08-09T19:27:59.280Z"
   },
   {
    "duration": 19,
    "start_time": "2022-08-09T19:28:21.135Z"
   },
   {
    "duration": 2,
    "start_time": "2022-08-09T19:31:08.266Z"
   },
   {
    "duration": 57,
    "start_time": "2022-08-09T19:31:08.270Z"
   },
   {
    "duration": 48,
    "start_time": "2022-08-09T19:31:08.329Z"
   },
   {
    "duration": 15,
    "start_time": "2022-08-09T19:31:08.379Z"
   },
   {
    "duration": 28,
    "start_time": "2022-08-09T19:31:08.396Z"
   },
   {
    "duration": 15,
    "start_time": "2022-08-09T19:31:08.426Z"
   },
   {
    "duration": 5,
    "start_time": "2022-08-09T19:31:08.443Z"
   },
   {
    "duration": 9,
    "start_time": "2022-08-09T19:31:08.450Z"
   },
   {
    "duration": 40,
    "start_time": "2022-08-09T19:31:08.460Z"
   },
   {
    "duration": 15846,
    "start_time": "2022-08-09T19:31:10.520Z"
   },
   {
    "duration": 46,
    "start_time": "2022-08-09T19:37:25.190Z"
   },
   {
    "duration": 72,
    "start_time": "2022-08-09T19:39:06.011Z"
   },
   {
    "duration": 32,
    "start_time": "2022-08-09T19:39:13.689Z"
   },
   {
    "duration": 46,
    "start_time": "2022-08-09T19:39:21.789Z"
   },
   {
    "duration": 46,
    "start_time": "2022-08-09T19:40:03.649Z"
   },
   {
    "duration": 109,
    "start_time": "2022-08-09T19:49:37.832Z"
   },
   {
    "duration": 14799,
    "start_time": "2022-08-09T19:49:45.788Z"
   },
   {
    "duration": 45,
    "start_time": "2022-08-09T19:50:06.587Z"
   },
   {
    "duration": 15972,
    "start_time": "2022-08-09T19:56:35.588Z"
   },
   {
    "duration": 16110,
    "start_time": "2022-08-09T19:56:56.373Z"
   },
   {
    "duration": 15818,
    "start_time": "2022-08-09T19:57:42.907Z"
   },
   {
    "duration": 16569,
    "start_time": "2022-08-09T20:01:46.984Z"
   },
   {
    "duration": 17688,
    "start_time": "2022-08-09T20:02:58.063Z"
   },
   {
    "duration": 18033,
    "start_time": "2022-08-09T20:03:23.242Z"
   },
   {
    "duration": 48,
    "start_time": "2022-08-09T20:05:37.227Z"
   },
   {
    "duration": 65,
    "start_time": "2022-08-09T20:06:33.907Z"
   },
   {
    "duration": 35,
    "start_time": "2022-08-09T20:08:12.187Z"
   },
   {
    "duration": 17452,
    "start_time": "2022-08-09T20:08:35.852Z"
   },
   {
    "duration": 12,
    "start_time": "2022-08-09T20:11:56.357Z"
   },
   {
    "duration": 69,
    "start_time": "2022-08-09T20:12:13.239Z"
   },
   {
    "duration": 39,
    "start_time": "2022-08-09T20:24:11.213Z"
   },
   {
    "duration": 3,
    "start_time": "2022-08-09T20:31:52.934Z"
   },
   {
    "duration": 54,
    "start_time": "2022-08-09T20:31:52.940Z"
   },
   {
    "duration": 53,
    "start_time": "2022-08-09T20:31:52.996Z"
   },
   {
    "duration": 14,
    "start_time": "2022-08-09T20:31:53.051Z"
   },
   {
    "duration": 46,
    "start_time": "2022-08-09T20:31:53.067Z"
   },
   {
    "duration": 9,
    "start_time": "2022-08-09T20:31:53.115Z"
   },
   {
    "duration": 8,
    "start_time": "2022-08-09T20:31:53.126Z"
   },
   {
    "duration": 13,
    "start_time": "2022-08-09T20:31:53.135Z"
   },
   {
    "duration": 20,
    "start_time": "2022-08-09T20:31:53.150Z"
   },
   {
    "duration": 16059,
    "start_time": "2022-08-09T20:31:56.349Z"
   },
   {
    "duration": 16011,
    "start_time": "2022-08-09T20:35:25.714Z"
   },
   {
    "duration": 3,
    "start_time": "2022-08-09T20:35:49.275Z"
   },
   {
    "duration": 57,
    "start_time": "2022-08-09T20:35:49.280Z"
   },
   {
    "duration": 57,
    "start_time": "2022-08-09T20:35:49.343Z"
   },
   {
    "duration": 14,
    "start_time": "2022-08-09T20:35:49.402Z"
   },
   {
    "duration": 23,
    "start_time": "2022-08-09T20:35:49.419Z"
   },
   {
    "duration": 14,
    "start_time": "2022-08-09T20:35:49.444Z"
   },
   {
    "duration": 5,
    "start_time": "2022-08-09T20:35:49.459Z"
   },
   {
    "duration": 8,
    "start_time": "2022-08-09T20:35:49.492Z"
   },
   {
    "duration": 17,
    "start_time": "2022-08-09T20:35:49.501Z"
   },
   {
    "duration": 15502,
    "start_time": "2022-08-09T20:35:57.794Z"
   },
   {
    "duration": 74,
    "start_time": "2022-08-10T21:10:07.702Z"
   },
   {
    "duration": 863,
    "start_time": "2022-08-10T21:10:12.165Z"
   },
   {
    "duration": 134,
    "start_time": "2022-08-10T21:10:13.030Z"
   },
   {
    "duration": 65,
    "start_time": "2022-08-10T21:10:13.166Z"
   },
   {
    "duration": 19,
    "start_time": "2022-08-10T21:10:13.233Z"
   },
   {
    "duration": 55,
    "start_time": "2022-08-10T21:10:13.254Z"
   },
   {
    "duration": 9,
    "start_time": "2022-08-10T21:10:13.310Z"
   },
   {
    "duration": 4,
    "start_time": "2022-08-10T21:10:13.321Z"
   },
   {
    "duration": 9,
    "start_time": "2022-08-10T21:10:13.326Z"
   },
   {
    "duration": 55,
    "start_time": "2022-08-10T21:10:13.336Z"
   },
   {
    "duration": 65712,
    "start_time": "2022-08-10T21:10:13.393Z"
   },
   {
    "duration": 13,
    "start_time": "2022-08-10T21:11:19.107Z"
   },
   {
    "duration": 5,
    "start_time": "2022-08-10T21:11:19.122Z"
   },
   {
    "duration": 57,
    "start_time": "2022-08-10T21:11:30.057Z"
   },
   {
    "duration": 4,
    "start_time": "2022-08-10T21:12:28.721Z"
   },
   {
    "duration": 17,
    "start_time": "2022-08-10T21:12:58.020Z"
   },
   {
    "duration": 5,
    "start_time": "2022-08-10T21:13:16.181Z"
   },
   {
    "duration": 6,
    "start_time": "2022-08-10T21:13:22.981Z"
   },
   {
    "duration": 17,
    "start_time": "2022-08-10T21:24:13.884Z"
   },
   {
    "duration": 20,
    "start_time": "2022-08-10T21:28:10.682Z"
   },
   {
    "duration": 10,
    "start_time": "2022-08-10T21:28:24.784Z"
   },
   {
    "duration": 10,
    "start_time": "2022-08-10T21:40:24.277Z"
   },
   {
    "duration": 3,
    "start_time": "2022-08-10T21:49:30.023Z"
   },
   {
    "duration": 73,
    "start_time": "2022-08-10T21:49:30.028Z"
   },
   {
    "duration": 49,
    "start_time": "2022-08-10T21:49:30.103Z"
   },
   {
    "duration": 11,
    "start_time": "2022-08-10T21:49:30.153Z"
   },
   {
    "duration": 32,
    "start_time": "2022-08-10T21:49:30.166Z"
   },
   {
    "duration": 16,
    "start_time": "2022-08-10T21:49:30.200Z"
   },
   {
    "duration": 22,
    "start_time": "2022-08-10T21:49:30.218Z"
   },
   {
    "duration": 12,
    "start_time": "2022-08-10T21:49:30.242Z"
   },
   {
    "duration": 35,
    "start_time": "2022-08-10T21:49:30.256Z"
   },
   {
    "duration": 52437,
    "start_time": "2022-08-10T21:49:30.293Z"
   },
   {
    "duration": 2,
    "start_time": "2022-08-10T21:50:22.738Z"
   },
   {
    "duration": 8,
    "start_time": "2022-08-10T21:50:22.741Z"
   },
   {
    "duration": 12,
    "start_time": "2022-08-10T21:50:22.751Z"
   },
   {
    "duration": 6,
    "start_time": "2022-08-10T21:50:22.765Z"
   },
   {
    "duration": 24,
    "start_time": "2022-08-10T21:50:57.839Z"
   },
   {
    "duration": 19,
    "start_time": "2022-08-10T21:53:14.138Z"
   },
   {
    "duration": 52287,
    "start_time": "2022-08-10T21:54:08.497Z"
   },
   {
    "duration": 4,
    "start_time": "2022-08-10T21:55:53.798Z"
   },
   {
    "duration": 41,
    "start_time": "2022-08-11T11:05:51.365Z"
   },
   {
    "duration": 745,
    "start_time": "2022-08-11T11:05:56.273Z"
   },
   {
    "duration": 209,
    "start_time": "2022-08-11T11:05:57.021Z"
   },
   {
    "duration": 51,
    "start_time": "2022-08-11T11:05:57.231Z"
   },
   {
    "duration": 14,
    "start_time": "2022-08-11T11:05:57.284Z"
   },
   {
    "duration": 25,
    "start_time": "2022-08-11T11:05:57.301Z"
   },
   {
    "duration": 30,
    "start_time": "2022-08-11T11:05:57.329Z"
   },
   {
    "duration": 5,
    "start_time": "2022-08-11T11:05:57.361Z"
   },
   {
    "duration": 12,
    "start_time": "2022-08-11T11:05:57.367Z"
   },
   {
    "duration": 21,
    "start_time": "2022-08-11T11:05:57.381Z"
   },
   {
    "duration": 46343,
    "start_time": "2022-08-11T11:05:57.404Z"
   },
   {
    "duration": 9,
    "start_time": "2022-08-11T11:06:43.748Z"
   },
   {
    "duration": 8,
    "start_time": "2022-08-11T11:06:43.758Z"
   },
   {
    "duration": 12,
    "start_time": "2022-08-11T11:06:43.767Z"
   },
   {
    "duration": 6,
    "start_time": "2022-08-11T11:06:43.781Z"
   },
   {
    "duration": 15,
    "start_time": "2022-08-11T11:06:43.788Z"
   },
   {
    "duration": 49706,
    "start_time": "2022-08-11T11:06:43.804Z"
   },
   {
    "duration": 4,
    "start_time": "2022-08-11T11:07:33.512Z"
   },
   {
    "duration": 5,
    "start_time": "2022-08-11T11:08:20.466Z"
   },
   {
    "duration": 4,
    "start_time": "2022-08-11T11:14:21.668Z"
   },
   {
    "duration": 6,
    "start_time": "2022-08-11T11:15:07.407Z"
   },
   {
    "duration": 6,
    "start_time": "2022-08-11T11:17:11.309Z"
   },
   {
    "duration": 12,
    "start_time": "2022-08-11T11:18:16.489Z"
   },
   {
    "duration": 6,
    "start_time": "2022-08-11T11:22:39.070Z"
   },
   {
    "duration": 6,
    "start_time": "2022-08-11T11:24:41.591Z"
   },
   {
    "duration": 15,
    "start_time": "2022-08-11T11:24:48.311Z"
   },
   {
    "duration": 13,
    "start_time": "2022-08-11T11:25:31.431Z"
   },
   {
    "duration": 101,
    "start_time": "2022-08-11T11:41:49.614Z"
   },
   {
    "duration": 6,
    "start_time": "2022-08-11T11:48:11.032Z"
   },
   {
    "duration": 8,
    "start_time": "2022-08-11T11:53:27.205Z"
   },
   {
    "duration": 6,
    "start_time": "2022-08-11T11:55:46.866Z"
   },
   {
    "duration": 31,
    "start_time": "2022-08-11T12:08:08.897Z"
   },
   {
    "duration": 39,
    "start_time": "2022-08-11T12:08:51.015Z"
   },
   {
    "duration": 27,
    "start_time": "2022-08-11T12:09:08.756Z"
   },
   {
    "duration": 868,
    "start_time": "2022-08-11T19:11:39.143Z"
   },
   {
    "duration": 485,
    "start_time": "2022-08-11T19:11:40.013Z"
   },
   {
    "duration": 61,
    "start_time": "2022-08-11T19:11:40.499Z"
   },
   {
    "duration": 13,
    "start_time": "2022-08-11T19:11:40.562Z"
   },
   {
    "duration": 43,
    "start_time": "2022-08-11T19:11:40.578Z"
   },
   {
    "duration": 10,
    "start_time": "2022-08-11T19:11:40.623Z"
   },
   {
    "duration": 4,
    "start_time": "2022-08-11T19:11:40.635Z"
   },
   {
    "duration": 9,
    "start_time": "2022-08-11T19:11:40.640Z"
   },
   {
    "duration": 17,
    "start_time": "2022-08-11T19:11:40.651Z"
   },
   {
    "duration": 64755,
    "start_time": "2022-08-11T19:11:40.691Z"
   },
   {
    "duration": 5,
    "start_time": "2022-08-11T19:12:45.448Z"
   },
   {
    "duration": 18,
    "start_time": "2022-08-11T19:12:45.455Z"
   },
   {
    "duration": 28,
    "start_time": "2022-08-11T19:12:45.475Z"
   },
   {
    "duration": 5,
    "start_time": "2022-08-11T19:12:45.506Z"
   },
   {
    "duration": 24,
    "start_time": "2022-08-11T19:12:45.512Z"
   },
   {
    "duration": 68465,
    "start_time": "2022-08-11T19:12:45.539Z"
   },
   {
    "duration": 5,
    "start_time": "2022-08-11T19:13:54.006Z"
   },
   {
    "duration": 11,
    "start_time": "2022-08-11T19:13:54.013Z"
   },
   {
    "duration": 21,
    "start_time": "2022-08-11T19:13:54.025Z"
   },
   {
    "duration": 13,
    "start_time": "2022-08-11T19:13:54.047Z"
   },
   {
    "duration": 24,
    "start_time": "2022-08-11T19:13:54.062Z"
   },
   {
    "duration": 31,
    "start_time": "2022-08-11T19:13:54.088Z"
   },
   {
    "duration": 5,
    "start_time": "2022-08-11T19:13:54.120Z"
   },
   {
    "duration": 28,
    "start_time": "2022-08-11T19:13:54.126Z"
   },
   {
    "duration": 261,
    "start_time": "2022-08-11T19:15:43.563Z"
   },
   {
    "duration": 323,
    "start_time": "2022-08-11T19:16:14.353Z"
   },
   {
    "duration": 424,
    "start_time": "2022-08-11T19:16:49.073Z"
   },
   {
    "duration": 393,
    "start_time": "2022-08-11T19:17:06.563Z"
   },
   {
    "duration": 47,
    "start_time": "2022-08-12T09:57:33.105Z"
   },
   {
    "duration": 786,
    "start_time": "2022-08-12T09:57:38.285Z"
   },
   {
    "duration": 96,
    "start_time": "2022-08-12T09:57:39.073Z"
   },
   {
    "duration": 46,
    "start_time": "2022-08-12T09:57:39.170Z"
   },
   {
    "duration": 11,
    "start_time": "2022-08-12T09:57:39.218Z"
   },
   {
    "duration": 18,
    "start_time": "2022-08-12T09:57:39.231Z"
   },
   {
    "duration": 9,
    "start_time": "2022-08-12T09:57:39.250Z"
   },
   {
    "duration": 4,
    "start_time": "2022-08-12T09:57:39.260Z"
   },
   {
    "duration": 10,
    "start_time": "2022-08-12T09:57:39.266Z"
   },
   {
    "duration": 34,
    "start_time": "2022-08-12T09:57:39.277Z"
   },
   {
    "duration": 48038,
    "start_time": "2022-08-12T09:57:39.313Z"
   },
   {
    "duration": 4,
    "start_time": "2022-08-12T09:58:27.353Z"
   },
   {
    "duration": 7,
    "start_time": "2022-08-12T09:58:27.359Z"
   },
   {
    "duration": 12,
    "start_time": "2022-08-12T09:58:27.367Z"
   },
   {
    "duration": 3,
    "start_time": "2022-08-12T09:58:27.382Z"
   },
   {
    "duration": 31,
    "start_time": "2022-08-12T09:58:27.387Z"
   },
   {
    "duration": 50812,
    "start_time": "2022-08-12T09:58:27.420Z"
   },
   {
    "duration": 4,
    "start_time": "2022-08-12T09:59:18.234Z"
   },
   {
    "duration": 12,
    "start_time": "2022-08-12T09:59:18.239Z"
   },
   {
    "duration": 13,
    "start_time": "2022-08-12T09:59:18.252Z"
   },
   {
    "duration": 12,
    "start_time": "2022-08-12T09:59:18.266Z"
   },
   {
    "duration": 4,
    "start_time": "2022-08-12T09:59:18.279Z"
   },
   {
    "duration": 28,
    "start_time": "2022-08-12T09:59:18.285Z"
   },
   {
    "duration": 3,
    "start_time": "2022-08-12T09:59:18.315Z"
   },
   {
    "duration": 17,
    "start_time": "2022-08-12T09:59:18.320Z"
   },
   {
    "duration": 293,
    "start_time": "2022-08-12T09:59:18.339Z"
   },
   {
    "duration": 51,
    "start_time": "2022-08-12T10:00:52.665Z"
   },
   {
    "duration": 932,
    "start_time": "2022-08-12T10:01:27.544Z"
   },
   {
    "duration": 142,
    "start_time": "2022-08-12T10:02:08.245Z"
   },
   {
    "duration": 23,
    "start_time": "2022-08-12T10:06:10.664Z"
   },
   {
    "duration": 450,
    "start_time": "2022-08-12T10:06:23.215Z"
   },
   {
    "duration": 569,
    "start_time": "2022-08-12T10:07:55.365Z"
   },
   {
    "duration": 550,
    "start_time": "2022-08-12T10:08:07.034Z"
   },
   {
    "duration": 493,
    "start_time": "2022-08-12T10:08:21.585Z"
   },
   {
    "duration": 473,
    "start_time": "2022-08-12T10:27:48.685Z"
   },
   {
    "duration": 473,
    "start_time": "2022-08-12T10:27:53.825Z"
   },
   {
    "duration": 56452,
    "start_time": "2022-08-12T12:51:33.045Z"
   },
   {
    "duration": 648,
    "start_time": "2022-08-12T12:52:35.366Z"
   },
   {
    "duration": 297,
    "start_time": "2022-08-12T12:54:25.275Z"
   },
   {
    "duration": 3,
    "start_time": "2022-08-12T12:59:58.746Z"
   },
   {
    "duration": 52,
    "start_time": "2022-08-12T12:59:58.752Z"
   },
   {
    "duration": 64,
    "start_time": "2022-08-12T12:59:58.807Z"
   },
   {
    "duration": 17,
    "start_time": "2022-08-12T12:59:58.872Z"
   },
   {
    "duration": 48,
    "start_time": "2022-08-12T12:59:58.891Z"
   },
   {
    "duration": 10,
    "start_time": "2022-08-12T12:59:58.941Z"
   },
   {
    "duration": 5,
    "start_time": "2022-08-12T12:59:58.953Z"
   },
   {
    "duration": 10,
    "start_time": "2022-08-12T12:59:58.960Z"
   },
   {
    "duration": 46,
    "start_time": "2022-08-12T12:59:58.972Z"
   },
   {
    "duration": 51997,
    "start_time": "2022-08-12T12:59:59.021Z"
   },
   {
    "duration": 5,
    "start_time": "2022-08-12T13:00:51.020Z"
   },
   {
    "duration": 19,
    "start_time": "2022-08-12T13:00:51.027Z"
   },
   {
    "duration": 18,
    "start_time": "2022-08-12T13:00:51.047Z"
   },
   {
    "duration": 5,
    "start_time": "2022-08-12T13:00:51.068Z"
   },
   {
    "duration": 21,
    "start_time": "2022-08-12T13:00:51.075Z"
   },
   {
    "duration": 53968,
    "start_time": "2022-08-12T13:00:51.098Z"
   },
   {
    "duration": 5,
    "start_time": "2022-08-12T13:01:45.067Z"
   },
   {
    "duration": 9,
    "start_time": "2022-08-12T13:01:45.073Z"
   },
   {
    "duration": 32,
    "start_time": "2022-08-12T13:01:45.084Z"
   },
   {
    "duration": 13,
    "start_time": "2022-08-12T13:01:45.117Z"
   },
   {
    "duration": 4,
    "start_time": "2022-08-12T13:01:45.131Z"
   },
   {
    "duration": 12,
    "start_time": "2022-08-12T13:01:45.137Z"
   },
   {
    "duration": 5,
    "start_time": "2022-08-12T13:01:45.151Z"
   },
   {
    "duration": 17,
    "start_time": "2022-08-12T13:01:45.158Z"
   },
   {
    "duration": 378,
    "start_time": "2022-08-12T13:01:45.177Z"
   },
   {
    "duration": 519,
    "start_time": "2022-08-12T13:01:45.557Z"
   },
   {
    "duration": 53149,
    "start_time": "2022-08-12T13:01:59.095Z"
   },
   {
    "duration": 480,
    "start_time": "2022-08-12T13:02:58.225Z"
   },
   {
    "duration": 261,
    "start_time": "2022-08-12T13:03:25.985Z"
   },
   {
    "duration": 253,
    "start_time": "2022-08-12T13:03:37.582Z"
   },
   {
    "duration": 269,
    "start_time": "2022-08-12T13:37:44.891Z"
   },
   {
    "duration": 6,
    "start_time": "2022-08-12T13:38:00.534Z"
   },
   {
    "duration": 54513,
    "start_time": "2022-08-12T13:38:28.155Z"
   },
   {
    "duration": 475,
    "start_time": "2022-08-12T13:40:24.825Z"
   },
   {
    "duration": 273,
    "start_time": "2022-08-12T13:40:29.055Z"
   },
   {
    "duration": 53737,
    "start_time": "2022-08-12T13:43:53.745Z"
   },
   {
    "duration": 459,
    "start_time": "2022-08-12T13:45:05.825Z"
   },
   {
    "duration": 266,
    "start_time": "2022-08-12T13:45:14.505Z"
   },
   {
    "duration": 5,
    "start_time": "2022-08-12T13:58:06.185Z"
   },
   {
    "duration": 7,
    "start_time": "2022-08-12T13:58:51.679Z"
   },
   {
    "duration": 52042,
    "start_time": "2022-08-12T13:59:14.660Z"
   },
   {
    "duration": 7,
    "start_time": "2022-08-12T14:00:24.300Z"
   },
   {
    "duration": 31,
    "start_time": "2022-08-12T14:03:00.180Z"
   },
   {
    "duration": 152,
    "start_time": "2022-08-12T14:03:20.320Z"
   },
   {
    "duration": 5,
    "start_time": "2022-08-12T14:03:28.899Z"
   },
   {
    "duration": 503,
    "start_time": "2022-08-12T14:03:34.779Z"
   },
   {
    "duration": 265,
    "start_time": "2022-08-12T14:03:42.960Z"
   },
   {
    "duration": 5,
    "start_time": "2022-08-12T14:05:10.040Z"
   },
   {
    "duration": 149,
    "start_time": "2022-08-12T14:05:46.439Z"
   },
   {
    "duration": 7,
    "start_time": "2022-08-12T14:05:48.780Z"
   },
   {
    "duration": 2233,
    "start_time": "2022-08-12T14:07:45.890Z"
   },
   {
    "duration": 292,
    "start_time": "2022-08-12T14:08:47.660Z"
   },
   {
    "duration": 9065,
    "start_time": "2022-08-12T14:12:47.020Z"
   },
   {
    "duration": 6,
    "start_time": "2022-08-12T14:12:58.580Z"
   },
   {
    "duration": 788,
    "start_time": "2022-08-12T14:13:03.360Z"
   },
   {
    "duration": 275,
    "start_time": "2022-08-12T14:13:17.560Z"
   },
   {
    "duration": 5,
    "start_time": "2022-08-12T14:21:13.539Z"
   },
   {
    "duration": 15,
    "start_time": "2022-08-12T14:30:34.280Z"
   },
   {
    "duration": 3,
    "start_time": "2022-08-12T14:41:39.881Z"
   },
   {
    "duration": 57,
    "start_time": "2022-08-12T14:41:39.886Z"
   },
   {
    "duration": 127,
    "start_time": "2022-08-12T14:41:39.944Z"
   },
   {
    "duration": 12,
    "start_time": "2022-08-12T14:41:40.073Z"
   },
   {
    "duration": 50,
    "start_time": "2022-08-12T14:41:40.088Z"
   },
   {
    "duration": 8,
    "start_time": "2022-08-12T14:41:40.139Z"
   },
   {
    "duration": 6,
    "start_time": "2022-08-12T14:41:40.148Z"
   },
   {
    "duration": 8,
    "start_time": "2022-08-12T14:41:40.156Z"
   },
   {
    "duration": 52,
    "start_time": "2022-08-12T14:41:40.166Z"
   },
   {
    "duration": 50796,
    "start_time": "2022-08-12T14:41:40.220Z"
   },
   {
    "duration": 17,
    "start_time": "2022-08-12T14:42:31.018Z"
   },
   {
    "duration": 119,
    "start_time": "2022-08-12T14:42:31.037Z"
   },
   {
    "duration": 0,
    "start_time": "2022-08-12T14:42:31.159Z"
   },
   {
    "duration": 0,
    "start_time": "2022-08-12T14:42:31.160Z"
   },
   {
    "duration": 0,
    "start_time": "2022-08-12T14:42:31.161Z"
   },
   {
    "duration": 0,
    "start_time": "2022-08-12T14:42:31.162Z"
   },
   {
    "duration": 0,
    "start_time": "2022-08-12T14:42:31.163Z"
   },
   {
    "duration": 0,
    "start_time": "2022-08-12T14:42:31.165Z"
   },
   {
    "duration": 0,
    "start_time": "2022-08-12T14:42:31.166Z"
   },
   {
    "duration": 0,
    "start_time": "2022-08-12T14:42:31.167Z"
   },
   {
    "duration": 0,
    "start_time": "2022-08-12T14:42:31.168Z"
   },
   {
    "duration": 0,
    "start_time": "2022-08-12T14:42:31.170Z"
   },
   {
    "duration": 0,
    "start_time": "2022-08-12T14:42:31.171Z"
   },
   {
    "duration": 0,
    "start_time": "2022-08-12T14:42:31.172Z"
   },
   {
    "duration": 0,
    "start_time": "2022-08-12T14:42:31.172Z"
   },
   {
    "duration": 0,
    "start_time": "2022-08-12T14:42:31.173Z"
   },
   {
    "duration": 4,
    "start_time": "2022-08-12T14:44:22.321Z"
   },
   {
    "duration": 14,
    "start_time": "2022-08-12T14:44:22.327Z"
   },
   {
    "duration": 4,
    "start_time": "2022-08-12T14:44:22.342Z"
   },
   {
    "duration": 16,
    "start_time": "2022-08-12T14:44:22.348Z"
   },
   {
    "duration": 52416,
    "start_time": "2022-08-12T14:44:22.366Z"
   },
   {
    "duration": 6,
    "start_time": "2022-08-12T14:45:14.783Z"
   },
   {
    "duration": 24,
    "start_time": "2022-08-12T14:45:14.790Z"
   },
   {
    "duration": 11,
    "start_time": "2022-08-12T14:45:14.816Z"
   },
   {
    "duration": 16,
    "start_time": "2022-08-12T14:45:14.829Z"
   },
   {
    "duration": 33,
    "start_time": "2022-08-12T14:45:14.847Z"
   },
   {
    "duration": 12,
    "start_time": "2022-08-12T14:45:14.881Z"
   },
   {
    "duration": 31,
    "start_time": "2022-08-12T14:45:14.895Z"
   },
   {
    "duration": 275,
    "start_time": "2022-08-12T14:45:14.927Z"
   },
   {
    "duration": 500,
    "start_time": "2022-08-12T14:45:15.204Z"
   },
   {
    "duration": 167,
    "start_time": "2022-08-12T14:45:15.706Z"
   },
   {
    "duration": 0,
    "start_time": "2022-08-12T14:45:15.875Z"
   },
   {
    "duration": 75653,
    "start_time": "2022-08-12T14:46:10.780Z"
   },
   {
    "duration": 14,
    "start_time": "2022-08-12T16:13:26.690Z"
   },
   {
    "duration": 5,
    "start_time": "2022-08-12T16:16:11.325Z"
   },
   {
    "duration": 5,
    "start_time": "2022-08-12T16:16:25.209Z"
   },
   {
    "duration": 9,
    "start_time": "2022-08-12T16:18:51.580Z"
   },
   {
    "duration": 15,
    "start_time": "2022-08-12T16:19:52.489Z"
   },
   {
    "duration": 8,
    "start_time": "2022-08-12T16:20:19.530Z"
   },
   {
    "duration": 9,
    "start_time": "2022-08-12T16:20:28.590Z"
   },
   {
    "duration": 9,
    "start_time": "2022-08-12T16:20:54.875Z"
   },
   {
    "duration": 15,
    "start_time": "2022-08-12T16:21:04.801Z"
   },
   {
    "duration": 9,
    "start_time": "2022-08-12T16:21:14.670Z"
   },
   {
    "duration": 27,
    "start_time": "2022-08-12T16:24:17.215Z"
   },
   {
    "duration": 715,
    "start_time": "2022-08-12T16:27:10.720Z"
   },
   {
    "duration": 18,
    "start_time": "2022-08-12T16:27:28.520Z"
   },
   {
    "duration": 19,
    "start_time": "2022-08-12T16:28:19.100Z"
   },
   {
    "duration": 10,
    "start_time": "2022-08-12T16:38:26.345Z"
   },
   {
    "duration": 21,
    "start_time": "2022-08-12T16:38:49.050Z"
   },
   {
    "duration": 947,
    "start_time": "2022-08-12T16:49:19.810Z"
   },
   {
    "duration": 3,
    "start_time": "2022-08-12T16:50:38.760Z"
   },
   {
    "duration": 18,
    "start_time": "2022-08-12T16:50:47.229Z"
   },
   {
    "duration": 24,
    "start_time": "2022-08-12T16:52:10.605Z"
   },
   {
    "duration": 2,
    "start_time": "2022-08-12T16:53:11.335Z"
   },
   {
    "duration": 49,
    "start_time": "2022-08-12T16:53:11.339Z"
   },
   {
    "duration": 45,
    "start_time": "2022-08-12T16:53:11.389Z"
   },
   {
    "duration": 13,
    "start_time": "2022-08-12T16:53:11.436Z"
   },
   {
    "duration": 22,
    "start_time": "2022-08-12T16:53:11.450Z"
   },
   {
    "duration": 7,
    "start_time": "2022-08-12T16:53:11.474Z"
   },
   {
    "duration": 28,
    "start_time": "2022-08-12T16:53:11.483Z"
   },
   {
    "duration": 7,
    "start_time": "2022-08-12T16:53:11.512Z"
   },
   {
    "duration": 15,
    "start_time": "2022-08-12T16:53:11.520Z"
   },
   {
    "duration": 47287,
    "start_time": "2022-08-12T16:53:11.536Z"
   },
   {
    "duration": 15,
    "start_time": "2022-08-12T16:53:58.826Z"
   },
   {
    "duration": 4,
    "start_time": "2022-08-12T16:53:58.843Z"
   },
   {
    "duration": 13,
    "start_time": "2022-08-12T16:53:58.848Z"
   },
   {
    "duration": 3,
    "start_time": "2022-08-12T16:53:58.863Z"
   },
   {
    "duration": 15,
    "start_time": "2022-08-12T16:53:58.868Z"
   },
   {
    "duration": 51349,
    "start_time": "2022-08-12T16:53:58.884Z"
   },
   {
    "duration": 5,
    "start_time": "2022-08-12T16:54:50.235Z"
   },
   {
    "duration": 14,
    "start_time": "2022-08-12T16:54:50.241Z"
   },
   {
    "duration": 11,
    "start_time": "2022-08-12T16:54:50.256Z"
   },
   {
    "duration": 3,
    "start_time": "2022-08-12T16:54:50.269Z"
   },
   {
    "duration": 13,
    "start_time": "2022-08-12T16:54:50.274Z"
   },
   {
    "duration": 25,
    "start_time": "2022-08-12T16:54:50.288Z"
   },
   {
    "duration": 17,
    "start_time": "2022-08-12T16:54:50.314Z"
   },
   {
    "duration": 266,
    "start_time": "2022-08-12T16:54:50.333Z"
   },
   {
    "duration": 479,
    "start_time": "2022-08-12T16:54:50.601Z"
   },
   {
    "duration": 70767,
    "start_time": "2022-08-12T16:54:51.081Z"
   },
   {
    "duration": 13,
    "start_time": "2022-08-12T16:56:01.850Z"
   },
   {
    "duration": 5,
    "start_time": "2022-08-12T16:56:01.864Z"
   },
   {
    "duration": 16,
    "start_time": "2022-08-12T16:56:01.872Z"
   },
   {
    "duration": 35,
    "start_time": "2022-08-12T16:56:01.889Z"
   },
   {
    "duration": 5,
    "start_time": "2022-08-12T16:59:49.916Z"
   },
   {
    "duration": 14,
    "start_time": "2022-08-12T16:59:56.859Z"
   },
   {
    "duration": 4,
    "start_time": "2022-08-12T17:00:09.039Z"
   },
   {
    "duration": 12,
    "start_time": "2022-08-12T17:03:52.179Z"
   },
   {
    "duration": 15,
    "start_time": "2022-08-12T17:08:08.040Z"
   },
   {
    "duration": 4,
    "start_time": "2022-08-12T17:14:47.164Z"
   },
   {
    "duration": 14,
    "start_time": "2022-08-12T17:14:48.489Z"
   },
   {
    "duration": 32,
    "start_time": "2022-08-12T17:18:54.029Z"
   },
   {
    "duration": 5,
    "start_time": "2022-08-12T17:19:40.222Z"
   },
   {
    "duration": 3,
    "start_time": "2022-08-12T17:20:18.093Z"
   },
   {
    "duration": 56,
    "start_time": "2022-08-12T17:20:18.097Z"
   },
   {
    "duration": 42,
    "start_time": "2022-08-12T17:20:18.155Z"
   },
   {
    "duration": 12,
    "start_time": "2022-08-12T17:20:18.199Z"
   },
   {
    "duration": 29,
    "start_time": "2022-08-12T17:20:18.213Z"
   },
   {
    "duration": 10,
    "start_time": "2022-08-12T17:20:18.243Z"
   },
   {
    "duration": 5,
    "start_time": "2022-08-12T17:20:18.254Z"
   },
   {
    "duration": 9,
    "start_time": "2022-08-12T17:20:18.260Z"
   },
   {
    "duration": 15,
    "start_time": "2022-08-12T17:20:18.270Z"
   },
   {
    "duration": 48292,
    "start_time": "2022-08-12T17:20:18.286Z"
   },
   {
    "duration": 15,
    "start_time": "2022-08-12T17:21:06.580Z"
   },
   {
    "duration": 15,
    "start_time": "2022-08-12T17:21:06.597Z"
   },
   {
    "duration": 11,
    "start_time": "2022-08-12T17:21:06.613Z"
   },
   {
    "duration": 11,
    "start_time": "2022-08-12T17:21:06.627Z"
   },
   {
    "duration": 18,
    "start_time": "2022-08-12T17:21:06.639Z"
   },
   {
    "duration": 51180,
    "start_time": "2022-08-12T17:21:06.659Z"
   },
   {
    "duration": 6,
    "start_time": "2022-08-12T17:21:57.841Z"
   },
   {
    "duration": 22,
    "start_time": "2022-08-12T17:21:57.848Z"
   },
   {
    "duration": 18,
    "start_time": "2022-08-12T17:21:57.871Z"
   },
   {
    "duration": 11,
    "start_time": "2022-08-12T17:21:57.891Z"
   },
   {
    "duration": 15,
    "start_time": "2022-08-12T17:21:57.903Z"
   },
   {
    "duration": 18,
    "start_time": "2022-08-12T17:21:57.920Z"
   },
   {
    "duration": 36,
    "start_time": "2022-08-12T17:21:57.939Z"
   },
   {
    "duration": 268,
    "start_time": "2022-08-12T17:21:57.977Z"
   },
   {
    "duration": 472,
    "start_time": "2022-08-12T17:21:58.247Z"
   },
   {
    "duration": 70549,
    "start_time": "2022-08-12T17:21:58.720Z"
   },
   {
    "duration": 15,
    "start_time": "2022-08-12T17:23:09.270Z"
   },
   {
    "duration": 6,
    "start_time": "2022-08-12T17:23:09.287Z"
   },
   {
    "duration": 23,
    "start_time": "2022-08-12T17:23:09.294Z"
   },
   {
    "duration": 17,
    "start_time": "2022-08-12T17:23:09.319Z"
   },
   {
    "duration": 5,
    "start_time": "2022-08-12T17:23:09.339Z"
   },
   {
    "duration": 20,
    "start_time": "2022-08-12T17:23:09.345Z"
   },
   {
    "duration": 4,
    "start_time": "2022-08-12T17:23:09.366Z"
   },
   {
    "duration": 18,
    "start_time": "2022-08-12T17:23:09.371Z"
   },
   {
    "duration": 21,
    "start_time": "2022-08-12T17:23:09.390Z"
   },
   {
    "duration": 31,
    "start_time": "2022-08-12T17:24:51.125Z"
   },
   {
    "duration": 54,
    "start_time": "2022-08-12T17:28:51.165Z"
   },
   {
    "duration": 22,
    "start_time": "2022-08-12T17:30:33.340Z"
   },
   {
    "duration": 21,
    "start_time": "2022-08-12T17:32:41.279Z"
   },
   {
    "duration": 46,
    "start_time": "2022-08-13T08:36:53.895Z"
   },
   {
    "duration": 1213,
    "start_time": "2022-08-13T08:38:41.286Z"
   },
   {
    "duration": 98,
    "start_time": "2022-08-13T08:38:42.501Z"
   },
   {
    "duration": 49,
    "start_time": "2022-08-13T08:38:42.601Z"
   },
   {
    "duration": 12,
    "start_time": "2022-08-13T08:38:42.652Z"
   },
   {
    "duration": 20,
    "start_time": "2022-08-13T08:38:42.665Z"
   },
   {
    "duration": 28,
    "start_time": "2022-08-13T08:38:42.687Z"
   },
   {
    "duration": 8,
    "start_time": "2022-08-13T08:38:42.717Z"
   },
   {
    "duration": 7,
    "start_time": "2022-08-13T08:38:42.727Z"
   },
   {
    "duration": 15,
    "start_time": "2022-08-13T08:38:42.735Z"
   },
   {
    "duration": 53705,
    "start_time": "2022-08-13T08:38:42.752Z"
   },
   {
    "duration": 17,
    "start_time": "2022-08-13T08:39:36.459Z"
   },
   {
    "duration": 4,
    "start_time": "2022-08-13T08:39:36.477Z"
   },
   {
    "duration": 29,
    "start_time": "2022-08-13T08:39:36.482Z"
   },
   {
    "duration": 4,
    "start_time": "2022-08-13T08:39:36.513Z"
   },
   {
    "duration": 17,
    "start_time": "2022-08-13T08:39:36.519Z"
   },
   {
    "duration": 56434,
    "start_time": "2022-08-13T08:39:36.537Z"
   },
   {
    "duration": 6,
    "start_time": "2022-08-13T08:40:32.973Z"
   },
   {
    "duration": 16,
    "start_time": "2022-08-13T08:40:32.981Z"
   },
   {
    "duration": 19,
    "start_time": "2022-08-13T08:40:32.999Z"
   },
   {
    "duration": 5,
    "start_time": "2022-08-13T08:40:33.020Z"
   },
   {
    "duration": 13,
    "start_time": "2022-08-13T08:40:33.027Z"
   },
   {
    "duration": 4,
    "start_time": "2022-08-13T08:40:33.042Z"
   },
   {
    "duration": 18,
    "start_time": "2022-08-13T08:40:33.047Z"
   },
   {
    "duration": 319,
    "start_time": "2022-08-13T08:40:33.066Z"
   },
   {
    "duration": 574,
    "start_time": "2022-08-13T08:40:33.387Z"
   },
   {
    "duration": 81519,
    "start_time": "2022-08-13T08:40:33.963Z"
   },
   {
    "duration": 26,
    "start_time": "2022-08-13T08:41:55.484Z"
   },
   {
    "duration": 10,
    "start_time": "2022-08-13T08:41:55.512Z"
   },
   {
    "duration": 23,
    "start_time": "2022-08-13T08:41:55.524Z"
   },
   {
    "duration": 23,
    "start_time": "2022-08-13T08:41:55.549Z"
   },
   {
    "duration": 6,
    "start_time": "2022-08-13T08:41:55.574Z"
   },
   {
    "duration": 38,
    "start_time": "2022-08-13T08:41:55.581Z"
   },
   {
    "duration": 7,
    "start_time": "2022-08-13T08:41:55.622Z"
   },
   {
    "duration": 22,
    "start_time": "2022-08-13T08:41:55.633Z"
   },
   {
    "duration": 4,
    "start_time": "2022-08-13T08:41:55.656Z"
   },
   {
    "duration": 13,
    "start_time": "2022-08-13T08:41:55.662Z"
   },
   {
    "duration": 34,
    "start_time": "2022-08-13T08:41:55.677Z"
   },
   {
    "duration": 55,
    "start_time": "2022-08-13T08:42:25.346Z"
   },
   {
    "duration": 63,
    "start_time": "2022-08-13T08:42:33.495Z"
   },
   {
    "duration": 9,
    "start_time": "2022-08-13T08:42:41.676Z"
   },
   {
    "duration": 332,
    "start_time": "2022-08-13T08:43:01.832Z"
   },
   {
    "duration": 346,
    "start_time": "2022-08-13T08:43:19.122Z"
   },
   {
    "duration": 415,
    "start_time": "2022-08-13T08:43:30.274Z"
   },
   {
    "duration": 305,
    "start_time": "2022-08-13T09:03:29.157Z"
   },
   {
    "duration": 338,
    "start_time": "2022-08-13T09:15:13.127Z"
   },
   {
    "duration": 345,
    "start_time": "2022-08-13T09:15:27.426Z"
   },
   {
    "duration": 23,
    "start_time": "2022-08-13T09:21:31.298Z"
   },
   {
    "duration": 292,
    "start_time": "2022-08-13T09:21:51.868Z"
   },
   {
    "duration": 12,
    "start_time": "2022-08-13T09:23:54.521Z"
   },
   {
    "duration": 368,
    "start_time": "2022-08-13T09:24:07.079Z"
   },
   {
    "duration": 341,
    "start_time": "2022-08-13T09:31:22.902Z"
   },
   {
    "duration": 4,
    "start_time": "2022-08-13T09:32:12.780Z"
   },
   {
    "duration": 301,
    "start_time": "2022-08-13T09:32:18.831Z"
   },
   {
    "duration": 314,
    "start_time": "2022-08-13T09:32:35.877Z"
   },
   {
    "duration": 318,
    "start_time": "2022-08-13T09:34:02.650Z"
   },
   {
    "duration": 330,
    "start_time": "2022-08-13T09:36:03.010Z"
   },
   {
    "duration": 17,
    "start_time": "2022-08-13T09:41:07.060Z"
   },
   {
    "duration": 13,
    "start_time": "2022-08-13T09:41:30.990Z"
   },
   {
    "duration": 14,
    "start_time": "2022-08-13T09:41:56.779Z"
   },
   {
    "duration": 10,
    "start_time": "2022-08-13T09:43:12.779Z"
   },
   {
    "duration": 1198,
    "start_time": "2022-08-13T09:51:23.420Z"
   },
   {
    "duration": 1156,
    "start_time": "2022-08-13T09:51:49.969Z"
   },
   {
    "duration": 1051,
    "start_time": "2022-08-13T09:52:23.038Z"
   },
   {
    "duration": 1106,
    "start_time": "2022-08-13T10:02:36.019Z"
   },
   {
    "duration": 13,
    "start_time": "2022-08-13T10:03:50.818Z"
   },
   {
    "duration": 766,
    "start_time": "2022-08-13T10:03:59.530Z"
   },
   {
    "duration": 731,
    "start_time": "2022-08-13T10:06:06.229Z"
   },
   {
    "duration": 11,
    "start_time": "2022-08-13T10:06:12.300Z"
   },
   {
    "duration": 12,
    "start_time": "2022-08-13T10:06:47.680Z"
   },
   {
    "duration": 276,
    "start_time": "2022-08-13T10:07:02.028Z"
   },
   {
    "duration": 553,
    "start_time": "2022-08-13T10:12:13.961Z"
   },
   {
    "duration": 1271,
    "start_time": "2022-08-13T10:12:32.180Z"
   },
   {
    "duration": 505,
    "start_time": "2022-08-13T10:12:51.570Z"
   },
   {
    "duration": 236,
    "start_time": "2022-08-13T10:13:28.518Z"
   },
   {
    "duration": 217,
    "start_time": "2022-08-13T10:13:43.612Z"
   },
   {
    "duration": 232,
    "start_time": "2022-08-13T10:13:48.521Z"
   },
   {
    "duration": 75,
    "start_time": "2022-08-13T10:21:41.098Z"
   },
   {
    "duration": 209,
    "start_time": "2022-08-13T10:21:46.609Z"
   },
   {
    "duration": 217,
    "start_time": "2022-08-13T10:36:58.476Z"
   },
   {
    "duration": 220,
    "start_time": "2022-08-13T10:37:25.695Z"
   },
   {
    "duration": 619,
    "start_time": "2022-08-13T10:45:00.011Z"
   },
   {
    "duration": 182,
    "start_time": "2022-08-13T11:09:40.685Z"
   },
   {
    "duration": 26,
    "start_time": "2022-08-13T11:15:25.054Z"
   },
   {
    "duration": 950,
    "start_time": "2022-08-13T11:16:55.148Z"
   },
   {
    "duration": 757,
    "start_time": "2022-08-13T11:17:48.413Z"
   },
   {
    "duration": 907,
    "start_time": "2022-08-13T11:18:09.295Z"
   },
   {
    "duration": 797,
    "start_time": "2022-08-13T11:18:21.673Z"
   },
   {
    "duration": 206,
    "start_time": "2022-08-13T11:19:49.449Z"
   },
   {
    "duration": 247,
    "start_time": "2022-08-13T11:20:15.515Z"
   },
   {
    "duration": 1476,
    "start_time": "2022-08-13T11:20:59.221Z"
   },
   {
    "duration": 453,
    "start_time": "2022-08-13T11:21:16.761Z"
   },
   {
    "duration": 1375,
    "start_time": "2022-08-13T11:22:56.722Z"
   },
   {
    "duration": 391,
    "start_time": "2022-08-13T11:25:17.081Z"
   },
   {
    "duration": 264,
    "start_time": "2022-08-13T11:25:29.063Z"
   },
   {
    "duration": 9,
    "start_time": "2022-08-13T13:30:09.526Z"
   },
   {
    "duration": 974,
    "start_time": "2022-08-13T13:30:16.126Z"
   },
   {
    "duration": 5,
    "start_time": "2022-08-13T13:30:25.615Z"
   },
   {
    "duration": 176,
    "start_time": "2022-08-13T13:41:31.434Z"
   },
   {
    "duration": 1374,
    "start_time": "2022-08-13T13:42:30.983Z"
   },
   {
    "duration": 267,
    "start_time": "2022-08-13T13:42:54.298Z"
   },
   {
    "duration": 321,
    "start_time": "2022-08-13T13:43:19.865Z"
   },
   {
    "duration": 6,
    "start_time": "2022-08-13T13:43:28.139Z"
   },
   {
    "duration": 122,
    "start_time": "2022-08-13T13:46:50.514Z"
   },
   {
    "duration": 120,
    "start_time": "2022-08-13T13:47:56.463Z"
   },
   {
    "duration": 19,
    "start_time": "2022-08-13T13:58:19.527Z"
   },
   {
    "duration": 244,
    "start_time": "2022-08-13T14:07:14.957Z"
   },
   {
    "duration": 236,
    "start_time": "2022-08-13T14:08:00.061Z"
   },
   {
    "duration": 96,
    "start_time": "2022-08-13T14:40:02.627Z"
   },
   {
    "duration": 213,
    "start_time": "2022-08-13T14:41:41.657Z"
   },
   {
    "duration": 262,
    "start_time": "2022-08-13T14:50:08.327Z"
   },
   {
    "duration": 312,
    "start_time": "2022-08-13T14:50:17.238Z"
   },
   {
    "duration": 301,
    "start_time": "2022-08-13T14:51:16.717Z"
   },
   {
    "duration": 259,
    "start_time": "2022-08-13T14:52:59.837Z"
   },
   {
    "duration": 258,
    "start_time": "2022-08-13T14:53:10.502Z"
   },
   {
    "duration": 368,
    "start_time": "2022-08-13T14:53:19.017Z"
   },
   {
    "duration": 280,
    "start_time": "2022-08-13T14:53:26.142Z"
   },
   {
    "duration": 274,
    "start_time": "2022-08-13T14:53:37.937Z"
   },
   {
    "duration": 310,
    "start_time": "2022-08-13T14:56:05.962Z"
   },
   {
    "duration": 273,
    "start_time": "2022-08-13T14:56:38.276Z"
   },
   {
    "duration": 16,
    "start_time": "2022-08-13T15:01:52.036Z"
   },
   {
    "duration": 16,
    "start_time": "2022-08-13T15:02:08.557Z"
   },
   {
    "duration": 22,
    "start_time": "2022-08-13T15:02:17.257Z"
   },
   {
    "duration": 15,
    "start_time": "2022-08-13T15:03:31.756Z"
   },
   {
    "duration": 17,
    "start_time": "2022-08-13T15:03:47.517Z"
   },
   {
    "duration": 18,
    "start_time": "2022-08-13T15:04:48.592Z"
   },
   {
    "duration": 293,
    "start_time": "2022-08-13T15:05:15.416Z"
   },
   {
    "duration": 288,
    "start_time": "2022-08-13T15:13:01.347Z"
   },
   {
    "duration": 429,
    "start_time": "2022-08-13T15:13:55.768Z"
   },
   {
    "duration": 374,
    "start_time": "2022-08-13T15:17:03.021Z"
   },
   {
    "duration": 271,
    "start_time": "2022-08-13T15:17:18.090Z"
   },
   {
    "duration": 280,
    "start_time": "2022-08-13T15:17:33.979Z"
   },
   {
    "duration": 153,
    "start_time": "2022-08-13T15:23:24.861Z"
   },
   {
    "duration": 146,
    "start_time": "2022-08-13T15:23:46.381Z"
   },
   {
    "duration": 145,
    "start_time": "2022-08-13T15:24:03.522Z"
   },
   {
    "duration": 142,
    "start_time": "2022-08-13T15:25:06.942Z"
   },
   {
    "duration": 9,
    "start_time": "2022-08-13T15:26:10.421Z"
   },
   {
    "duration": 403,
    "start_time": "2022-08-13T15:26:57.421Z"
   },
   {
    "duration": 11,
    "start_time": "2022-08-13T15:27:40.324Z"
   },
   {
    "duration": 9,
    "start_time": "2022-08-13T15:30:15.913Z"
   },
   {
    "duration": 8,
    "start_time": "2022-08-13T15:30:20.122Z"
   },
   {
    "duration": 10,
    "start_time": "2022-08-13T15:30:50.001Z"
   },
   {
    "duration": 9,
    "start_time": "2022-08-13T15:31:30.551Z"
   },
   {
    "duration": 8,
    "start_time": "2022-08-13T15:33:35.118Z"
   },
   {
    "duration": 9,
    "start_time": "2022-08-13T15:34:03.712Z"
   },
   {
    "duration": 20,
    "start_time": "2022-08-13T15:34:27.502Z"
   },
   {
    "duration": 199,
    "start_time": "2022-08-13T15:34:51.482Z"
   },
   {
    "duration": 8,
    "start_time": "2022-08-13T19:59:03.157Z"
   },
   {
    "duration": 18,
    "start_time": "2022-08-13T19:59:18.476Z"
   },
   {
    "duration": 18,
    "start_time": "2022-08-13T19:59:48.026Z"
   },
   {
    "duration": 11,
    "start_time": "2022-08-13T20:00:19.996Z"
   },
   {
    "duration": 14,
    "start_time": "2022-08-13T20:00:46.216Z"
   },
   {
    "duration": 151,
    "start_time": "2022-08-13T20:01:50.587Z"
   },
   {
    "duration": 133,
    "start_time": "2022-08-13T20:04:03.836Z"
   },
   {
    "duration": 145,
    "start_time": "2022-08-13T20:04:37.756Z"
   },
   {
    "duration": 132,
    "start_time": "2022-08-13T20:05:23.736Z"
   },
   {
    "duration": 150,
    "start_time": "2022-08-13T20:05:34.699Z"
   },
   {
    "duration": 125,
    "start_time": "2022-08-13T20:06:40.916Z"
   },
   {
    "duration": 49,
    "start_time": "2022-08-14T09:44:54.691Z"
   },
   {
    "duration": 1265,
    "start_time": "2022-08-14T09:45:15.698Z"
   },
   {
    "duration": 96,
    "start_time": "2022-08-14T09:45:16.965Z"
   },
   {
    "duration": 64,
    "start_time": "2022-08-14T09:45:17.063Z"
   },
   {
    "duration": 31,
    "start_time": "2022-08-14T09:45:17.129Z"
   },
   {
    "duration": 33,
    "start_time": "2022-08-14T09:45:17.163Z"
   },
   {
    "duration": 14,
    "start_time": "2022-08-14T09:45:17.198Z"
   },
   {
    "duration": 6,
    "start_time": "2022-08-14T09:45:17.214Z"
   },
   {
    "duration": 38,
    "start_time": "2022-08-14T09:45:17.222Z"
   },
   {
    "duration": 26,
    "start_time": "2022-08-14T09:45:17.262Z"
   },
   {
    "duration": 53495,
    "start_time": "2022-08-14T09:45:17.291Z"
   },
   {
    "duration": 17,
    "start_time": "2022-08-14T09:46:10.787Z"
   },
   {
    "duration": 7,
    "start_time": "2022-08-14T09:46:10.806Z"
   },
   {
    "duration": 18,
    "start_time": "2022-08-14T09:46:10.814Z"
   },
   {
    "duration": 4,
    "start_time": "2022-08-14T09:46:10.835Z"
   },
   {
    "duration": 15,
    "start_time": "2022-08-14T09:46:10.856Z"
   },
   {
    "duration": 56418,
    "start_time": "2022-08-14T09:46:10.873Z"
   },
   {
    "duration": 5,
    "start_time": "2022-08-14T09:47:07.293Z"
   },
   {
    "duration": 12,
    "start_time": "2022-08-14T09:47:07.300Z"
   },
   {
    "duration": 11,
    "start_time": "2022-08-14T09:47:07.314Z"
   },
   {
    "duration": 4,
    "start_time": "2022-08-14T09:47:07.326Z"
   },
   {
    "duration": 31,
    "start_time": "2022-08-14T09:47:07.331Z"
   },
   {
    "duration": 4,
    "start_time": "2022-08-14T09:47:07.364Z"
   },
   {
    "duration": 17,
    "start_time": "2022-08-14T09:47:07.369Z"
   },
   {
    "duration": 317,
    "start_time": "2022-08-14T09:47:07.388Z"
   },
   {
    "duration": 592,
    "start_time": "2022-08-14T09:47:07.706Z"
   },
   {
    "duration": 79900,
    "start_time": "2022-08-14T09:47:08.300Z"
   },
   {
    "duration": 13,
    "start_time": "2022-08-14T09:48:28.202Z"
   },
   {
    "duration": 8,
    "start_time": "2022-08-14T09:48:28.217Z"
   },
   {
    "duration": 29,
    "start_time": "2022-08-14T09:48:28.227Z"
   },
   {
    "duration": 42,
    "start_time": "2022-08-14T09:48:28.257Z"
   },
   {
    "duration": 5,
    "start_time": "2022-08-14T09:48:28.301Z"
   },
   {
    "duration": 22,
    "start_time": "2022-08-14T09:48:28.308Z"
   },
   {
    "duration": 16,
    "start_time": "2022-08-14T09:48:28.332Z"
   },
   {
    "duration": 32,
    "start_time": "2022-08-14T09:48:28.349Z"
   },
   {
    "duration": 5,
    "start_time": "2022-08-14T09:48:28.383Z"
   },
   {
    "duration": 18,
    "start_time": "2022-08-14T09:48:28.390Z"
   },
   {
    "duration": 13,
    "start_time": "2022-08-14T09:48:28.409Z"
   },
   {
    "duration": 342,
    "start_time": "2022-08-14T09:48:28.423Z"
   },
   {
    "duration": 307,
    "start_time": "2022-08-14T09:48:28.767Z"
   },
   {
    "duration": 1097,
    "start_time": "2022-08-14T09:48:29.076Z"
   },
   {
    "duration": 264,
    "start_time": "2022-08-14T09:48:30.177Z"
   },
   {
    "duration": 196,
    "start_time": "2022-08-14T09:48:30.443Z"
   },
   {
    "duration": 1344,
    "start_time": "2022-08-14T09:48:30.641Z"
   },
   {
    "duration": 317,
    "start_time": "2022-08-14T09:48:31.987Z"
   },
   {
    "duration": 6,
    "start_time": "2022-08-14T09:48:32.307Z"
   },
   {
    "duration": 316,
    "start_time": "2022-08-14T09:48:32.315Z"
   },
   {
    "duration": 186,
    "start_time": "2022-08-14T09:48:32.633Z"
   },
   {
    "duration": 166,
    "start_time": "2022-08-14T09:48:46.288Z"
   },
   {
    "duration": 187,
    "start_time": "2022-08-14T09:49:02.238Z"
   },
   {
    "duration": 223,
    "start_time": "2022-08-14T10:12:13.250Z"
   },
   {
    "duration": 31,
    "start_time": "2022-08-14T10:12:50.349Z"
   },
   {
    "duration": 1201,
    "start_time": "2022-08-14T10:15:23.084Z"
   },
   {
    "duration": 1351,
    "start_time": "2022-08-14T10:16:26.189Z"
   },
   {
    "duration": 1057,
    "start_time": "2022-08-14T10:16:39.720Z"
   },
   {
    "duration": 18,
    "start_time": "2022-08-14T10:16:51.201Z"
   },
   {
    "duration": 1242,
    "start_time": "2022-08-14T10:17:11.674Z"
   },
   {
    "duration": 317,
    "start_time": "2022-08-14T10:17:57.388Z"
   },
   {
    "duration": 254,
    "start_time": "2022-08-14T10:18:59.588Z"
   },
   {
    "duration": 319,
    "start_time": "2022-08-14T10:20:15.072Z"
   },
   {
    "duration": 254,
    "start_time": "2022-08-14T10:20:32.088Z"
   },
   {
    "duration": 1182,
    "start_time": "2022-08-14T10:22:53.927Z"
   },
   {
    "duration": 1262,
    "start_time": "2022-08-14T10:26:09.706Z"
   },
   {
    "duration": 1258,
    "start_time": "2022-08-14T10:26:45.032Z"
   },
   {
    "duration": 852,
    "start_time": "2022-08-14T10:31:43.742Z"
   },
   {
    "duration": 227,
    "start_time": "2022-08-14T10:33:49.375Z"
   },
   {
    "duration": 228,
    "start_time": "2022-08-14T10:39:33.578Z"
   },
   {
    "duration": 229,
    "start_time": "2022-08-14T10:45:24.813Z"
   },
   {
    "duration": 421,
    "start_time": "2022-08-14T10:52:34.916Z"
   },
   {
    "duration": 7,
    "start_time": "2022-08-14T11:18:55.087Z"
   },
   {
    "duration": 21,
    "start_time": "2022-08-14T11:19:03.489Z"
   },
   {
    "duration": 799,
    "start_time": "2022-08-14T11:19:55.092Z"
   },
   {
    "duration": 549,
    "start_time": "2022-08-14T11:21:46.205Z"
   },
   {
    "duration": 714,
    "start_time": "2022-08-14T11:21:59.911Z"
   },
   {
    "duration": 622,
    "start_time": "2022-08-14T11:24:03.105Z"
   },
   {
    "duration": 550,
    "start_time": "2022-08-14T11:24:54.476Z"
   },
   {
    "duration": 621,
    "start_time": "2022-08-14T11:25:20.305Z"
   },
   {
    "duration": 545,
    "start_time": "2022-08-14T13:43:22.473Z"
   },
   {
    "duration": 499,
    "start_time": "2022-08-14T13:51:53.110Z"
   },
   {
    "duration": 488,
    "start_time": "2022-08-14T13:53:27.056Z"
   },
   {
    "duration": 2,
    "start_time": "2022-08-14T14:07:02.315Z"
   },
   {
    "duration": 3,
    "start_time": "2022-08-14T14:17:19.834Z"
   },
   {
    "duration": 12,
    "start_time": "2022-08-14T18:21:52.237Z"
   },
   {
    "duration": 7,
    "start_time": "2022-08-14T18:22:37.341Z"
   },
   {
    "duration": 2,
    "start_time": "2022-08-14T18:50:09.001Z"
   },
   {
    "duration": 6,
    "start_time": "2022-08-14T18:51:53.747Z"
   },
   {
    "duration": 9,
    "start_time": "2022-08-14T18:51:59.961Z"
   },
   {
    "duration": 4,
    "start_time": "2022-08-14T18:52:19.536Z"
   },
   {
    "duration": 5,
    "start_time": "2022-08-14T18:54:08.526Z"
   },
   {
    "duration": 4,
    "start_time": "2022-08-14T18:54:14.417Z"
   },
   {
    "duration": 6,
    "start_time": "2022-08-14T18:55:54.741Z"
   },
   {
    "duration": 5,
    "start_time": "2022-08-14T18:56:00.196Z"
   },
   {
    "duration": 5,
    "start_time": "2022-08-14T19:08:34.915Z"
   },
   {
    "duration": 5,
    "start_time": "2022-08-14T19:08:48.396Z"
   },
   {
    "duration": 5,
    "start_time": "2022-08-14T19:11:26.445Z"
   },
   {
    "duration": 4,
    "start_time": "2022-08-14T19:16:50.865Z"
   },
   {
    "duration": 5,
    "start_time": "2022-08-14T19:16:55.115Z"
   },
   {
    "duration": 1442,
    "start_time": "2022-08-15T09:49:56.346Z"
   },
   {
    "duration": 195,
    "start_time": "2022-08-15T09:49:57.791Z"
   },
   {
    "duration": 63,
    "start_time": "2022-08-15T09:49:57.988Z"
   },
   {
    "duration": 22,
    "start_time": "2022-08-15T09:49:58.053Z"
   },
   {
    "duration": 21,
    "start_time": "2022-08-15T09:49:58.077Z"
   },
   {
    "duration": 15,
    "start_time": "2022-08-15T09:49:58.100Z"
   },
   {
    "duration": 5,
    "start_time": "2022-08-15T09:49:58.116Z"
   },
   {
    "duration": 9,
    "start_time": "2022-08-15T09:49:58.122Z"
   },
   {
    "duration": 41,
    "start_time": "2022-08-15T09:49:58.133Z"
   },
   {
    "duration": 56092,
    "start_time": "2022-08-15T09:49:58.176Z"
   },
   {
    "duration": 19,
    "start_time": "2022-08-15T09:50:54.270Z"
   },
   {
    "duration": 5,
    "start_time": "2022-08-15T09:50:54.292Z"
   },
   {
    "duration": 12,
    "start_time": "2022-08-15T09:50:54.299Z"
   },
   {
    "duration": 5,
    "start_time": "2022-08-15T09:50:54.313Z"
   },
   {
    "duration": 49,
    "start_time": "2022-08-15T09:50:54.319Z"
   },
   {
    "duration": 59294,
    "start_time": "2022-08-15T09:50:54.370Z"
   },
   {
    "duration": 5,
    "start_time": "2022-08-15T09:51:53.668Z"
   },
   {
    "duration": 14,
    "start_time": "2022-08-15T09:51:53.675Z"
   },
   {
    "duration": 12,
    "start_time": "2022-08-15T09:51:53.691Z"
   },
   {
    "duration": 4,
    "start_time": "2022-08-15T09:51:53.704Z"
   },
   {
    "duration": 12,
    "start_time": "2022-08-15T09:51:53.710Z"
   },
   {
    "duration": 4,
    "start_time": "2022-08-15T09:51:53.724Z"
   },
   {
    "duration": 48,
    "start_time": "2022-08-15T09:51:53.730Z"
   },
   {
    "duration": 323,
    "start_time": "2022-08-15T09:51:53.780Z"
   },
   {
    "duration": 632,
    "start_time": "2022-08-15T09:51:54.105Z"
   },
   {
    "duration": 85571,
    "start_time": "2022-08-15T09:51:54.739Z"
   },
   {
    "duration": 17,
    "start_time": "2022-08-15T09:53:20.311Z"
   },
   {
    "duration": 5,
    "start_time": "2022-08-15T09:53:20.330Z"
   },
   {
    "duration": 32,
    "start_time": "2022-08-15T09:53:20.337Z"
   },
   {
    "duration": 24,
    "start_time": "2022-08-15T09:53:20.370Z"
   },
   {
    "duration": 6,
    "start_time": "2022-08-15T09:53:20.396Z"
   },
   {
    "duration": 19,
    "start_time": "2022-08-15T09:53:20.404Z"
   },
   {
    "duration": 4,
    "start_time": "2022-08-15T09:53:20.426Z"
   },
   {
    "duration": 50,
    "start_time": "2022-08-15T09:53:20.432Z"
   },
   {
    "duration": 4,
    "start_time": "2022-08-15T09:53:20.484Z"
   },
   {
    "duration": 14,
    "start_time": "2022-08-15T09:53:20.490Z"
   },
   {
    "duration": 7,
    "start_time": "2022-08-15T09:53:20.506Z"
   },
   {
    "duration": 381,
    "start_time": "2022-08-15T09:53:20.515Z"
   },
   {
    "duration": 317,
    "start_time": "2022-08-15T09:53:20.898Z"
   },
   {
    "duration": 1167,
    "start_time": "2022-08-15T09:53:21.217Z"
   },
   {
    "duration": 273,
    "start_time": "2022-08-15T09:53:22.388Z"
   },
   {
    "duration": 205,
    "start_time": "2022-08-15T09:53:22.663Z"
   },
   {
    "duration": 1389,
    "start_time": "2022-08-15T09:53:22.869Z"
   },
   {
    "duration": 313,
    "start_time": "2022-08-15T09:53:24.260Z"
   },
   {
    "duration": 6,
    "start_time": "2022-08-15T09:53:24.575Z"
   },
   {
    "duration": 335,
    "start_time": "2022-08-15T09:53:24.583Z"
   },
   {
    "duration": 185,
    "start_time": "2022-08-15T09:53:24.919Z"
   },
   {
    "duration": 176,
    "start_time": "2022-08-15T09:53:25.105Z"
   },
   {
    "duration": 843,
    "start_time": "2022-08-15T09:53:25.283Z"
   },
   {
    "duration": 221,
    "start_time": "2022-08-15T09:53:26.128Z"
   },
   {
    "duration": 284,
    "start_time": "2022-08-15T09:53:26.351Z"
   },
   {
    "duration": 597,
    "start_time": "2022-08-15T09:53:26.638Z"
   },
   {
    "duration": 648,
    "start_time": "2022-08-15T09:53:27.237Z"
   },
   {
    "duration": 509,
    "start_time": "2022-08-15T09:53:27.887Z"
   },
   {
    "duration": 3,
    "start_time": "2022-08-15T09:53:28.398Z"
   },
   {
    "duration": 12,
    "start_time": "2022-08-15T09:53:28.403Z"
   },
   {
    "duration": 7,
    "start_time": "2022-08-15T09:53:28.416Z"
   },
   {
    "duration": 10,
    "start_time": "2022-08-15T09:53:28.425Z"
   },
   {
    "duration": 5,
    "start_time": "2022-08-15T09:53:28.436Z"
   },
   {
    "duration": 1267,
    "start_time": "2022-08-15T12:57:59.409Z"
   },
   {
    "duration": 198,
    "start_time": "2022-08-15T12:58:00.678Z"
   },
   {
    "duration": 50,
    "start_time": "2022-08-15T12:58:00.877Z"
   },
   {
    "duration": 14,
    "start_time": "2022-08-15T12:58:00.928Z"
   },
   {
    "duration": 20,
    "start_time": "2022-08-15T12:58:00.944Z"
   },
   {
    "duration": 11,
    "start_time": "2022-08-15T12:58:00.965Z"
   },
   {
    "duration": 30,
    "start_time": "2022-08-15T12:58:00.977Z"
   },
   {
    "duration": 7,
    "start_time": "2022-08-15T12:58:01.008Z"
   },
   {
    "duration": 23,
    "start_time": "2022-08-15T12:58:01.016Z"
   },
   {
    "duration": 48492,
    "start_time": "2022-08-15T12:58:01.041Z"
   },
   {
    "duration": 16,
    "start_time": "2022-08-15T12:58:49.535Z"
   },
   {
    "duration": 4,
    "start_time": "2022-08-15T12:58:49.552Z"
   },
   {
    "duration": 18,
    "start_time": "2022-08-15T12:58:49.557Z"
   },
   {
    "duration": 7,
    "start_time": "2022-08-15T12:58:49.576Z"
   },
   {
    "duration": 31,
    "start_time": "2022-08-15T12:58:49.584Z"
   },
   {
    "duration": 52150,
    "start_time": "2022-08-15T12:58:49.617Z"
   },
   {
    "duration": 5,
    "start_time": "2022-08-15T12:59:41.769Z"
   },
   {
    "duration": 14,
    "start_time": "2022-08-15T12:59:41.775Z"
   },
   {
    "duration": 17,
    "start_time": "2022-08-15T12:59:41.790Z"
   },
   {
    "duration": 4,
    "start_time": "2022-08-15T12:59:41.808Z"
   },
   {
    "duration": 13,
    "start_time": "2022-08-15T12:59:41.813Z"
   },
   {
    "duration": 4,
    "start_time": "2022-08-15T12:59:41.827Z"
   },
   {
    "duration": 15,
    "start_time": "2022-08-15T12:59:41.832Z"
   },
   {
    "duration": 298,
    "start_time": "2022-08-15T12:59:41.849Z"
   },
   {
    "duration": 555,
    "start_time": "2022-08-15T12:59:42.148Z"
   },
   {
    "duration": 75012,
    "start_time": "2022-08-15T12:59:42.705Z"
   },
   {
    "duration": 14,
    "start_time": "2022-08-15T13:00:57.719Z"
   },
   {
    "duration": 5,
    "start_time": "2022-08-15T13:00:57.736Z"
   },
   {
    "duration": 12,
    "start_time": "2022-08-15T13:00:57.742Z"
   },
   {
    "duration": 20,
    "start_time": "2022-08-15T13:00:57.755Z"
   },
   {
    "duration": 32,
    "start_time": "2022-08-15T13:00:57.777Z"
   },
   {
    "duration": 14,
    "start_time": "2022-08-15T13:00:57.811Z"
   },
   {
    "duration": 3,
    "start_time": "2022-08-15T13:00:57.827Z"
   },
   {
    "duration": 15,
    "start_time": "2022-08-15T13:00:57.831Z"
   },
   {
    "duration": 4,
    "start_time": "2022-08-15T13:00:57.848Z"
   },
   {
    "duration": 12,
    "start_time": "2022-08-15T13:00:57.854Z"
   },
   {
    "duration": 4,
    "start_time": "2022-08-15T13:00:57.868Z"
   },
   {
    "duration": 360,
    "start_time": "2022-08-15T13:00:57.873Z"
   },
   {
    "duration": 271,
    "start_time": "2022-08-15T13:00:58.235Z"
   },
   {
    "duration": 998,
    "start_time": "2022-08-15T13:00:58.508Z"
   },
   {
    "duration": 250,
    "start_time": "2022-08-15T13:00:59.507Z"
   },
   {
    "duration": 185,
    "start_time": "2022-08-15T13:00:59.759Z"
   },
   {
    "duration": 1270,
    "start_time": "2022-08-15T13:00:59.946Z"
   },
   {
    "duration": 288,
    "start_time": "2022-08-15T13:01:01.218Z"
   },
   {
    "duration": 5,
    "start_time": "2022-08-15T13:01:01.508Z"
   },
   {
    "duration": 313,
    "start_time": "2022-08-15T13:01:01.515Z"
   },
   {
    "duration": 149,
    "start_time": "2022-08-15T13:01:01.830Z"
   },
   {
    "duration": 158,
    "start_time": "2022-08-15T13:01:01.981Z"
   },
   {
    "duration": 711,
    "start_time": "2022-08-15T13:01:02.141Z"
   },
   {
    "duration": 195,
    "start_time": "2022-08-15T13:01:02.854Z"
   },
   {
    "duration": 195,
    "start_time": "2022-08-15T13:01:03.051Z"
   },
   {
    "duration": 432,
    "start_time": "2022-08-15T13:01:03.247Z"
   },
   {
    "duration": 553,
    "start_time": "2022-08-15T13:01:03.680Z"
   },
   {
    "duration": 416,
    "start_time": "2022-08-15T13:01:04.234Z"
   },
   {
    "duration": 2,
    "start_time": "2022-08-15T13:01:04.652Z"
   },
   {
    "duration": 10,
    "start_time": "2022-08-15T13:01:04.655Z"
   },
   {
    "duration": 6,
    "start_time": "2022-08-15T13:01:04.666Z"
   },
   {
    "duration": 9,
    "start_time": "2022-08-15T13:01:04.673Z"
   },
   {
    "duration": 17,
    "start_time": "2022-08-15T13:01:04.683Z"
   },
   {
    "duration": 1116,
    "start_time": "2022-08-15T13:52:32.978Z"
   },
   {
    "duration": 54,
    "start_time": "2022-08-15T13:52:34.097Z"
   },
   {
    "duration": 53,
    "start_time": "2022-08-15T13:52:34.152Z"
   },
   {
    "duration": 13,
    "start_time": "2022-08-15T13:52:34.207Z"
   },
   {
    "duration": 20,
    "start_time": "2022-08-15T13:52:34.221Z"
   },
   {
    "duration": 10,
    "start_time": "2022-08-15T13:52:34.243Z"
   },
   {
    "duration": 4,
    "start_time": "2022-08-15T13:52:34.255Z"
   },
   {
    "duration": 7,
    "start_time": "2022-08-15T13:52:34.261Z"
   },
   {
    "duration": 17,
    "start_time": "2022-08-15T13:52:34.305Z"
   },
   {
    "duration": 49869,
    "start_time": "2022-08-15T13:52:34.326Z"
   },
   {
    "duration": 18,
    "start_time": "2022-08-15T13:53:24.196Z"
   },
   {
    "duration": 4,
    "start_time": "2022-08-15T13:53:24.215Z"
   },
   {
    "duration": 10,
    "start_time": "2022-08-15T13:53:24.221Z"
   },
   {
    "duration": 3,
    "start_time": "2022-08-15T13:53:24.232Z"
   },
   {
    "duration": 15,
    "start_time": "2022-08-15T13:53:24.237Z"
   },
   {
    "duration": 53825,
    "start_time": "2022-08-15T13:53:24.254Z"
   },
   {
    "duration": 5,
    "start_time": "2022-08-15T13:54:18.080Z"
   },
   {
    "duration": 23,
    "start_time": "2022-08-15T13:54:18.087Z"
   },
   {
    "duration": 11,
    "start_time": "2022-08-15T13:54:18.111Z"
   },
   {
    "duration": 4,
    "start_time": "2022-08-15T13:54:18.123Z"
   },
   {
    "duration": 10,
    "start_time": "2022-08-15T13:54:18.128Z"
   },
   {
    "duration": 9,
    "start_time": "2022-08-15T13:54:18.139Z"
   },
   {
    "duration": 25,
    "start_time": "2022-08-15T13:54:18.149Z"
   },
   {
    "duration": 309,
    "start_time": "2022-08-15T13:54:18.175Z"
   },
   {
    "duration": 493,
    "start_time": "2022-08-15T13:54:18.486Z"
   },
   {
    "duration": 76477,
    "start_time": "2022-08-15T13:54:18.980Z"
   },
   {
    "duration": 15,
    "start_time": "2022-08-15T13:55:35.459Z"
   },
   {
    "duration": 5,
    "start_time": "2022-08-15T13:55:35.478Z"
   },
   {
    "duration": 26,
    "start_time": "2022-08-15T13:55:35.485Z"
   },
   {
    "duration": 22,
    "start_time": "2022-08-15T13:55:35.512Z"
   },
   {
    "duration": 6,
    "start_time": "2022-08-15T13:55:35.536Z"
   },
   {
    "duration": 15,
    "start_time": "2022-08-15T13:55:35.543Z"
   },
   {
    "duration": 3,
    "start_time": "2022-08-15T13:55:35.560Z"
   },
   {
    "duration": 43,
    "start_time": "2022-08-15T13:55:35.564Z"
   },
   {
    "duration": 4,
    "start_time": "2022-08-15T13:55:35.609Z"
   },
   {
    "duration": 13,
    "start_time": "2022-08-15T13:55:35.615Z"
   },
   {
    "duration": 6,
    "start_time": "2022-08-15T13:55:35.629Z"
   },
   {
    "duration": 351,
    "start_time": "2022-08-15T13:55:35.637Z"
   },
   {
    "duration": 368,
    "start_time": "2022-08-15T13:55:35.989Z"
   },
   {
    "duration": 1091,
    "start_time": "2022-08-15T13:55:36.359Z"
   },
   {
    "duration": 252,
    "start_time": "2022-08-15T13:55:37.452Z"
   },
   {
    "duration": 202,
    "start_time": "2022-08-15T13:55:37.706Z"
   },
   {
    "duration": 1297,
    "start_time": "2022-08-15T13:55:37.909Z"
   },
   {
    "duration": 302,
    "start_time": "2022-08-15T13:55:39.208Z"
   },
   {
    "duration": 5,
    "start_time": "2022-08-15T13:55:39.511Z"
   },
   {
    "duration": 306,
    "start_time": "2022-08-15T13:55:39.518Z"
   },
   {
    "duration": 158,
    "start_time": "2022-08-15T13:55:39.825Z"
   },
   {
    "duration": 173,
    "start_time": "2022-08-15T13:55:39.985Z"
   },
   {
    "duration": 817,
    "start_time": "2022-08-15T13:55:40.159Z"
   },
   {
    "duration": 190,
    "start_time": "2022-08-15T13:55:40.978Z"
   },
   {
    "duration": 208,
    "start_time": "2022-08-15T13:55:41.170Z"
   },
   {
    "duration": 438,
    "start_time": "2022-08-15T13:55:41.379Z"
   },
   {
    "duration": 553,
    "start_time": "2022-08-15T13:55:41.818Z"
   },
   {
    "duration": 454,
    "start_time": "2022-08-15T13:55:42.373Z"
   },
   {
    "duration": 2,
    "start_time": "2022-08-15T13:55:42.828Z"
   },
   {
    "duration": 8,
    "start_time": "2022-08-15T13:55:42.832Z"
   },
   {
    "duration": 6,
    "start_time": "2022-08-15T13:55:42.841Z"
   },
   {
    "duration": 8,
    "start_time": "2022-08-15T13:55:42.848Z"
   },
   {
    "duration": 4,
    "start_time": "2022-08-15T13:55:42.858Z"
   },
   {
    "duration": 85,
    "start_time": "2022-08-15T17:19:26.892Z"
   },
   {
    "duration": 72,
    "start_time": "2022-08-15T17:19:29.931Z"
   },
   {
    "duration": 44,
    "start_time": "2022-08-15T17:25:06.912Z"
   },
   {
    "duration": 1347,
    "start_time": "2022-08-15T17:25:09.171Z"
   },
   {
    "duration": 196,
    "start_time": "2022-08-15T17:25:12.921Z"
   },
   {
    "duration": 62,
    "start_time": "2022-08-15T17:25:14.651Z"
   },
   {
    "duration": 55,
    "start_time": "2022-08-15T17:25:44.112Z"
   },
   {
    "duration": 53,
    "start_time": "2022-08-15T17:25:56.246Z"
   },
   {
    "duration": 13,
    "start_time": "2022-08-15T17:30:52.172Z"
   },
   {
    "duration": 14,
    "start_time": "2022-08-15T17:30:57.271Z"
   },
   {
    "duration": 43,
    "start_time": "2022-08-15T17:31:02.212Z"
   },
   {
    "duration": 50,
    "start_time": "2022-08-16T09:39:43.751Z"
   },
   {
    "duration": 1229,
    "start_time": "2022-08-16T09:39:52.223Z"
   },
   {
    "duration": 227,
    "start_time": "2022-08-16T09:39:53.454Z"
   },
   {
    "duration": 14,
    "start_time": "2022-08-16T09:39:53.683Z"
   },
   {
    "duration": 19,
    "start_time": "2022-08-16T09:39:53.698Z"
   },
   {
    "duration": 15,
    "start_time": "2022-08-16T09:39:53.719Z"
   },
   {
    "duration": 20,
    "start_time": "2022-08-16T09:39:53.736Z"
   },
   {
    "duration": 26,
    "start_time": "2022-08-16T09:39:53.758Z"
   },
   {
    "duration": 4,
    "start_time": "2022-08-16T09:39:53.787Z"
   },
   {
    "duration": 9,
    "start_time": "2022-08-16T09:39:53.792Z"
   },
   {
    "duration": 18,
    "start_time": "2022-08-16T09:39:53.803Z"
   },
   {
    "duration": 54543,
    "start_time": "2022-08-16T09:39:53.822Z"
   },
   {
    "duration": 27,
    "start_time": "2022-08-16T09:40:48.366Z"
   },
   {
    "duration": 5,
    "start_time": "2022-08-16T09:40:48.394Z"
   },
   {
    "duration": 11,
    "start_time": "2022-08-16T09:40:48.402Z"
   },
   {
    "duration": 4,
    "start_time": "2022-08-16T09:40:48.414Z"
   },
   {
    "duration": 15,
    "start_time": "2022-08-16T09:40:48.420Z"
   },
   {
    "duration": 56960,
    "start_time": "2022-08-16T09:40:48.437Z"
   },
   {
    "duration": 5,
    "start_time": "2022-08-16T09:41:45.399Z"
   },
   {
    "duration": 15,
    "start_time": "2022-08-16T09:41:45.405Z"
   },
   {
    "duration": 11,
    "start_time": "2022-08-16T09:41:45.422Z"
   },
   {
    "duration": 4,
    "start_time": "2022-08-16T09:41:45.434Z"
   },
   {
    "duration": 42,
    "start_time": "2022-08-16T09:41:45.439Z"
   },
   {
    "duration": 5,
    "start_time": "2022-08-16T09:41:45.483Z"
   },
   {
    "duration": 19,
    "start_time": "2022-08-16T09:41:45.489Z"
   },
   {
    "duration": 326,
    "start_time": "2022-08-16T09:41:45.510Z"
   },
   {
    "duration": 586,
    "start_time": "2022-08-16T09:41:45.838Z"
   },
   {
    "duration": 80979,
    "start_time": "2022-08-16T09:41:46.425Z"
   },
   {
    "duration": 14,
    "start_time": "2022-08-16T09:43:07.405Z"
   },
   {
    "duration": 4,
    "start_time": "2022-08-16T09:43:07.421Z"
   },
   {
    "duration": 12,
    "start_time": "2022-08-16T09:43:07.427Z"
   },
   {
    "duration": 39,
    "start_time": "2022-08-16T09:43:07.441Z"
   },
   {
    "duration": 5,
    "start_time": "2022-08-16T09:43:07.481Z"
   },
   {
    "duration": 20,
    "start_time": "2022-08-16T09:43:07.488Z"
   },
   {
    "duration": 4,
    "start_time": "2022-08-16T09:43:07.510Z"
   },
   {
    "duration": 20,
    "start_time": "2022-08-16T09:43:07.516Z"
   },
   {
    "duration": 5,
    "start_time": "2022-08-16T09:43:07.538Z"
   },
   {
    "duration": 12,
    "start_time": "2022-08-16T09:43:07.568Z"
   },
   {
    "duration": 8,
    "start_time": "2022-08-16T09:43:07.581Z"
   },
   {
    "duration": 355,
    "start_time": "2022-08-16T09:43:07.590Z"
   },
   {
    "duration": 305,
    "start_time": "2022-08-16T09:43:07.946Z"
   },
   {
    "duration": 1044,
    "start_time": "2022-08-16T09:43:08.254Z"
   },
   {
    "duration": 265,
    "start_time": "2022-08-16T09:43:09.300Z"
   },
   {
    "duration": 184,
    "start_time": "2022-08-16T09:43:09.566Z"
   },
   {
    "duration": 1304,
    "start_time": "2022-08-16T09:43:09.752Z"
   },
   {
    "duration": 309,
    "start_time": "2022-08-16T09:43:11.058Z"
   },
   {
    "duration": 5,
    "start_time": "2022-08-16T09:43:11.369Z"
   },
   {
    "duration": 322,
    "start_time": "2022-08-16T09:43:11.375Z"
   },
   {
    "duration": 178,
    "start_time": "2022-08-16T09:43:11.699Z"
   },
   {
    "duration": 174,
    "start_time": "2022-08-16T09:43:11.879Z"
   },
   {
    "duration": 780,
    "start_time": "2022-08-16T09:43:12.055Z"
   },
   {
    "duration": 220,
    "start_time": "2022-08-16T09:43:12.836Z"
   },
   {
    "duration": 228,
    "start_time": "2022-08-16T09:43:13.058Z"
   },
   {
    "duration": 461,
    "start_time": "2022-08-16T09:43:13.288Z"
   },
   {
    "duration": 564,
    "start_time": "2022-08-16T09:43:13.751Z"
   },
   {
    "duration": 463,
    "start_time": "2022-08-16T09:43:14.317Z"
   },
   {
    "duration": 2,
    "start_time": "2022-08-16T09:43:14.782Z"
   },
   {
    "duration": 10,
    "start_time": "2022-08-16T09:43:14.785Z"
   },
   {
    "duration": 5,
    "start_time": "2022-08-16T09:43:14.796Z"
   },
   {
    "duration": 10,
    "start_time": "2022-08-16T09:43:14.803Z"
   },
   {
    "duration": 7,
    "start_time": "2022-08-16T09:43:14.814Z"
   },
   {
    "duration": 87,
    "start_time": "2022-08-16T09:50:43.121Z"
   },
   {
    "duration": 4,
    "start_time": "2022-08-16T10:40:40.254Z"
   },
   {
    "duration": 91,
    "start_time": "2022-08-16T10:40:40.260Z"
   },
   {
    "duration": 24,
    "start_time": "2022-08-16T10:40:40.353Z"
   },
   {
    "duration": 29,
    "start_time": "2022-08-16T10:40:40.386Z"
   },
   {
    "duration": 15,
    "start_time": "2022-08-16T10:40:40.418Z"
   },
   {
    "duration": 22,
    "start_time": "2022-08-16T10:40:40.435Z"
   },
   {
    "duration": 11,
    "start_time": "2022-08-16T10:40:40.460Z"
   },
   {
    "duration": 36,
    "start_time": "2022-08-16T10:40:40.473Z"
   },
   {
    "duration": 10,
    "start_time": "2022-08-16T10:40:40.511Z"
   },
   {
    "duration": 17,
    "start_time": "2022-08-16T10:40:40.523Z"
   },
   {
    "duration": 3,
    "start_time": "2022-08-16T10:40:40.542Z"
   },
   {
    "duration": 59219,
    "start_time": "2022-08-16T10:40:40.546Z"
   },
   {
    "duration": 24,
    "start_time": "2022-08-16T10:41:39.767Z"
   },
   {
    "duration": 5,
    "start_time": "2022-08-16T10:41:39.795Z"
   },
   {
    "duration": 15,
    "start_time": "2022-08-16T10:41:39.802Z"
   },
   {
    "duration": 5,
    "start_time": "2022-08-16T10:41:39.818Z"
   },
   {
    "duration": 59,
    "start_time": "2022-08-16T10:41:39.824Z"
   },
   {
    "duration": 64500,
    "start_time": "2022-08-16T10:41:39.885Z"
   },
   {
    "duration": 6,
    "start_time": "2022-08-16T10:42:44.386Z"
   },
   {
    "duration": 28,
    "start_time": "2022-08-16T10:42:44.394Z"
   },
   {
    "duration": 17,
    "start_time": "2022-08-16T10:42:44.424Z"
   },
   {
    "duration": 6,
    "start_time": "2022-08-16T10:42:44.442Z"
   },
   {
    "duration": 33,
    "start_time": "2022-08-16T10:42:44.449Z"
   },
   {
    "duration": 4,
    "start_time": "2022-08-16T10:42:44.484Z"
   },
   {
    "duration": 37,
    "start_time": "2022-08-16T10:46:22.384Z"
   },
   {
    "duration": 57,
    "start_time": "2022-08-16T10:47:06.558Z"
   },
   {
    "duration": 3,
    "start_time": "2022-08-16T10:47:36.186Z"
   },
   {
    "duration": 59,
    "start_time": "2022-08-16T10:47:36.192Z"
   },
   {
    "duration": 13,
    "start_time": "2022-08-16T10:47:36.253Z"
   },
   {
    "duration": 31,
    "start_time": "2022-08-16T10:47:36.267Z"
   },
   {
    "duration": 13,
    "start_time": "2022-08-16T10:47:36.301Z"
   },
   {
    "duration": 19,
    "start_time": "2022-08-16T10:47:36.316Z"
   },
   {
    "duration": 9,
    "start_time": "2022-08-16T10:47:36.337Z"
   },
   {
    "duration": 5,
    "start_time": "2022-08-16T10:47:36.348Z"
   },
   {
    "duration": 32,
    "start_time": "2022-08-16T10:47:36.354Z"
   },
   {
    "duration": 16,
    "start_time": "2022-08-16T10:47:36.388Z"
   },
   {
    "duration": 3,
    "start_time": "2022-08-16T10:47:36.405Z"
   },
   {
    "duration": 56293,
    "start_time": "2022-08-16T10:47:36.409Z"
   },
   {
    "duration": 16,
    "start_time": "2022-08-16T10:48:32.703Z"
   },
   {
    "duration": 4,
    "start_time": "2022-08-16T10:48:32.721Z"
   },
   {
    "duration": 12,
    "start_time": "2022-08-16T10:48:32.726Z"
   },
   {
    "duration": 4,
    "start_time": "2022-08-16T10:48:32.739Z"
   },
   {
    "duration": 49,
    "start_time": "2022-08-16T10:48:32.744Z"
   },
   {
    "duration": 60326,
    "start_time": "2022-08-16T10:48:32.795Z"
   },
   {
    "duration": 7,
    "start_time": "2022-08-16T10:49:33.122Z"
   },
   {
    "duration": 16,
    "start_time": "2022-08-16T10:49:33.130Z"
   },
   {
    "duration": 27,
    "start_time": "2022-08-16T10:49:33.148Z"
   },
   {
    "duration": 7,
    "start_time": "2022-08-16T10:49:33.176Z"
   },
   {
    "duration": 17,
    "start_time": "2022-08-16T10:49:33.185Z"
   },
   {
    "duration": 5,
    "start_time": "2022-08-16T10:49:33.203Z"
   },
   {
    "duration": 36,
    "start_time": "2022-08-16T10:49:42.197Z"
   },
   {
    "duration": 1173,
    "start_time": "2022-08-16T10:51:16.817Z"
   },
   {
    "duration": 56,
    "start_time": "2022-08-16T10:51:17.992Z"
   },
   {
    "duration": 15,
    "start_time": "2022-08-16T10:51:18.050Z"
   },
   {
    "duration": 25,
    "start_time": "2022-08-16T10:51:18.067Z"
   },
   {
    "duration": 13,
    "start_time": "2022-08-16T10:51:18.094Z"
   },
   {
    "duration": 19,
    "start_time": "2022-08-16T10:51:18.108Z"
   },
   {
    "duration": 10,
    "start_time": "2022-08-16T10:51:18.129Z"
   },
   {
    "duration": 30,
    "start_time": "2022-08-16T10:51:18.141Z"
   },
   {
    "duration": 14,
    "start_time": "2022-08-16T10:51:18.177Z"
   },
   {
    "duration": 18,
    "start_time": "2022-08-16T10:51:18.192Z"
   },
   {
    "duration": 3,
    "start_time": "2022-08-16T10:51:18.212Z"
   },
   {
    "duration": 58609,
    "start_time": "2022-08-16T10:51:18.216Z"
   },
   {
    "duration": 23,
    "start_time": "2022-08-16T10:52:16.827Z"
   },
   {
    "duration": 20,
    "start_time": "2022-08-16T10:52:16.854Z"
   },
   {
    "duration": 32,
    "start_time": "2022-08-16T10:52:16.884Z"
   },
   {
    "duration": 7,
    "start_time": "2022-08-16T10:52:16.918Z"
   },
   {
    "duration": 33,
    "start_time": "2022-08-16T10:52:16.927Z"
   },
   {
    "duration": 60700,
    "start_time": "2022-08-16T10:52:16.962Z"
   },
   {
    "duration": 11,
    "start_time": "2022-08-16T10:53:17.667Z"
   },
   {
    "duration": 27,
    "start_time": "2022-08-16T10:53:17.679Z"
   },
   {
    "duration": 17,
    "start_time": "2022-08-16T10:53:17.707Z"
   },
   {
    "duration": 7,
    "start_time": "2022-08-16T10:53:17.726Z"
   },
   {
    "duration": 28,
    "start_time": "2022-08-16T10:53:17.735Z"
   },
   {
    "duration": 26,
    "start_time": "2022-08-16T10:53:17.765Z"
   },
   {
    "duration": 120,
    "start_time": "2022-08-16T11:18:30.772Z"
   },
   {
    "duration": 436,
    "start_time": "2022-08-16T11:18:46.595Z"
   },
   {
    "duration": 25,
    "start_time": "2022-08-16T11:20:07.333Z"
   },
   {
    "duration": 108,
    "start_time": "2022-08-16T11:22:06.059Z"
   },
   {
    "duration": 13,
    "start_time": "2022-08-16T11:24:08.198Z"
   },
   {
    "duration": 91,
    "start_time": "2022-08-16T11:32:37.690Z"
   },
   {
    "duration": 3,
    "start_time": "2022-08-16T11:32:59.714Z"
   },
   {
    "duration": 63,
    "start_time": "2022-08-16T11:32:59.719Z"
   },
   {
    "duration": 16,
    "start_time": "2022-08-16T11:32:59.785Z"
   },
   {
    "duration": 23,
    "start_time": "2022-08-16T11:32:59.803Z"
   },
   {
    "duration": 17,
    "start_time": "2022-08-16T11:32:59.829Z"
   },
   {
    "duration": 45,
    "start_time": "2022-08-16T11:32:59.848Z"
   },
   {
    "duration": 8,
    "start_time": "2022-08-16T11:32:59.895Z"
   },
   {
    "duration": 5,
    "start_time": "2022-08-16T11:32:59.905Z"
   },
   {
    "duration": 25,
    "start_time": "2022-08-16T11:32:59.912Z"
   },
   {
    "duration": 29,
    "start_time": "2022-08-16T11:32:59.939Z"
   },
   {
    "duration": 9,
    "start_time": "2022-08-16T11:32:59.972Z"
   },
   {
    "duration": 58500,
    "start_time": "2022-08-16T11:32:59.983Z"
   },
   {
    "duration": 20,
    "start_time": "2022-08-16T11:33:58.485Z"
   },
   {
    "duration": 7,
    "start_time": "2022-08-16T11:33:58.509Z"
   },
   {
    "duration": 32,
    "start_time": "2022-08-16T11:33:58.518Z"
   },
   {
    "duration": 25,
    "start_time": "2022-08-16T11:33:58.553Z"
   },
   {
    "duration": 32,
    "start_time": "2022-08-16T11:33:58.582Z"
   },
   {
    "duration": 61741,
    "start_time": "2022-08-16T11:33:58.616Z"
   },
   {
    "duration": 20,
    "start_time": "2022-08-16T11:35:00.359Z"
   },
   {
    "duration": 29,
    "start_time": "2022-08-16T11:35:00.382Z"
   },
   {
    "duration": 11,
    "start_time": "2022-08-16T11:35:00.414Z"
   },
   {
    "duration": 4,
    "start_time": "2022-08-16T11:35:00.427Z"
   },
   {
    "duration": 15,
    "start_time": "2022-08-16T11:35:00.433Z"
   },
   {
    "duration": 6,
    "start_time": "2022-08-16T11:35:00.450Z"
   },
   {
    "duration": 14,
    "start_time": "2022-08-16T11:35:00.457Z"
   },
   {
    "duration": 34,
    "start_time": "2022-08-16T11:35:00.472Z"
   },
   {
    "duration": 4,
    "start_time": "2022-08-16T11:35:00.508Z"
   },
   {
    "duration": 12,
    "start_time": "2022-08-16T11:35:00.514Z"
   },
   {
    "duration": 25,
    "start_time": "2022-08-16T11:35:00.528Z"
   },
   {
    "duration": 6,
    "start_time": "2022-08-16T11:35:00.555Z"
   },
   {
    "duration": 22,
    "start_time": "2022-08-16T11:35:00.562Z"
   },
   {
    "duration": 0,
    "start_time": "2022-08-16T11:35:00.586Z"
   },
   {
    "duration": 0,
    "start_time": "2022-08-16T11:35:00.587Z"
   },
   {
    "duration": 0,
    "start_time": "2022-08-16T11:35:00.589Z"
   },
   {
    "duration": 0,
    "start_time": "2022-08-16T11:35:00.590Z"
   },
   {
    "duration": 22,
    "start_time": "2022-08-16T11:36:40.135Z"
   },
   {
    "duration": 3,
    "start_time": "2022-08-16T11:47:42.714Z"
   },
   {
    "duration": 18,
    "start_time": "2022-08-16T11:47:44.568Z"
   },
   {
    "duration": 21,
    "start_time": "2022-08-16T11:47:53.584Z"
   },
   {
    "duration": 6,
    "start_time": "2022-08-16T11:47:56.614Z"
   },
   {
    "duration": 35,
    "start_time": "2022-08-16T11:48:13.624Z"
   },
   {
    "duration": 405,
    "start_time": "2022-08-16T11:49:29.193Z"
   },
   {
    "duration": 321,
    "start_time": "2022-08-16T11:51:01.032Z"
   },
   {
    "duration": 1053,
    "start_time": "2022-08-16T11:51:18.692Z"
   },
   {
    "duration": 236,
    "start_time": "2022-08-16T11:51:51.593Z"
   },
   {
    "duration": 304,
    "start_time": "2022-08-16T11:52:22.680Z"
   },
   {
    "duration": 1378,
    "start_time": "2022-08-16T11:53:07.612Z"
   },
   {
    "duration": 231,
    "start_time": "2022-08-16T11:54:42.551Z"
   },
   {
    "duration": 216,
    "start_time": "2022-08-16T11:54:55.831Z"
   },
   {
    "duration": 326,
    "start_time": "2022-08-16T12:09:02.169Z"
   },
   {
    "duration": 222,
    "start_time": "2022-08-16T12:09:50.029Z"
   },
   {
    "duration": 193,
    "start_time": "2022-08-16T12:12:07.689Z"
   },
   {
    "duration": 301,
    "start_time": "2022-08-16T12:13:36.150Z"
   },
   {
    "duration": 246,
    "start_time": "2022-08-16T12:14:05.930Z"
   },
   {
    "duration": 216,
    "start_time": "2022-08-16T12:16:29.813Z"
   },
   {
    "duration": 208,
    "start_time": "2022-08-16T12:16:42.049Z"
   },
   {
    "duration": 270,
    "start_time": "2022-08-16T12:17:04.009Z"
   },
   {
    "duration": 248,
    "start_time": "2022-08-16T12:17:24.630Z"
   },
   {
    "duration": 220,
    "start_time": "2022-08-16T12:21:30.928Z"
   },
   {
    "duration": 186,
    "start_time": "2022-08-16T12:23:08.588Z"
   },
   {
    "duration": 184,
    "start_time": "2022-08-16T12:27:42.790Z"
   },
   {
    "duration": 76,
    "start_time": "2022-08-16T12:28:25.448Z"
   },
   {
    "duration": 205,
    "start_time": "2022-08-16T12:28:54.707Z"
   },
   {
    "duration": 9,
    "start_time": "2022-08-16T12:29:36.389Z"
   },
   {
    "duration": 10,
    "start_time": "2022-08-16T12:29:59.847Z"
   },
   {
    "duration": 208,
    "start_time": "2022-08-16T12:30:02.590Z"
   },
   {
    "duration": 273,
    "start_time": "2022-08-16T12:30:28.597Z"
   },
   {
    "duration": 9,
    "start_time": "2022-08-16T12:30:59.327Z"
   },
   {
    "duration": 255,
    "start_time": "2022-08-16T12:31:04.757Z"
   },
   {
    "duration": 265,
    "start_time": "2022-08-16T12:32:11.647Z"
   },
   {
    "duration": 280,
    "start_time": "2022-08-16T12:32:59.853Z"
   },
   {
    "duration": 3,
    "start_time": "2022-08-16T12:33:09.387Z"
   },
   {
    "duration": 50,
    "start_time": "2022-08-16T12:33:09.392Z"
   },
   {
    "duration": 12,
    "start_time": "2022-08-16T12:33:09.444Z"
   },
   {
    "duration": 14,
    "start_time": "2022-08-16T12:33:09.458Z"
   },
   {
    "duration": 13,
    "start_time": "2022-08-16T12:33:09.474Z"
   },
   {
    "duration": 18,
    "start_time": "2022-08-16T12:33:09.488Z"
   },
   {
    "duration": 10,
    "start_time": "2022-08-16T12:33:09.508Z"
   },
   {
    "duration": 5,
    "start_time": "2022-08-16T12:33:09.520Z"
   },
   {
    "duration": 11,
    "start_time": "2022-08-16T12:33:09.526Z"
   },
   {
    "duration": 48,
    "start_time": "2022-08-16T12:33:09.538Z"
   },
   {
    "duration": 3,
    "start_time": "2022-08-16T12:33:09.589Z"
   },
   {
    "duration": 53692,
    "start_time": "2022-08-16T12:33:09.594Z"
   },
   {
    "duration": 16,
    "start_time": "2022-08-16T12:34:03.287Z"
   },
   {
    "duration": 4,
    "start_time": "2022-08-16T12:34:03.306Z"
   },
   {
    "duration": 16,
    "start_time": "2022-08-16T12:34:03.312Z"
   },
   {
    "duration": 6,
    "start_time": "2022-08-16T12:34:03.330Z"
   },
   {
    "duration": 35,
    "start_time": "2022-08-16T12:34:03.338Z"
   },
   {
    "duration": 55901,
    "start_time": "2022-08-16T12:34:03.374Z"
   },
   {
    "duration": 6,
    "start_time": "2022-08-16T12:34:59.277Z"
   },
   {
    "duration": 21,
    "start_time": "2022-08-16T12:34:59.284Z"
   },
   {
    "duration": 12,
    "start_time": "2022-08-16T12:34:59.307Z"
   },
   {
    "duration": 4,
    "start_time": "2022-08-16T12:34:59.320Z"
   },
   {
    "duration": 14,
    "start_time": "2022-08-16T12:34:59.326Z"
   },
   {
    "duration": 4,
    "start_time": "2022-08-16T12:34:59.342Z"
   },
   {
    "duration": 4,
    "start_time": "2022-08-16T12:34:59.368Z"
   },
   {
    "duration": 19,
    "start_time": "2022-08-16T12:34:59.374Z"
   },
   {
    "duration": 5,
    "start_time": "2022-08-16T12:34:59.395Z"
   },
   {
    "duration": 17,
    "start_time": "2022-08-16T12:34:59.402Z"
   },
   {
    "duration": 22,
    "start_time": "2022-08-16T12:34:59.421Z"
   },
   {
    "duration": 26,
    "start_time": "2022-08-16T12:34:59.444Z"
   },
   {
    "duration": 18,
    "start_time": "2022-08-16T12:34:59.472Z"
   },
   {
    "duration": 4,
    "start_time": "2022-08-16T12:34:59.492Z"
   },
   {
    "duration": 20,
    "start_time": "2022-08-16T12:34:59.498Z"
   },
   {
    "duration": 22,
    "start_time": "2022-08-16T12:34:59.520Z"
   },
   {
    "duration": 23,
    "start_time": "2022-08-16T12:34:59.544Z"
   },
   {
    "duration": 338,
    "start_time": "2022-08-16T12:34:59.569Z"
   },
   {
    "duration": 304,
    "start_time": "2022-08-16T12:34:59.909Z"
   },
   {
    "duration": 1012,
    "start_time": "2022-08-16T12:35:00.215Z"
   },
   {
    "duration": 339,
    "start_time": "2022-08-16T12:35:01.229Z"
   },
   {
    "duration": 213,
    "start_time": "2022-08-16T12:35:01.570Z"
   },
   {
    "duration": 253,
    "start_time": "2022-08-16T12:35:20.807Z"
   },
   {
    "duration": 295,
    "start_time": "2022-08-16T12:35:36.848Z"
   },
   {
    "duration": 255,
    "start_time": "2022-08-16T12:35:56.947Z"
   },
   {
    "duration": 193,
    "start_time": "2022-08-16T12:36:49.127Z"
   },
   {
    "duration": 308,
    "start_time": "2022-08-16T12:36:55.372Z"
   },
   {
    "duration": 193,
    "start_time": "2022-08-16T12:38:43.719Z"
   },
   {
    "duration": 5,
    "start_time": "2022-08-16T12:49:08.547Z"
   },
   {
    "duration": 137,
    "start_time": "2022-08-16T12:50:53.086Z"
   },
   {
    "duration": 298,
    "start_time": "2022-08-16T12:51:00.074Z"
   },
   {
    "duration": 286,
    "start_time": "2022-08-16T12:51:29.827Z"
   },
   {
    "duration": 109,
    "start_time": "2022-08-16T14:50:06.232Z"
   },
   {
    "duration": 159,
    "start_time": "2022-08-16T14:50:24.833Z"
   },
   {
    "duration": 253,
    "start_time": "2022-08-16T14:50:27.592Z"
   },
   {
    "duration": 849,
    "start_time": "2022-08-16T14:51:01.758Z"
   },
   {
    "duration": 151,
    "start_time": "2022-08-16T14:53:11.823Z"
   },
   {
    "duration": 215,
    "start_time": "2022-08-16T14:53:26.869Z"
   },
   {
    "duration": 196,
    "start_time": "2022-08-16T14:53:49.773Z"
   },
   {
    "duration": 88,
    "start_time": "2022-08-16T14:54:40.433Z"
   },
   {
    "duration": 547,
    "start_time": "2022-08-16T15:03:16.325Z"
   },
   {
    "duration": 482,
    "start_time": "2022-08-16T15:04:34.374Z"
   },
   {
    "duration": 586,
    "start_time": "2022-08-16T15:09:35.355Z"
   },
   {
    "duration": 470,
    "start_time": "2022-08-16T15:09:40.913Z"
   },
   {
    "duration": 486,
    "start_time": "2022-08-16T16:28:48.540Z"
   },
   {
    "duration": 616,
    "start_time": "2022-08-16T16:45:26.875Z"
   },
   {
    "duration": 444,
    "start_time": "2022-08-16T16:48:14.285Z"
   },
   {
    "duration": 77,
    "start_time": "2022-08-16T16:54:57.890Z"
   },
   {
    "duration": 79,
    "start_time": "2022-08-16T16:55:44.209Z"
   },
   {
    "duration": 4,
    "start_time": "2022-08-16T16:56:34.377Z"
   },
   {
    "duration": 63,
    "start_time": "2022-08-16T16:56:34.383Z"
   },
   {
    "duration": 15,
    "start_time": "2022-08-16T16:56:34.448Z"
   },
   {
    "duration": 23,
    "start_time": "2022-08-16T16:56:34.465Z"
   },
   {
    "duration": 14,
    "start_time": "2022-08-16T16:56:34.492Z"
   },
   {
    "duration": 31,
    "start_time": "2022-08-16T16:56:34.508Z"
   },
   {
    "duration": 32,
    "start_time": "2022-08-16T16:56:34.541Z"
   },
   {
    "duration": 6,
    "start_time": "2022-08-16T16:56:34.575Z"
   },
   {
    "duration": 11,
    "start_time": "2022-08-16T16:56:34.583Z"
   },
   {
    "duration": 20,
    "start_time": "2022-08-16T16:56:34.596Z"
   },
   {
    "duration": 3,
    "start_time": "2022-08-16T16:56:34.618Z"
   },
   {
    "duration": 53590,
    "start_time": "2022-08-16T16:56:34.622Z"
   },
   {
    "duration": 18,
    "start_time": "2022-08-16T16:57:28.213Z"
   },
   {
    "duration": 4,
    "start_time": "2022-08-16T16:57:28.234Z"
   },
   {
    "duration": 31,
    "start_time": "2022-08-16T16:57:28.240Z"
   },
   {
    "duration": 4,
    "start_time": "2022-08-16T16:57:28.273Z"
   },
   {
    "duration": 21,
    "start_time": "2022-08-16T16:57:28.279Z"
   },
   {
    "duration": 55524,
    "start_time": "2022-08-16T16:57:28.302Z"
   },
   {
    "duration": 6,
    "start_time": "2022-08-16T16:58:23.828Z"
   },
   {
    "duration": 18,
    "start_time": "2022-08-16T16:58:23.835Z"
   },
   {
    "duration": 22,
    "start_time": "2022-08-16T16:58:23.854Z"
   },
   {
    "duration": 6,
    "start_time": "2022-08-16T16:58:23.878Z"
   },
   {
    "duration": 11,
    "start_time": "2022-08-16T16:58:23.886Z"
   },
   {
    "duration": 4,
    "start_time": "2022-08-16T16:58:23.898Z"
   },
   {
    "duration": 8,
    "start_time": "2022-08-16T16:58:23.903Z"
   },
   {
    "duration": 21,
    "start_time": "2022-08-16T16:58:23.913Z"
   },
   {
    "duration": 5,
    "start_time": "2022-08-16T16:58:23.935Z"
   },
   {
    "duration": 28,
    "start_time": "2022-08-16T16:58:23.941Z"
   },
   {
    "duration": 18,
    "start_time": "2022-08-16T16:58:23.971Z"
   },
   {
    "duration": 5,
    "start_time": "2022-08-16T16:58:23.991Z"
   },
   {
    "duration": 17,
    "start_time": "2022-08-16T16:58:23.997Z"
   },
   {
    "duration": 3,
    "start_time": "2022-08-16T16:58:24.016Z"
   },
   {
    "duration": 15,
    "start_time": "2022-08-16T16:58:24.020Z"
   },
   {
    "duration": 33,
    "start_time": "2022-08-16T16:58:24.037Z"
   },
   {
    "duration": 7,
    "start_time": "2022-08-16T16:58:24.071Z"
   },
   {
    "duration": 365,
    "start_time": "2022-08-16T16:58:24.080Z"
   },
   {
    "duration": 441,
    "start_time": "2022-08-16T16:58:24.447Z"
   },
   {
    "duration": 1206,
    "start_time": "2022-08-16T16:58:24.891Z"
   },
   {
    "duration": 257,
    "start_time": "2022-08-16T16:58:26.100Z"
   },
   {
    "duration": 279,
    "start_time": "2022-08-16T16:58:26.360Z"
   },
   {
    "duration": 393,
    "start_time": "2022-08-16T16:58:26.645Z"
   },
   {
    "duration": 7,
    "start_time": "2022-08-16T16:58:27.040Z"
   },
   {
    "duration": 245,
    "start_time": "2022-08-16T16:58:27.049Z"
   },
   {
    "duration": 186,
    "start_time": "2022-08-16T16:58:27.297Z"
   },
   {
    "duration": 203,
    "start_time": "2022-08-16T16:58:27.486Z"
   },
   {
    "duration": 1081,
    "start_time": "2022-08-16T16:58:27.691Z"
   },
   {
    "duration": 256,
    "start_time": "2022-08-16T16:58:28.775Z"
   },
   {
    "duration": 250,
    "start_time": "2022-08-16T16:58:29.033Z"
   },
   {
    "duration": 583,
    "start_time": "2022-08-16T16:58:29.285Z"
   },
   {
    "duration": 599,
    "start_time": "2022-08-16T16:58:29.870Z"
   },
   {
    "duration": 583,
    "start_time": "2022-08-16T16:58:30.471Z"
   },
   {
    "duration": 6,
    "start_time": "2022-08-16T17:02:48.547Z"
   },
   {
    "duration": 7,
    "start_time": "2022-08-16T17:03:42.557Z"
   },
   {
    "duration": 9,
    "start_time": "2022-08-16T17:04:06.711Z"
   },
   {
    "duration": 6,
    "start_time": "2022-08-16T17:06:09.857Z"
   },
   {
    "duration": 8,
    "start_time": "2022-08-16T17:07:28.822Z"
   },
   {
    "duration": 73,
    "start_time": "2022-08-16T17:08:43.107Z"
   },
   {
    "duration": 137,
    "start_time": "2022-08-16T17:13:11.758Z"
   },
   {
    "duration": 114,
    "start_time": "2022-08-16T17:13:17.643Z"
   },
   {
    "duration": 3,
    "start_time": "2022-08-16T17:14:51.163Z"
   },
   {
    "duration": 59,
    "start_time": "2022-08-16T17:14:51.168Z"
   },
   {
    "duration": 15,
    "start_time": "2022-08-16T17:14:51.229Z"
   },
   {
    "duration": 29,
    "start_time": "2022-08-16T17:14:51.245Z"
   },
   {
    "duration": 17,
    "start_time": "2022-08-16T17:14:51.277Z"
   },
   {
    "duration": 21,
    "start_time": "2022-08-16T17:14:51.296Z"
   },
   {
    "duration": 28,
    "start_time": "2022-08-16T17:14:51.319Z"
   },
   {
    "duration": 8,
    "start_time": "2022-08-16T17:14:51.348Z"
   },
   {
    "duration": 20,
    "start_time": "2022-08-16T17:14:51.358Z"
   },
   {
    "duration": 126,
    "start_time": "2022-08-16T17:14:51.380Z"
   },
   {
    "duration": 59399,
    "start_time": "2022-08-16T17:47:06.549Z"
   },
   {
    "duration": 3,
    "start_time": "2022-08-16T17:52:49.810Z"
   },
   {
    "duration": 67,
    "start_time": "2022-08-16T17:52:49.816Z"
   },
   {
    "duration": 19,
    "start_time": "2022-08-16T17:52:49.885Z"
   },
   {
    "duration": 25,
    "start_time": "2022-08-16T17:52:49.906Z"
   },
   {
    "duration": 44,
    "start_time": "2022-08-16T17:52:49.934Z"
   },
   {
    "duration": 39,
    "start_time": "2022-08-16T17:52:49.980Z"
   },
   {
    "duration": 13,
    "start_time": "2022-08-16T17:52:50.022Z"
   },
   {
    "duration": 33,
    "start_time": "2022-08-16T17:52:50.037Z"
   },
   {
    "duration": 11,
    "start_time": "2022-08-16T17:52:50.073Z"
   },
   {
    "duration": 25,
    "start_time": "2022-08-16T17:52:50.087Z"
   },
   {
    "duration": 1265,
    "start_time": "2022-08-16T17:53:22.076Z"
   },
   {
    "duration": 56,
    "start_time": "2022-08-16T17:53:23.343Z"
   },
   {
    "duration": 16,
    "start_time": "2022-08-16T17:53:23.401Z"
   },
   {
    "duration": 20,
    "start_time": "2022-08-16T17:53:23.419Z"
   },
   {
    "duration": 32,
    "start_time": "2022-08-16T17:53:23.442Z"
   },
   {
    "duration": 27,
    "start_time": "2022-08-16T17:53:23.476Z"
   },
   {
    "duration": 17,
    "start_time": "2022-08-16T17:53:23.505Z"
   },
   {
    "duration": 9,
    "start_time": "2022-08-16T17:53:23.524Z"
   },
   {
    "duration": 11,
    "start_time": "2022-08-16T17:53:23.535Z"
   },
   {
    "duration": 37,
    "start_time": "2022-08-16T17:53:23.548Z"
   },
   {
    "duration": 57506,
    "start_time": "2022-08-16T17:53:30.972Z"
   },
   {
    "duration": 82,
    "start_time": "2022-08-16T17:57:40.996Z"
   },
   {
    "duration": 3,
    "start_time": "2022-08-16T18:03:25.276Z"
   },
   {
    "duration": 63,
    "start_time": "2022-08-16T18:03:25.281Z"
   },
   {
    "duration": 14,
    "start_time": "2022-08-16T18:03:25.346Z"
   },
   {
    "duration": 17,
    "start_time": "2022-08-16T18:03:25.361Z"
   },
   {
    "duration": 14,
    "start_time": "2022-08-16T18:03:25.380Z"
   },
   {
    "duration": 21,
    "start_time": "2022-08-16T18:03:25.396Z"
   },
   {
    "duration": 12,
    "start_time": "2022-08-16T18:03:25.419Z"
   },
   {
    "duration": 10,
    "start_time": "2022-08-16T18:03:25.433Z"
   },
   {
    "duration": 29,
    "start_time": "2022-08-16T18:03:25.445Z"
   },
   {
    "duration": 18,
    "start_time": "2022-08-16T18:03:25.476Z"
   },
   {
    "duration": 51460,
    "start_time": "2022-08-16T18:03:25.497Z"
   },
   {
    "duration": 21,
    "start_time": "2022-08-16T18:04:16.959Z"
   },
   {
    "duration": 5,
    "start_time": "2022-08-16T18:04:16.982Z"
   },
   {
    "duration": 12,
    "start_time": "2022-08-16T18:04:16.990Z"
   },
   {
    "duration": 4,
    "start_time": "2022-08-16T18:04:17.004Z"
   },
   {
    "duration": 19,
    "start_time": "2022-08-16T18:04:17.010Z"
   },
   {
    "duration": 54260,
    "start_time": "2022-08-16T18:04:17.030Z"
   },
   {
    "duration": 5,
    "start_time": "2022-08-16T18:05:11.292Z"
   },
   {
    "duration": 13,
    "start_time": "2022-08-16T18:05:11.299Z"
   },
   {
    "duration": 12,
    "start_time": "2022-08-16T18:05:11.314Z"
   },
   {
    "duration": 4,
    "start_time": "2022-08-16T18:05:11.328Z"
   },
   {
    "duration": 39,
    "start_time": "2022-08-16T18:05:11.334Z"
   },
   {
    "duration": 4,
    "start_time": "2022-08-16T18:05:11.375Z"
   },
   {
    "duration": 6,
    "start_time": "2022-08-16T18:05:11.381Z"
   },
   {
    "duration": 15,
    "start_time": "2022-08-16T18:05:11.389Z"
   },
   {
    "duration": 5,
    "start_time": "2022-08-16T18:05:11.406Z"
   },
   {
    "duration": 13,
    "start_time": "2022-08-16T18:05:11.413Z"
   },
   {
    "duration": 43,
    "start_time": "2022-08-16T18:05:11.428Z"
   },
   {
    "duration": 6,
    "start_time": "2022-08-16T18:05:11.472Z"
   },
   {
    "duration": 25,
    "start_time": "2022-08-16T18:05:11.480Z"
   },
   {
    "duration": 7,
    "start_time": "2022-08-16T18:05:11.508Z"
   },
   {
    "duration": 15,
    "start_time": "2022-08-16T18:05:11.517Z"
   },
   {
    "duration": 5,
    "start_time": "2022-08-16T18:05:11.534Z"
   },
   {
    "duration": 6,
    "start_time": "2022-08-16T18:05:11.568Z"
   },
   {
    "duration": 393,
    "start_time": "2022-08-16T18:05:11.576Z"
   },
   {
    "duration": 302,
    "start_time": "2022-08-16T18:05:11.971Z"
   },
   {
    "duration": 995,
    "start_time": "2022-08-16T18:05:12.274Z"
   },
   {
    "duration": 251,
    "start_time": "2022-08-16T18:05:13.270Z"
   },
   {
    "duration": 279,
    "start_time": "2022-08-16T18:05:13.523Z"
   },
   {
    "duration": 280,
    "start_time": "2022-08-16T18:05:13.804Z"
   },
   {
    "duration": 5,
    "start_time": "2022-08-16T18:05:14.088Z"
   },
   {
    "duration": 200,
    "start_time": "2022-08-16T18:05:56.855Z"
   },
   {
    "duration": 165,
    "start_time": "2022-08-16T18:05:57.057Z"
   },
   {
    "duration": 173,
    "start_time": "2022-08-16T18:05:57.223Z"
   },
   {
    "duration": 773,
    "start_time": "2022-08-16T18:05:57.398Z"
   },
   {
    "duration": 212,
    "start_time": "2022-08-16T18:05:58.174Z"
   },
   {
    "duration": 213,
    "start_time": "2022-08-16T18:05:58.388Z"
   },
   {
    "duration": 566,
    "start_time": "2022-08-16T18:05:58.603Z"
   },
   {
    "duration": 499,
    "start_time": "2022-08-16T18:05:59.170Z"
   },
   {
    "duration": 463,
    "start_time": "2022-08-16T18:05:59.671Z"
   },
   {
    "duration": 7,
    "start_time": "2022-08-16T18:06:00.136Z"
   },
   {
    "duration": 13,
    "start_time": "2022-08-16T18:06:00.145Z"
   },
   {
    "duration": 13,
    "start_time": "2022-08-16T18:06:00.160Z"
   },
   {
    "duration": 9,
    "start_time": "2022-08-16T18:06:00.175Z"
   },
   {
    "duration": 1137,
    "start_time": "2022-08-16T19:29:51.660Z"
   },
   {
    "duration": 57,
    "start_time": "2022-08-16T19:29:52.799Z"
   },
   {
    "duration": 17,
    "start_time": "2022-08-16T19:29:52.859Z"
   },
   {
    "duration": 45,
    "start_time": "2022-08-16T19:29:52.878Z"
   },
   {
    "duration": 17,
    "start_time": "2022-08-16T19:29:52.925Z"
   },
   {
    "duration": 37,
    "start_time": "2022-08-16T19:29:52.944Z"
   },
   {
    "duration": 19,
    "start_time": "2022-08-16T19:29:52.983Z"
   },
   {
    "duration": 23,
    "start_time": "2022-08-16T19:29:53.005Z"
   },
   {
    "duration": 39,
    "start_time": "2022-08-16T19:29:53.029Z"
   },
   {
    "duration": 41,
    "start_time": "2022-08-16T19:29:53.071Z"
   },
   {
    "duration": 1136,
    "start_time": "2022-09-22T10:52:27.646Z"
   },
   {
    "duration": 92,
    "start_time": "2022-09-22T10:52:28.784Z"
   },
   {
    "duration": 17,
    "start_time": "2022-09-22T10:52:28.877Z"
   },
   {
    "duration": 26,
    "start_time": "2022-09-22T10:52:28.896Z"
   },
   {
    "duration": 15,
    "start_time": "2022-09-22T10:52:28.925Z"
   },
   {
    "duration": 43,
    "start_time": "2022-09-22T10:52:28.942Z"
   },
   {
    "duration": 11,
    "start_time": "2022-09-22T10:52:28.987Z"
   },
   {
    "duration": 4,
    "start_time": "2022-09-22T10:52:29.000Z"
   },
   {
    "duration": 10,
    "start_time": "2022-09-22T10:52:29.006Z"
   },
   {
    "duration": 20,
    "start_time": "2022-09-22T10:52:29.018Z"
   },
   {
    "duration": 50266,
    "start_time": "2022-09-22T10:52:29.040Z"
   },
   {
    "duration": 17,
    "start_time": "2022-09-22T10:53:19.308Z"
   },
   {
    "duration": 4,
    "start_time": "2022-09-22T10:53:19.328Z"
   },
   {
    "duration": 11,
    "start_time": "2022-09-22T10:53:19.337Z"
   },
   {
    "duration": 29,
    "start_time": "2022-09-22T10:53:19.349Z"
   },
   {
    "duration": 19,
    "start_time": "2022-09-22T10:53:19.380Z"
   },
   {
    "duration": 53655,
    "start_time": "2022-09-22T10:53:19.401Z"
   },
   {
    "duration": 7,
    "start_time": "2022-09-22T10:54:13.057Z"
   },
   {
    "duration": 56,
    "start_time": "2022-09-22T10:54:13.066Z"
   },
   {
    "duration": 16,
    "start_time": "2022-09-22T10:54:13.125Z"
   },
   {
    "duration": 16,
    "start_time": "2022-09-22T10:54:13.143Z"
   },
   {
    "duration": 18,
    "start_time": "2022-09-22T10:54:13.161Z"
   },
   {
    "duration": 22,
    "start_time": "2022-09-22T10:54:13.181Z"
   },
   {
    "duration": 34,
    "start_time": "2022-09-22T10:54:13.204Z"
   },
   {
    "duration": 27,
    "start_time": "2022-09-22T10:54:13.240Z"
   },
   {
    "duration": 20,
    "start_time": "2022-09-22T10:54:13.269Z"
   },
   {
    "duration": 9,
    "start_time": "2022-09-22T10:54:13.292Z"
   },
   {
    "duration": 30,
    "start_time": "2022-09-22T10:54:13.303Z"
   },
   {
    "duration": 7,
    "start_time": "2022-09-22T10:54:13.334Z"
   },
   {
    "duration": 40,
    "start_time": "2022-09-22T10:54:13.342Z"
   },
   {
    "duration": 5,
    "start_time": "2022-09-22T10:54:13.384Z"
   },
   {
    "duration": 22,
    "start_time": "2022-09-22T10:54:13.391Z"
   },
   {
    "duration": 16,
    "start_time": "2022-09-22T10:54:13.415Z"
   },
   {
    "duration": 26,
    "start_time": "2022-09-22T10:54:13.433Z"
   },
   {
    "duration": 377,
    "start_time": "2022-09-22T10:54:13.461Z"
   },
   {
    "duration": 317,
    "start_time": "2022-09-22T10:54:13.841Z"
   },
   {
    "duration": 1061,
    "start_time": "2022-09-22T10:54:14.159Z"
   },
   {
    "duration": 247,
    "start_time": "2022-09-22T10:54:15.221Z"
   },
   {
    "duration": 321,
    "start_time": "2022-09-22T10:54:15.470Z"
   },
   {
    "duration": 294,
    "start_time": "2022-09-22T10:54:15.793Z"
   },
   {
    "duration": 5,
    "start_time": "2022-09-22T10:54:16.091Z"
   },
   {
    "duration": 223,
    "start_time": "2022-09-22T10:54:16.097Z"
   },
   {
    "duration": 172,
    "start_time": "2022-09-22T10:54:16.322Z"
   },
   {
    "duration": 177,
    "start_time": "2022-09-22T10:54:16.495Z"
   },
   {
    "duration": 865,
    "start_time": "2022-09-22T10:54:16.677Z"
   },
   {
    "duration": 230,
    "start_time": "2022-09-22T10:54:17.543Z"
   },
   {
    "duration": 221,
    "start_time": "2022-09-22T10:54:17.776Z"
   },
   {
    "duration": 575,
    "start_time": "2022-09-22T10:54:17.998Z"
   },
   {
    "duration": 508,
    "start_time": "2022-09-22T10:54:18.576Z"
   },
   {
    "duration": 468,
    "start_time": "2022-09-22T10:54:19.086Z"
   },
   {
    "duration": 7,
    "start_time": "2022-09-22T10:54:19.556Z"
   },
   {
    "duration": 14,
    "start_time": "2022-09-22T10:54:19.565Z"
   },
   {
    "duration": 11,
    "start_time": "2022-09-22T10:54:19.581Z"
   },
   {
    "duration": 7,
    "start_time": "2022-09-22T10:54:19.594Z"
   }
  ],
  "kernelspec": {
   "display_name": "Python 3 (ipykernel)",
   "language": "python",
   "name": "python3"
  },
  "language_info": {
   "codemirror_mode": {
    "name": "ipython",
    "version": 3
   },
   "file_extension": ".py",
   "mimetype": "text/x-python",
   "name": "python",
   "nbconvert_exporter": "python",
   "pygments_lexer": "ipython3",
   "version": "3.9.13"
  },
  "toc": {
   "base_numbering": 1,
   "nav_menu": {},
   "number_sections": true,
   "sideBar": true,
   "skip_h1_title": true,
   "title_cell": "Table of Contents",
   "title_sidebar": "Contents",
   "toc_cell": false,
   "toc_position": {},
   "toc_section_display": true,
   "toc_window_display": false
  }
 },
 "nbformat": 4,
 "nbformat_minor": 2
}
